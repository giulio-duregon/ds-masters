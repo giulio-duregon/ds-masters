{
 "cells": [
  {
   "cell_type": "code",
   "execution_count": 1,
   "id": "1bbbc702",
   "metadata": {},
   "outputs": [],
   "source": [
    "import pandas as pd\n",
    "import torch\n",
    "import unittest\n",
    "\n",
    "from boolq import BoolQDataset\n",
    "from transformers import RobertaTokenizerFast\n",
    "\n",
    "\n",
    "class TestBoolQDataset(unittest.TestCase):\n",
    "    @classmethod\n",
    "    def setUpClass(self):\n",
    "        self.tokenizer = RobertaTokenizerFast.from_pretrained(\"roberta-base\")\n",
    "        self.dataset = pd.DataFrame.from_dict(\n",
    "            {\n",
    "                \"question\": [\"question 0\", \"question 1\"],\n",
    "                \"passage\": [\"passage 0\", \"passage 1\"],\n",
    "                \"idx\": [0, 1],\n",
    "                \"label\": [True, False],\n",
    "            }\n",
    "        )\n",
    "        self.max_seq_len = 4\n",
    "        self.boolq_dataset = BoolQDataset(\n",
    "            self.dataset, self.tokenizer, self.max_seq_len\n",
    "        )\n",
    "\n",
    "    def test_len(self):\n",
    "        ## TODO: Test that the length of self.boolq_dataset is correct.\n",
    "        ## len(self.boolq_dataset) should equal len(self.dataset).\n",
    "        self.assertTrue(len(self.boolq_dataset) == len(self.dataset))\n",
    "\n",
    "    def test_item(self):\n",
    "        ## TODO: Test that, for each element of self.boolq_dataset, \n",
    "        ## the output of __getitem__ (accessible via self.boolq_dataset[idx])\n",
    "        ## has the correct keys, value dimensions, and value types.\n",
    "        ## Each item should have keys [\"input_ids\", \"attention_mask\", \"labels\"].\n",
    "        ## The input_ids and attention_mask values should both have length self.max_seq_len\n",
    "        ## and type torch.long. The labels value should be a single numeric value.\n",
    "\n",
    "        for i in range(len(self.boolq_dataset)):\n",
    "            self.assertTrue(self.boolq_dataset[i].keys() == [\"input_ids\", \"attention_mask\", \"labels\"])\n",
    "            self.assertTrue(len(self.boolq_dataset[i]['input_ids']) == self.max_seq_len)\n",
    "            #TO DO: Assert the type as well\n",
    "            #self.assertTrue(len(self.boolq_dataset[i]['attention_mask']) == self.max_seq_len)\n",
    "            self.assertTrue(len(self.boolq_dataset[i]['attention_mask']) == self.max_seq_len)\n",
    "            self.assertTrue(len(self.boolq_dataset[i]['labels']) in [0,1])\n",
    "\n"
   ]
  },
  {
   "cell_type": "code",
   "execution_count": 4,
   "id": "aa15f879",
   "metadata": {},
   "outputs": [],
   "source": [
    "test = TestBoolQDataset()\n",
    "test.setUpClass()"
   ]
  },
  {
   "cell_type": "code",
   "execution_count": 5,
   "id": "c97f76bb",
   "metadata": {},
   "outputs": [],
   "source": [
    "test.test_len()"
   ]
  },
  {
   "cell_type": "code",
   "execution_count": null,
   "id": "702ff568",
   "metadata": {},
   "outputs": [],
   "source": []
  }
 ],
 "metadata": {
  "kernelspec": {
   "display_name": "Python 3 (ipykernel)",
   "language": "python",
   "name": "python3"
  },
  "language_info": {
   "codemirror_mode": {
    "name": "ipython",
    "version": 3
   },
   "file_extension": ".py",
   "mimetype": "text/x-python",
   "name": "python",
   "nbconvert_exporter": "python",
   "pygments_lexer": "ipython3",
   "version": "3.9.7"
  }
 },
 "nbformat": 4,
 "nbformat_minor": 5
}
