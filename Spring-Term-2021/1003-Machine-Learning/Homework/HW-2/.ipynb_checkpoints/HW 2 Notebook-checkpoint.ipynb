{
 "cells": [
  {
   "cell_type": "code",
   "execution_count": 1,
   "id": "f41f5dcf",
   "metadata": {},
   "outputs": [],
   "source": [
    "import sys\n",
    "import numpy as np\n",
    "import pandas as pd\n",
    "import matplotlib.pyplot as plt\n",
    "from sklearn.model_selection import train_test_split\n",
    "import warnings\n",
    "warnings.filterwarnings('ignore')"
   ]
  },
  {
   "cell_type": "code",
   "execution_count": 2,
   "id": "2358eea8",
   "metadata": {},
   "outputs": [],
   "source": [
    "# #######################################\n",
    "# ### Generic gradient checker\n",
    "# def generic_gradient_checker(X, y, theta, objective_func, gradient_func, \n",
    "#                              epsilon=0.01, tolerance=1e-4):\n",
    "#     \"\"\"\n",
    "#     The functions takes objective_func and gradient_func as parameters. \n",
    "#     And check whether gradient_func(X, y, theta) returned the true \n",
    "#     gradient for objective_func(X, y, theta).\n",
    "#     Eg: In LSR, the objective_func = compute_square_loss, and gradient_func = compute_square_loss_gradient\n",
    "#     \"\"\"\n",
    "#     #TODO\n",
    "\n",
    "#######################################\n",
    "### The gradient of regularized batch gradient descent\n",
    "def compute_regularized_square_loss_gradient(X, y, theta, lambda_reg):\n",
    "    \"\"\"\n",
    "    Compute the gradient of L2-regularized average square loss function given X, y and theta\n",
    "\n",
    "    Args:\n",
    "        X - the feature vector, 2D numpy array of size(num_instances, num_features)\n",
    "        y - the label vector, 1D numpy array of size(num_instances)\n",
    "        theta - the parameter vector, 1D numpy array of size(num_features)\n",
    "        lambda_reg - the regularization coefficient\n",
    "\n",
    "    Returns:\n",
    "        grad - gradient vector, 1D numpy array of size(num_features)\n",
    "    \"\"\"\n",
    "    #TODO\n",
    "\n",
    "\n",
    "#######################################\n",
    "### Regularized batch gradient descent\n",
    "def regularized_grad_descent(X, y, alpha=0.05, lambda_reg=10**-2, num_step=1000):\n",
    "    \"\"\"\n",
    "    Args:\n",
    "        X - the feature vector, 2D numpy array of size(num_instances, num_features)\n",
    "        y - the label vector, 1D numpy array of size(num_instances)\n",
    "        alpha - step size in gradient descent\n",
    "        lambda_reg - the regularization coefficient\n",
    "        num_step - number of steps to run\n",
    "    \n",
    "    Returns:\n",
    "        theta_hist - the history of parameter vector, 2D numpy array of size(num_step+1, num_features)\n",
    "                     for instance, theta in step 0 should be theta_hist[0], theta in step(num_step+1) is theta_hist[-1]\n",
    "        loss hist - the history of average square loss function without the regularization term, 1D numpy array.\n",
    "    \"\"\"\n",
    "    num_instances, num_features = X.shape[0], X.shape[1]\n",
    "    theta = np.zeros(num_features) #Initialize theta\n",
    "    theta_hist = np.zeros((num_step+1, num_features)) #Initialize theta_hist\n",
    "    loss_hist = np.zeros(num_step+1) #Initialize loss_hist\n",
    "    #TODO\n",
    "\n",
    "\n",
    "\n",
    "#######################################\n",
    "### Stochastic gradient descent\n",
    "def stochastic_grad_descent(X, y, alpha=0.01, lambda_reg=10**-2, num_epoch=1000, eta0=False):\n",
    "    \"\"\"\n",
    "    In this question you will implement stochastic gradient descent with regularization term\n",
    "\n",
    "    Args:\n",
    "        X - the feature vector, 2D numpy array of size(num_instances, num_features)\n",
    "        y - the label vector, 1D numpy array of size(num_instances)\n",
    "        alpha - string or float, step size in gradient descent\n",
    "                NOTE: In SGD, it's not a good idea to use a fixed step size. Usually it's set to 1/sqrt(t) or 1/t\n",
    "                if alpha is a float, then the step size in every step is the float.\n",
    "                if alpha == \"1/sqrt(t)\", alpha = 1/sqrt(t).\n",
    "                if alpha == \"1/t\", alpha = 1/t.\n",
    "        lambda_reg - the regularization coefficient\n",
    "        num_epoch - number of epochs to go through the whole training set\n",
    "\n",
    "    Returns:\n",
    "        theta_hist - the history of parameter vector, 3D numpy array of size(num_epoch, num_instances, num_features)\n",
    "                     for instance, theta in epoch 0 should be theta_hist[0], theta in epoch(num_epoch) is theta_hist[-1]\n",
    "        loss hist - the history of loss function vector, 2D numpy array of size(num_epoch, num_instances)\n",
    "    \"\"\"\n",
    "    num_instances, num_features = X.shape[0], X.shape[1]\n",
    "    theta = np.ones(num_features) #Initialize theta\n",
    "\n",
    "    theta_hist = np.zeros((num_epoch, num_instances, num_features)) #Initialize theta_hist\n",
    "    loss_hist = np.zeros((num_epoch, num_instances)) #Initialize loss_hist\n",
    "    #TODO\n",
    "\n",
    "\n",
    "def load_data():\n",
    "    #Loading the dataset\n",
    "    print('loading the dataset')\n",
    "\n",
    "    df = pd.read_csv('ridge_regression_dataset.csv', delimiter=',')\n",
    "    X = df.values[:,:-1]\n",
    "    y = df.values[:,-1]\n",
    "\n",
    "    print('Split into Train and Test')\n",
    "    X_train, X_test, y_train, y_test = train_test_split(X, y, test_size=100, random_state=10)\n",
    "    print(\"Scaling all to [0, 1]\")\n",
    "    X_train, X_test = feature_normalization(X_train, X_test)\n",
    "    X_train = np.hstack((X_train, np.ones((X_train.shape[0], 1))))  # Add bias term\n",
    "    X_test = np.hstack((X_test, np.ones((X_test.shape[0], 1))))\n",
    "    return X_train, y_train, X_test, y_test\n",
    "\n"
   ]
  },
  {
   "cell_type": "markdown",
   "id": "5c01b5ec",
   "metadata": {},
   "source": [
    "### Problem 4"
   ]
  },
  {
   "cell_type": "code",
   "execution_count": 3,
   "id": "e2fcceca",
   "metadata": {},
   "outputs": [],
   "source": [
    "#######################################\n",
    "### Feature normalization\n",
    "def feature_normalization(train, test):\n",
    "    \"\"\"Rescale the data so that each feature in the training set is in\n",
    "    the interval [0,1], and apply the same transformations to the test\n",
    "    set, using the statistics computed on the training set.\n",
    "\n",
    "    Args:\n",
    "        train - training set, a 2D numpy array of size(num_instances, num_features)\n",
    "        test - test set, a 2D numpy array of size(num_instances, num_features)\n",
    "\n",
    "    Returns:\n",
    "        train_normalized - training set after normalization\n",
    "        test_normalized - test set after normalization\n",
    "    \"\"\"\n",
    "    #Initialize return variables\n",
    "    train_normalized, test_normalized = [] , []\n",
    "    #Iterate over 2D array \n",
    "    for d in range(train.shape[1]):\n",
    "        #Grab subsets\n",
    "        train_temp = train[:,d]\n",
    "        test_temp = test[:,d]\n",
    "        train_min = train_temp.min()\n",
    "        train_max = train_temp.max()\n",
    "        #If the column is not filled with constants, we want to include them\n",
    "        if len(np.unique(train_temp)) > 1:\n",
    "            #Grab the columns, transform, and append to list (implicitly making them rows)\n",
    "            train_normalized.append((train_temp - train_min) / (train_max - train_min))\n",
    "            test_normalized.append((test_temp - train_min) / (train_max - train_min))\n",
    "            \n",
    "    #Reformat data type to np.array and Transpose so rows become columns\n",
    "    train_normalized, test_normalized = np.array(train_normalized).T, np.array(test_normalized).T  \n",
    "    #Return values\n",
    "    return train_normalized, train_normalized"
   ]
  },
  {
   "cell_type": "code",
   "execution_count": 4,
   "id": "7a5d6d89",
   "metadata": {},
   "outputs": [
    {
     "name": "stdout",
     "output_type": "stream",
     "text": [
      "loading the dataset\n",
      "Split into Train and Test\n",
      "Scaling all to [0, 1]\n"
     ]
    }
   ],
   "source": [
    "x_train, y_train, x_test, y_test = load_data()"
   ]
  },
  {
   "cell_type": "markdown",
   "id": "3fb068ea",
   "metadata": {},
   "source": [
    "### Problem 8"
   ]
  },
  {
   "cell_type": "code",
   "execution_count": 5,
   "id": "24afed3d",
   "metadata": {},
   "outputs": [],
   "source": [
    "#######################################\n",
    "### The square loss function\n",
    "def compute_square_loss(X, y, theta):\n",
    "    \"\"\"\n",
    "    Given a set of X, y, theta, compute the average square loss for predicting y with X*theta.\n",
    "\n",
    "    Args:\n",
    "        X - the feature vector, 2D numpy array of size(num_instances, num_features)\n",
    "        y - the label vector, 1D numpy array of size(num_instances)\n",
    "        theta - the parameter vector, 1D array of size(num_features)\n",
    "\n",
    "    Returns:\n",
    "        loss - the average square loss, scalar\n",
    "    \"\"\"\n",
    "    #Count number of rows\n",
    "    n = X.shape[0]\n",
    "    #Calculate y hat\n",
    "    y_hat = X @ theta\n",
    "    #Calculate sum of squares\n",
    "    sum_of_squares = sum((y_hat - y)**2)\n",
    "    #Return our calculated loss\n",
    "    loss = sum_of_squares/n\n",
    "    return loss"
   ]
  },
  {
   "cell_type": "markdown",
   "id": "0e36d110",
   "metadata": {},
   "source": [
    "### Problem 9"
   ]
  },
  {
   "cell_type": "code",
   "execution_count": 6,
   "id": "2c89fdd0",
   "metadata": {},
   "outputs": [],
   "source": [
    "#######################################\n",
    "### The gradient of the square loss function\n",
    "def compute_square_loss_gradient(X, y, theta):\n",
    "    \"\"\"\n",
    "    Compute the gradient of the average square loss(as defined in compute_square_loss), at the point theta.\n",
    "\n",
    "    Args:\n",
    "        X - the feature vector, 2D numpy array of size(num_instances, num_features)\n",
    "        y - the label vector, 1D numpy array of size(num_instances)\n",
    "        theta - the parameter vector, 1D numpy array of size(num_features)\n",
    "\n",
    "    Returns:\n",
    "        grad - gradient vector, 1D numpy array of size(num_features)\n",
    "    \"\"\"\n",
    "    #Calculate number of observations\n",
    "    m = X.shape[0]\n",
    "    #Calculate gradient using closed form solution from problem 6\n",
    "    gradient = ((X.T @ X @ theta) - (X.T @ y)) * 2/m\n",
    "    #Return gradient\n",
    "    return gradient"
   ]
  },
  {
   "cell_type": "code",
   "execution_count": 7,
   "id": "286ed503",
   "metadata": {},
   "outputs": [
    {
     "data": {
      "text/plain": [
       "array([28.91489956, 28.23401498, 27.54270698, 27.15547483, 26.79044229,\n",
       "       26.2615001 , 25.22612043, 25.22612043, 23.99473634, 21.92232292,\n",
       "       20.03426709, 18.99605077, 16.06064507, 13.86026622,  8.75229108,\n",
       "        7.74316284,  5.47239969,  0.94539041, 25.52886483, 25.52886483,\n",
       "       25.52886483, 23.65503091, 23.65503091, 23.65503091, 21.88679086,\n",
       "       21.88679086, 21.88679086, 21.06638937, 21.06638937, 21.06638937,\n",
       "       20.61085068, 20.61085068, 20.61085068, 12.95773737, 12.95773737,\n",
       "       12.95773737, 15.76888545, 15.76888545, 15.76888545, 17.37278406,\n",
       "       17.37278406, 17.37278406, 18.1013868 , 18.1013868 , 18.1013868 ,\n",
       "       18.50126224, 18.50126224, 18.50126224, 29.11914246])"
      ]
     },
     "execution_count": 7,
     "metadata": {},
     "output_type": "execute_result"
    }
   ],
   "source": [
    "compute_square_loss_gradient(x_train, y_train, np.random.rand(x_train.shape[1]))"
   ]
  },
  {
   "cell_type": "markdown",
   "id": "b1a0f77d",
   "metadata": {},
   "source": [
    "### Problem 10"
   ]
  },
  {
   "cell_type": "code",
   "execution_count": 8,
   "id": "da152615",
   "metadata": {},
   "outputs": [],
   "source": [
    "#######################################\n",
    "### Gradient checker\n",
    "#Getting the gradient calculation correct is often the trickiest part\n",
    "#of any gradient-based optimization algorithm. Fortunately, it's very\n",
    "#easy to check that the gradient calculation is correct using the\n",
    "#definition of gradient.\n",
    "#See http://ufldl.stanford.edu/wiki/index.php/Gradient_checking_and_advanced_optimization\n",
    "def grad_checker(X, y, theta, epsilon=0.01, tolerance=1e-4):\n",
    "    \"\"\"Implement Gradient Checker\n",
    "    Check that the function compute_square_loss_gradient returns the\n",
    "    correct gradient for the given X, y, and theta.\n",
    "\n",
    "    Let d be the number of features. Here we numerically estimate the\n",
    "    gradient by approximating the directional derivative in each of\n",
    "    the d coordinate directions:\n",
    "(e_1 =(1,0,0,...,0), e_2 =(0,1,0,...,0), ..., e_d =(0,...,0,1))\n",
    "\n",
    "    The approximation for the directional derivative of J at the point\n",
    "    theta in the direction e_i is given by:\n",
    "(J(theta + epsilon * e_i) - J(theta - epsilon * e_i)) /(2*epsilon).\n",
    "\n",
    "    We then look at the Euclidean distance between the gradient\n",
    "    computed using this approximation and the gradient computed by\n",
    "    compute_square_loss_gradient(X, y, theta).  If the Euclidean\n",
    "    distance exceeds tolerance, we say the gradient is incorrect.\n",
    "\n",
    "    Args:\n",
    "        X - the feature vector, 2D numpy array of size(num_instances, num_features)\n",
    "        y - the label vector, 1D numpy array of size(num_instances)\n",
    "        theta - the parameter vector, 1D numpy array of size(num_features)\n",
    "        epsilon - the epsilon used in approximation\n",
    "        tolerance - the tolerance error\n",
    "\n",
    "    Return:\n",
    "        A boolean value indicating whether the gradient is correct or not\n",
    "    \"\"\"\n",
    "    ### Given Code:\n",
    "    true_gradient = compute_square_loss_gradient(X, y, theta) #The true gradient\n",
    "    num_features = theta.shape[0]\n",
    "    approx_grad = np.zeros(num_features) #Initialize the gradient we approximate\n",
    "  \n",
    "    ### My Code:\n",
    "    #Generate helper variable, a vector filled with epsilons\n",
    "    epsilon_vec = np.array([epsilon]*num_features)\n",
    "    \n",
    "    #Iterate d times, where d is the number of features\n",
    "    for i in range(num_features):\n",
    "        #Generate array of 0s\n",
    "        e_i = np.zeros(num_features) \n",
    "        #Set the ith entry to 1\n",
    "        e_i[i] = 1 \n",
    "        #Compute Partial Derivative for ith entry\n",
    "        partial = (compute_square_loss(X,y,theta+(e_i * epsilon)) - (compute_square_loss(X,y,theta-(e_i * epsilon)) )) / (2 * epsilon)\n",
    "        #Write to our approx_grad array\n",
    "        approx_grad[i] = partial\n",
    "    #Calculate the Euclidean Norm of the difference in gradients\n",
    "    difference = (sum((approx_grad - true_gradient)**2)) ** .5\n",
    "    #Check if our approximation exceeded the tolerance level\n",
    "    if difference > tolerance:\n",
    "        return False #If the difference exceeds tolerance, return False\n",
    "    else:\n",
    "        return True #Otherwise our gradient works well, return True"
   ]
  },
  {
   "cell_type": "code",
   "execution_count": 9,
   "id": "4e0f3283",
   "metadata": {},
   "outputs": [
    {
     "data": {
      "text/plain": [
       "True"
      ]
     },
     "execution_count": 9,
     "metadata": {},
     "output_type": "execute_result"
    }
   ],
   "source": [
    "grad_checker(x_train, y_train,np.random.rand(x_train.shape[1]))"
   ]
  },
  {
   "cell_type": "markdown",
   "id": "37f0b1f5",
   "metadata": {},
   "source": [
    "### Problem 10"
   ]
  },
  {
   "cell_type": "code",
   "execution_count": 10,
   "id": "36d05ee3",
   "metadata": {},
   "outputs": [],
   "source": [
    "#######################################\n",
    "### Batch gradient descent\n",
    "def batch_grad_descent(X, y, alpha=0.1, num_step=1000, grad_check=False):\n",
    "    \"\"\"\n",
    "    In this question you will implement batch gradient descent to\n",
    "    minimize the average square loss objective.\n",
    "\n",
    "    Args:\n",
    "        X - the feature vector, 2D numpy array of size(num_instances, num_features)\n",
    "        y - the label vector, 1D numpy array of size(num_instances)\n",
    "        alpha - step size in gradient descent\n",
    "        num_step - number of steps to run\n",
    "        grad_check - a boolean value indicating whether checking the gradient when updating\n",
    "\n",
    "    Returns:\n",
    "        theta_hist - the history of parameter vector, 2D numpy array of size(num_step+1, num_features)\n",
    "                     for instance, theta in step 0 should be theta_hist[0], theta in step(num_step) is theta_hist[-1]\n",
    "        loss_hist - the history of average square loss on the data, 1D numpy array,(num_step+1)\n",
    "    \"\"\"\n",
    "    ### Given Code:\n",
    "    num_instances, num_features = X.shape[0], X.shape[1]\n",
    "    theta_hist = np.zeros((num_step + 1, num_features))  #Initialize theta_hist\n",
    "    loss_hist = np.zeros(num_step + 1)  #Initialize loss_hist\n",
    "    theta = np.zeros(num_features)  #Initialize theta\n",
    "    ### My Code:\n",
    "    #theta = np.random.rand(num_features)\n",
    "    #Iterate over gradient descent steps\n",
    "    for i in range(num_step):\n",
    "        #Compute Gradient and Calculate and Append Loss\n",
    "        gradient = compute_square_loss_gradient(X,y,theta)\n",
    "        loss_hist[i] = compute_square_loss(X,y,theta)\n",
    "\n",
    "        #Calculate and write new theta\n",
    "        theta = theta - (alpha * gradient)\n",
    "        theta_hist[i,:] = theta\n",
    "    loss_hist[-1] = compute_square_loss(X,y,theta)\n",
    "    #Return theta_hist, loss_hist    \n",
    "    return theta_hist, loss_hist"
   ]
  },
  {
   "cell_type": "markdown",
   "id": "e9690d40",
   "metadata": {},
   "source": [
    "### Problem 11\n",
    "Now let's experiment with the step size. Note that if the step size\n",
    "is too large, gradient descent may not converge. Starting with a step-size of $0.1$, try various different fixed\n",
    "step sizes to see which converges most quickly and/or which diverge.\n",
    "As a minimum, try step sizes 0.5, 0.1, .05, and .01. Plot the average square loss on the training set as a function of the number of steps for\n",
    "each step size. Briefly summarize your findings. "
   ]
  },
  {
   "cell_type": "code",
   "execution_count": 11,
   "id": "c8b51bb6",
   "metadata": {},
   "outputs": [],
   "source": [
    "#Calculate theta history and loss history for step size alpha = 0.1\n",
    "theta_hist_0_1, loss_hist_0_1 = batch_grad_descent(x_train,y_train, alpha=.1)\n",
    "#Calculate theta history and loss history for step size alpha = 0.5\n",
    "theta_hist_0_5, loss_hist_0_5 = batch_grad_descent(x_train,y_train, alpha=.5)\n",
    "#Calculate theta history and loss history for step size alpha = 0.01\n",
    "theta_hist_0_0_1, loss_hist_0_0_1 = batch_grad_descent(x_train,y_train, alpha=.01)\n",
    "#Calculate theta history and loss history for step size alpha = 0.05\n",
    "theta_hist_0_0_5, loss_hist_0_0_5 = batch_grad_descent(x_train,y_train, alpha=.05)\n",
    "#Calculate theta history and loss history for step size alpha = 0.06\n",
    "theta_hist_0_0_6, loss_hist_0_0_6 = batch_grad_descent(x_train,y_train, alpha=.045)"
   ]
  },
  {
   "cell_type": "code",
   "execution_count": 12,
   "id": "c87739ab",
   "metadata": {},
   "outputs": [
    {
     "data": {
      "text/plain": [
       "Text(0.5, 1.0, 'Average Training Error For Various Alpha Step Size')"
      ]
     },
     "execution_count": 12,
     "metadata": {},
     "output_type": "execute_result"
    },
    {
     "data": {
      "image/png": "[encoded data removed]",
      "text/plain": [
       "<Figure size 1200x640 with 1 Axes>"
      ]
     },
     "metadata": {
      "needs_background": "light"
     },
     "output_type": "display_data"
    }
   ],
   "source": [
    "#Generate helper variable for x-axis\n",
    "x = list(range(1001))\n",
    "#Begin plotting\n",
    "plt.figure(figsize=(15, 8), dpi=80)\n",
    "plt.plot(x,loss_hist_0_1, label='0.1')\n",
    "plt.plot(x,loss_hist_0_5, label='0.5')\n",
    "plt.plot(x,loss_hist_0_0_5,label='0.05')\n",
    "plt.plot(x,loss_hist_0_0_1,label='0.01')\n",
    "plt.yscale('log')\n",
    "plt.xscale('log')\n",
    "plt.legend()\n",
    "plt.title(\"Average Training Error For Various Alpha Step Size\")"
   ]
  },
  {
   "cell_type": "markdown",
   "id": "cf4895b5",
   "metadata": {},
   "source": [
    "### It appears that step sizes .5 and .01 diverge to infinity, while step sizes .05 and .01 converge to ~2 and ~2.7 respectively."
   ]
  },
  {
   "cell_type": "markdown",
   "id": "e540e916",
   "metadata": {},
   "source": [
    "### Problem 13"
   ]
  },
  {
   "cell_type": "code",
   "execution_count": 13,
   "id": "2ef08091",
   "metadata": {},
   "outputs": [],
   "source": [
    "###Using step size alpha = .05 calculate average test loss as a functio of N iterations\n",
    "\n",
    "#Initialize helper variables\n",
    "N = 1000\n",
    "average_test_loss = np.zeros(N)\n",
    "\n",
    "#Iterate over 1000 steps\n",
    "for step in range(N):\n",
    "    #Calculate average test loss\n",
    "    average_test_loss[step] = compute_square_loss(x_test,y_test,theta_hist_0_0_5[step])"
   ]
  },
  {
   "cell_type": "code",
   "execution_count": 14,
   "id": "2bddd1fa",
   "metadata": {},
   "outputs": [
    {
     "data": {
      "text/plain": [
       "Text(0.5, 1.0, 'Average Test Loss, Step Size Alpha = .05, Theta as a function of N ')"
      ]
     },
     "execution_count": 14,
     "metadata": {},
     "output_type": "execute_result"
    },
    {
     "data": {
      "image/png": "[encoded data removed]",
      "text/plain": [
       "<Figure size 1200x640 with 1 Axes>"
      ]
     },
     "metadata": {
      "needs_background": "light"
     },
     "output_type": "display_data"
    }
   ],
   "source": [
    "#Generate helper variable for x-axis\n",
    "x = list(range(1000))\n",
    "#Begin plotting\n",
    "plt.figure(figsize=(15, 8), dpi=80)\n",
    "plt.plot(x,average_test_loss, label='Average Test Loss')\n",
    "plt.yscale('log')\n",
    "plt.xscale('log')\n",
    "plt.legend()\n",
    "plt.title(\"Average Test Loss, Step Size Alpha = .05, Theta as a function of N \")"
   ]
  }
 ],
 "metadata": {
  "kernelspec": {
   "display_name": "Python 3 (ipykernel)",
   "language": "python",
   "name": "python3"
  },
  "language_info": {
   "codemirror_mode": {
    "name": "ipython",
    "version": 3
   },
   "file_extension": ".py",
   "mimetype": "text/x-python",
   "name": "python",
   "nbconvert_exporter": "python",
   "pygments_lexer": "ipython3",
   "version": "3.9.7"
  }
 },
 "nbformat": 4,
 "nbformat_minor": 5
}
