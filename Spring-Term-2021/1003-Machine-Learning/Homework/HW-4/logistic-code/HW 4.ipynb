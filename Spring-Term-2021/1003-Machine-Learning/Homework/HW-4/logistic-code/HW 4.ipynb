{
 "cells": [
  {
   "cell_type": "code",
   "execution_count": 1,
   "id": "650528f1",
   "metadata": {},
   "outputs": [],
   "source": [
    "#Import necessary Libraries\n",
    "import numpy as np\n",
    "import scipy\n",
    "from scipy.optimize import minimize\n",
    "from functools import partial\n",
    "import pandas as pd\n",
    "import matplotlib.pyplot as plt"
   ]
  },
  {
   "cell_type": "markdown",
   "id": "33e0e2b8",
   "metadata": {},
   "source": [
    "### Question 5"
   ]
  },
  {
   "cell_type": "code",
   "execution_count": 2,
   "id": "d9c00925",
   "metadata": {},
   "outputs": [],
   "source": [
    "def f_objective(theta, X, y, l2_param):\n",
    "    '''\n",
    "    Args:\n",
    "        theta: 1D numpy array of size num_features\n",
    "        X: 2D numpy array of size (num_instances, num_features)\n",
    "        y: 1D numpy array of size num_instances\n",
    "        l2_param: regularization parameter\n",
    "\n",
    "    Returns:\n",
    "        objective: scalar value of objective function\n",
    "    '''\n",
    "    #Helper variable for ERM Summation\n",
    "    objective = 0\n",
    "    #Iterate over data points\n",
    "    for i in range(len(y)):\n",
    "        #Calculate 1+e^margin\n",
    "        m = -y[i]*theta@X[i,:]\n",
    "        #Add the margin exponentiation to the ERM summation\n",
    "        objective += np.logaddexp(0, m)\n",
    "    #Calculate the regularization penalty\n",
    "    l2_penalty = l2_param* (theta@theta)\n",
    "    return (objective / len(y))+ l2_penalty"
   ]
  },
  {
   "cell_type": "markdown",
   "id": "5850df39",
   "metadata": {},
   "source": [
    "### Question 6"
   ]
  },
  {
   "cell_type": "code",
   "execution_count": 3,
   "id": "51286b98",
   "metadata": {},
   "outputs": [],
   "source": [
    "def fit_logistic_reg(X, y, objective_function, l2_param):\n",
    "    '''\n",
    "    Args:\n",
    "        X: 2D numpy array of size (num_instances, num_features)\n",
    "        y: 1D numpy array of size num_instances\n",
    "        objective_function: function returning the value of the objective\n",
    "        l2_param: regularization parameter\n",
    "        \n",
    "    Returns:\n",
    "        optimal_theta: 1D numpy array of size num_features\n",
    "    '''      \n",
    "    starting_theta = np.ones(X.shape[1])\n",
    "    passing_func = partial(objective_function,X=X,y=y,l2_param=l2_param)\n",
    "    optimal_theta = minimize(passing_func,starting_theta).x\n",
    "    return optimal_theta"
   ]
  },
  {
   "cell_type": "code",
   "execution_count": 4,
   "id": "b93a5972",
   "metadata": {},
   "outputs": [],
   "source": [
    "#Load Data, then Clean it\n",
    "X_train, X_val = pd.read_csv('X_train.txt',header=None), pd.read_csv('X_val.txt',header=None)\n",
    "y_train, y_val = pd.read_csv('y_train.txt',header=None), pd.read_csv('y_val.txt',header=None)  \n",
    "#Fix y_train / val labels to -1 rather than 0 \n",
    "y_train[y_train==0], y_val[y_val==0] = -1, -1\n",
    "#Standardize via Z-Scores, Add Bias Column\n",
    "X_train = (X_train - X_train.mean() )/ X_train.std()\n",
    "X_val = (X_val - X_val.mean())/ X_val.std()\n",
    "X_train['Bias'] = 1\n",
    "X_val['Bias'] = 1\n",
    "\n",
    "#Transform DataFrames to numpy ararys\n",
    "X_train = X_train.to_numpy()\n",
    "X_val = X_val.to_numpy()\n",
    "y_train = y_train.to_numpy()\n",
    "y_val = y_val.to_numpy()"
   ]
  },
  {
   "cell_type": "markdown",
   "id": "337b100a",
   "metadata": {},
   "source": [
    "### Problem 7"
   ]
  },
  {
   "cell_type": "code",
   "execution_count": 5,
   "id": "488ff1e0",
   "metadata": {},
   "outputs": [],
   "source": [
    "def NLL(X,y,theta):\n",
    "    nll = 0\n",
    "    for i in range(len(y)):\n",
    "        m = -y[i]*theta@X[i,:]\n",
    "        nll += np.logaddexp(0,m)\n",
    "    return(nll)"
   ]
  },
  {
   "cell_type": "code",
   "execution_count": 6,
   "id": "32a99772",
   "metadata": {},
   "outputs": [],
   "source": [
    "#lambda_list = np.linspace(0,2,10)\n",
    "lambda_list = np.logspace(-4,-1,num=50)\n",
    "\n",
    "nll_list = []\n",
    "for lamda_reg in lambda_list:\n",
    "    optimal_theta = fit_logistic_reg(X_train, y_train,f_objective, l2_param=lamda_reg)\n",
    "    nll_list.append(NLL(X=X_val,y=y_val,theta=optimal_theta))"
   ]
  },
  {
   "cell_type": "code",
   "execution_count": 7,
   "id": "6e22ee12",
   "metadata": {},
   "outputs": [
    {
     "data": {
      "text/plain": [
       "[<matplotlib.lines.Line2D at 0x7f85f0032760>]"
      ]
     },
     "execution_count": 7,
     "metadata": {},
     "output_type": "execute_result"
    },
    {
     "data": {
      "image/png": "[encoded data removed]",
      "text/plain": [
       "<Figure size 432x288 with 1 Axes>"
      ]
     },
     "metadata": {
      "needs_background": "light"
     },
     "output_type": "display_data"
    }
   ],
   "source": [
    "plt.plot(lambda_list,nll_list)"
   ]
  },
  {
   "cell_type": "code",
   "execution_count": 14,
   "id": "85e5e790",
   "metadata": {},
   "outputs": [
    {
     "name": "stdout",
     "output_type": "stream",
     "text": [
      "232.87216502652097 0.018420699693267165\n"
     ]
    }
   ],
   "source": [
    "min_nll = min(nll_list)\n",
    "min_index = nll_list.index(min_nll)\n",
    "min_lambda = lambda_list[min_index]\n",
    "print(min_nll,min_lambda)"
   ]
  },
  {
   "cell_type": "markdown",
   "id": "c7e1c3be",
   "metadata": {},
   "source": [
    "## Minimum NLL achieved at $\\lambda = 0.01842$, with $NLL = 232.87$"
   ]
  },
  {
   "cell_type": "markdown",
   "id": "8de1d885",
   "metadata": {},
   "source": [
    "### Problem 8"
   ]
  },
  {
   "cell_type": "code",
   "execution_count": 9,
   "id": "76074dff",
   "metadata": {},
   "outputs": [],
   "source": [
    "#Use the Optimal Theta Calculated in the Last Problem\n",
    "optimal_theta = fit_logistic_reg(X_train,y_train,f_objective,l2_param=min_lambda)"
   ]
  },
  {
   "cell_type": "code",
   "execution_count": 10,
   "id": "1430e10b",
   "metadata": {},
   "outputs": [],
   "source": [
    "#Initialize helper variable\n",
    "scores = []\n",
    "#Calculate a score for each observation in X_val\n",
    "for i in range(len(X_val)):\n",
    "    score = 1 / (1 + np.exp(-optimal_theta@X_val[i,:]))\n",
    "    scores.append(score)"
   ]
  },
  {
   "cell_type": "code",
   "execution_count": 12,
   "id": "f59ad557",
   "metadata": {
    "scrolled": true
   },
   "outputs": [
    {
     "data": {
      "text/plain": [
       "<sklearn.calibration.CalibrationDisplay at 0x7f86202b2220>"
      ]
     },
     "execution_count": 12,
     "metadata": {},
     "output_type": "execute_result"
    },
    {
     "data": {
      "image/png": "[encoded data removed]",
      "text/plain": [
       "<Figure size 432x288 with 1 Axes>"
      ]
     },
     "metadata": {
      "needs_background": "light"
     },
     "output_type": "display_data"
    }
   ],
   "source": [
    "#Use Sci-Kit Learn Template to Show how Calibrated Our Model is\n",
    "from sklearn.calibration import calibration_curve, CalibrationDisplay\n",
    "y_true, y_prob = y_val, scores\n",
    "\n",
    "prob_true, prob_pred = calibration_curve(y_true, y_prob, n_bins=30)\n",
    "disp = CalibrationDisplay(prob_true, prob_pred,y_prob)\n",
    "disp.plot()"
   ]
  },
  {
   "cell_type": "code",
   "execution_count": 13,
   "id": "b330cccc",
   "metadata": {},
   "outputs": [
    {
     "data": {
      "text/plain": [
       "Text(0, 0.5, 'Count')"
      ]
     },
     "execution_count": 13,
     "metadata": {},
     "output_type": "execute_result"
    },
    {
     "data": {
      "image/png": "[encoded data removed]",
      "text/plain": [
       "<Figure size 720x360 with 1 Axes>"
      ]
     },
     "metadata": {
      "needs_background": "light"
     },
     "output_type": "display_data"
    }
   ],
   "source": [
    "plt.figure(figsize=(10,5))\n",
    "plt.hist(disp.y_prob, range=(0,1), bins=10, histtype='bar')\n",
    "plt.title('Logistic Function Histogram')\n",
    "plt.xlabel(\"Mean predicted probability\")\n",
    "plt.ylabel(\"Count\")"
   ]
  },
  {
   "cell_type": "markdown",
   "id": "501516b8",
   "metadata": {},
   "source": [
    "## Commentary:\n",
    "It appears that our model is not very well calibrated: "
   ]
  }
 ],
 "metadata": {
  "kernelspec": {
   "display_name": "Python 3 (ipykernel)",
   "language": "python",
   "name": "python3"
  },
  "language_info": {
   "codemirror_mode": {
    "name": "ipython",
    "version": 3
   },
   "file_extension": ".py",
   "mimetype": "text/x-python",
   "name": "python",
   "nbconvert_exporter": "python",
   "pygments_lexer": "ipython3",
   "version": "3.9.7"
  }
 },
 "nbformat": 4,
 "nbformat_minor": 5
}
