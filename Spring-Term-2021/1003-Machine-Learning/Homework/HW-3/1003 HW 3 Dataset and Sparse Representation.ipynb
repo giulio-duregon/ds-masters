{
 "cells": [
  {
   "cell_type": "code",
   "execution_count": 1,
   "id": "fa719197",
   "metadata": {},
   "outputs": [],
   "source": [
    "import os\n",
    "import numpy as np\n",
    "import random\n",
    "import time\n",
    "\n",
    "def folder_list(path,label):\n",
    "    '''\n",
    "    PARAMETER PATH IS THE PATH OF YOUR LOCAL FOLDER\n",
    "    '''\n",
    "    filelist = os.listdir(path)\n",
    "    review = []\n",
    "    for infile in filelist:\n",
    "        file = os.path.join(path,infile)\n",
    "        r = read_data(file)\n",
    "        r.append(label)\n",
    "        review.append(r)\n",
    "    return review\n",
    "\n",
    "def read_data(file):\n",
    "    '''\n",
    "    Read each file into a list of strings.\n",
    "    Example:\n",
    "    [\"it's\", 'a', 'curious', 'thing', \"i've\", 'found', 'that', 'when', 'willis', 'is', 'not', 'called', 'on',\n",
    "    ...'to', 'carry', 'the', 'whole', 'movie', \"he's\", 'much', 'better', 'and', 'so', 'is', 'the', 'movie']\n",
    "    '''\n",
    "    f = open(file)\n",
    "    lines = f.read().split(' ')\n",
    "    symbols = '${}()[].,:;+-*/&|<>=~\" '\n",
    "    words = map(lambda Element: Element.translate(str.maketrans(\"\", \"\", symbols)).strip(), lines)\n",
    "    words = filter(None, words)\n",
    "    return list(words)\n",
    "\n",
    "\n",
    "def load_and_shuffle_data():\n",
    "    '''\n",
    "    pos_path is where you save positive review data.\n",
    "    neg_path is where you save negative review data.\n",
    "    '''\n",
    "    pos_path = \"Data/pos\"\n",
    "    neg_path = \"Data/neg\"\n",
    "\n",
    "    pos_review = folder_list(pos_path,1)\n",
    "    neg_review = folder_list(neg_path,-1)\n",
    "\n",
    "    review = pos_review + neg_review\n",
    "    random.shuffle(review)\n",
    "    return review\n",
    "\n",
    "# Taken from http://web.stanford.edu/class/cs221/ Assignment #2 Support Code\n",
    "def dotProduct(d1, d2):\n",
    "    \"\"\"\n",
    "    @param dict d1: a feature vector represented by a mapping from a feature (string) to a weight (float).\n",
    "    @param dict d2: same as d1\n",
    "    @return float: the dot product between d1 and d2\n",
    "    \"\"\"\n",
    "    if len(d1) < len(d2):\n",
    "        return dotProduct(d2, d1)\n",
    "    else:\n",
    "        return sum(d1.get(f, 0) * v for f, v in d2.items())\n",
    "\n",
    "def increment(d1, scale, d2):\n",
    "    \"\"\"\n",
    "    Implements d1 += scale * d2 for sparse vectors.\n",
    "    @param dict d1: the feature vector which is mutated.\n",
    "    @param float scale\n",
    "    @param dict d2: a feature vector.\n",
    "\n",
    "    NOTE: This function does not return anything, but rather\n",
    "    increments d1 in place. We do this because it is much faster to\n",
    "    change elements of d1 in place than to build a new dictionary and\n",
    "    return it.\n",
    "    \"\"\"\n",
    "    for f, v in d2.items():\n",
    "        d1[f] = d1.get(f, 0) + v * scale\n"
   ]
  },
  {
   "cell_type": "code",
   "execution_count": 2,
   "id": "850f9754",
   "metadata": {},
   "outputs": [],
   "source": [
    "data = load_and_shuffle_data()"
   ]
  },
  {
   "cell_type": "markdown",
   "id": "0685554d",
   "metadata": {},
   "source": [
    "## Question 6"
   ]
  },
  {
   "cell_type": "code",
   "execution_count": 3,
   "id": "d1b4f990",
   "metadata": {},
   "outputs": [],
   "source": [
    "#Create bag of words function\n",
    "def bag_of_words_func(words):\n",
    "    \"\"\"\n",
    "    Inputs:\n",
    "    words: (list) a list of words\n",
    "    \n",
    "    Output:\n",
    "    bag_of_words: (dictionary) Key: Word in words - Value: Count of Word in words\n",
    "    \"\"\"\n",
    "    bag_of_words = {}\n",
    "    #Exclude the last character as it is the label we need to predict\n",
    "    for word in words[:-1]:\n",
    "        bag_of_words[word] = bag_of_words.get(word,0) + 1\n",
    "   \n",
    "    #Return our bag of words\n",
    "    return bag_of_words\n",
    "    "
   ]
  },
  {
   "cell_type": "markdown",
   "id": "1339bc96",
   "metadata": {},
   "source": [
    "## Question 7"
   ]
  },
  {
   "cell_type": "code",
   "execution_count": 4,
   "id": "41163d44",
   "metadata": {},
   "outputs": [],
   "source": [
    "#Grab the first 1500 Reviews / Labels for training\n",
    "X_train = [bag_of_words_func(f) for f in data[:1500]]\n",
    "y_train = [f[-1] for f in data[:1500]]\n",
    "\n",
    "#Grab 500 more for Testing\n",
    "X_test = [bag_of_words_func(f) for f in data[1500:2000]]\n",
    "y_test = [f[-1] for f in data[1500:2000]]"
   ]
  },
  {
   "cell_type": "markdown",
   "id": "df2ce5af",
   "metadata": {},
   "source": [
    "## Question 8"
   ]
  },
  {
   "cell_type": "code",
   "execution_count": 5,
   "id": "664618cf",
   "metadata": {},
   "outputs": [],
   "source": [
    "def pegasos(x,y, lambda_reg, total_epochs):\n",
    "    \"\"\"\n",
    "    Input:\n",
    "    x: (dictionary) review data that has been manipulated into sparse dictionary representation\n",
    "    y: (list) label values of ith position of data at x_i\n",
    "    lambda_reg\n",
    "    total_epochs: (int):  \n",
    "    \n",
    "    Output:\n",
    "    w: dictionary of key value pairs, key: word in review, value: float describing the weight of prediction\n",
    "    \"\"\"\n",
    "    \n",
    "    #Initialize helper variables\n",
    "    w = dict()\n",
    "    epoch, t = 0, 0\n",
    "    \n",
    "    while epoch < total_epochs:\n",
    "        for review in range(len(x)):\n",
    "            \n",
    "            #Update counter variable\n",
    "            t += 1\n",
    "            #Update step size\n",
    "            step_size_t = 1/(lambda_reg*t)\n",
    "            \n",
    "            #Scale w variables\n",
    "            increment(w, -step_size_t*lambda_reg, w)\n",
    "            \n",
    "            #If we have a missclassification, subtract the second portion of the gradient\n",
    "            if y[review]*dotProduct(w,x[review]) < 1:\n",
    "                increment(w, step_size_t*y[review], x[review])\n",
    "        #Increment epoch counter variable\n",
    "        epoch += 1     \n",
    "        \n",
    "    return w"
   ]
  },
  {
   "cell_type": "code",
   "execution_count": 6,
   "id": "bdf556e8",
   "metadata": {},
   "outputs": [],
   "source": [
    "def fast_pegasos_algo(x,y,lambda_reg,total_epochs):\n",
    "    \"\"\"\n",
    "    Input:\n",
    "    x: (dictionary) review data that has been manipulated into sparse dictionary representation\n",
    "    y: (list) label values of ith position of data at x_i\n",
    "    lambda_reg\n",
    "    total_epochs: (int):  \n",
    "    \n",
    "    Output:\n",
    "    w: dictionary of key value pairs, key: word in review, value: float describing the weight of prediction\n",
    "    \"\"\"\n",
    "    \n",
    "    #Initialize helper variables\n",
    "    W = dict()\n",
    "    epoch, t, s = 0, 1, 1\n",
    "    \n",
    "    while epoch < total_epochs:\n",
    "        for review in range(len(x)):\n",
    "            \n",
    "            #Update counter variable\n",
    "            t += 1\n",
    "            #Update step size\n",
    "            step_size_t = 1/(lambda_reg*t)\n",
    "            \n",
    "            #Update s\n",
    "            s += (s * lambda_reg * -step_size_t)\n",
    "            \n",
    "            #If we have a missclassification, subtract the second portion of the gradient\n",
    "            if y[review]*dotProduct(W,x[review])*s < 1:\n",
    "                increment(W, (1/s)*step_size_t*y[review], x[review])\n",
    "        #Increment epoch counter variable\n",
    "        epoch += 1     \n",
    "    W.update((x,y*s) for x,y in W.items())   \n",
    "    return W"
   ]
  },
  {
   "cell_type": "markdown",
   "id": "770b34f2",
   "metadata": {},
   "source": [
    "## Problem 10"
   ]
  },
  {
   "cell_type": "code",
   "execution_count": 7,
   "id": "f133c7fc",
   "metadata": {},
   "outputs": [],
   "source": [
    "lambda_reg = .1\n",
    "epochs = 6"
   ]
  },
  {
   "cell_type": "code",
   "execution_count": 8,
   "id": "178c5a5d",
   "metadata": {},
   "outputs": [
    {
     "name": "stdout",
     "output_type": "stream",
     "text": [
      "Slow pegasos algorithm run speed: 42.33915710449219\n",
      "Fast pegasos algorithm run speed: 0.6696586608886719\n"
     ]
    }
   ],
   "source": [
    "#Time test each approach\n",
    "start = time.time()\n",
    "w_slow = pegasos(X_train,y_train,lambda_reg, epochs)\n",
    "end = time.time()\n",
    "print('Slow pegasos algorithm run speed:', end-start)\n",
    "\n",
    "start = time.time()\n",
    "w_fast = fast_pegasos_algo(X_train,y_train,lambda_reg, epochs)\n",
    "end = time.time()\n",
    "print('Fast pegasos algorithm run speed:', end-start)"
   ]
  },
  {
   "cell_type": "markdown",
   "id": "be319bea",
   "metadata": {},
   "source": [
    "## Problem 11"
   ]
  },
  {
   "cell_type": "code",
   "execution_count": 9,
   "id": "2362e368",
   "metadata": {},
   "outputs": [],
   "source": [
    "def classification_error(x,y,w):\n",
    "    total_error = 0\n",
    "    \n",
    "    #Iterate over data\n",
    "    for row in range(len(x)):\n",
    "        #Get prediction\n",
    "        if dotProduct(x[row],w)<0:\n",
    "            y_hat = -1\n",
    "        else:\n",
    "            y_hat = 1\n",
    "        \n",
    "        if y_hat != y[row]:\n",
    "            total_error += 1\n",
    "    \n",
    "    \n",
    "    return total_error / len(y)"
   ]
  },
  {
   "cell_type": "code",
   "execution_count": 10,
   "id": "0fa685a2",
   "metadata": {},
   "outputs": [
    {
     "name": "stdout",
     "output_type": "stream",
     "text": [
      "Slow loss: 0.174 Fast loss: 0.174\n"
     ]
    }
   ],
   "source": [
    "print('Slow loss:', classification_error(X_test,y_test,w_slow) , 'Fast loss:',classification_error(X_test,y_test,w_fast))"
   ]
  },
  {
   "cell_type": "markdown",
   "id": "afb22dfc",
   "metadata": {},
   "source": [
    "## Problem 12"
   ]
  },
  {
   "cell_type": "code",
   "execution_count": 11,
   "id": "0fee2239",
   "metadata": {},
   "outputs": [],
   "source": [
    "error_dict = dict()\n",
    "\n",
    "for i in range(15):\n",
    "    temp = 10**(-i)\n",
    "    label = str(temp)\n",
    "    w_fast = fast_pegasos_algo(X_train,y_train, temp, 6)\n",
    "    error_dict[label] = classification_error(X_test,y_test,w_fast)\n",
    "    "
   ]
  },
  {
   "cell_type": "code",
   "execution_count": 12,
   "id": "c7f471e0",
   "metadata": {},
   "outputs": [
    {
     "data": {
      "text/plain": [
       "{'1': 0.196,\n",
       " '0.1': 0.174,\n",
       " '0.01': 0.15,\n",
       " '0.001': 0.166,\n",
       " '0.0001': 0.188,\n",
       " '1e-05': 0.188,\n",
       " '1e-06': 0.188,\n",
       " '1e-07': 0.188,\n",
       " '1e-08': 0.188,\n",
       " '1e-09': 0.188,\n",
       " '1e-10': 0.188,\n",
       " '1e-11': 0.188,\n",
       " '1e-12': 0.188,\n",
       " '1e-13': 0.188,\n",
       " '1e-14': 0.188}"
      ]
     },
     "execution_count": 12,
     "metadata": {},
     "output_type": "execute_result"
    }
   ],
   "source": [
    "error_dict"
   ]
  },
  {
   "cell_type": "code",
   "execution_count": 23,
   "id": "ccd05c49",
   "metadata": {},
   "outputs": [],
   "source": [
    "error_dict = dict()\n",
    "\n",
    "for i in np.linspace(.001,.01,50):\n",
    "    label = str(i)\n",
    "    w_fast = fast_pegasos_algo(X_train,y_train, i, 6)\n",
    "    error_dict[label] = classification_error(X_test,y_test,w_fast)\n",
    "    "
   ]
  },
  {
   "cell_type": "code",
   "execution_count": 28,
   "id": "294dcc88",
   "metadata": {},
   "outputs": [
    {
     "data": {
      "text/plain": [
       "0.142"
      ]
     },
     "execution_count": 28,
     "metadata": {},
     "output_type": "execute_result"
    }
   ],
   "source": [
    "min(error_dict.values())"
   ]
  },
  {
   "cell_type": "code",
   "execution_count": null,
   "id": "c6c9ab77",
   "metadata": {},
   "outputs": [],
   "source": []
  }
 ],
 "metadata": {
  "kernelspec": {
   "display_name": "Python 3 (ipykernel)",
   "language": "python",
   "name": "python3"
  },
  "language_info": {
   "codemirror_mode": {
    "name": "ipython",
    "version": 3
   },
   "file_extension": ".py",
   "mimetype": "text/x-python",
   "name": "python",
   "nbconvert_exporter": "python",
   "pygments_lexer": "ipython3",
   "version": "3.9.7"
  }
 },
 "nbformat": 4,
 "nbformat_minor": 5
}
