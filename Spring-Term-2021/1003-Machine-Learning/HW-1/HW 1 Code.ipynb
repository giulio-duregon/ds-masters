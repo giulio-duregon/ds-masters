{
 "cells": [
  {
   "cell_type": "code",
   "execution_count": 70,
   "id": "0634e3c8",
   "metadata": {},
   "outputs": [],
   "source": [
    "#Import Libraries\n",
    "import numpy as np\n",
    "import matplotlib.pyplot as plt"
   ]
  },
  {
   "cell_type": "code",
   "execution_count": 71,
   "id": "7207b69e",
   "metadata": {},
   "outputs": [],
   "source": [
    "#Given functions\n",
    "def get_a(deg_true):\n",
    "    \"\"\"\n",
    "    Inputs:\n",
    "    deg_true: (int) degree of the polynomial g\n",
    "    \n",
    "    Returns:\n",
    "    a: (np array of size (deg_true + 1)) coefficients of polynomial g\n",
    "    \"\"\"\n",
    "    return 5 * np.random.randn(deg_true + 1)\n",
    "\n",
    "def get_design_mat(x, deg):\n",
    "    \"\"\"\n",
    "    Inputs:\n",
    "    x: (np.array of size N)\n",
    "    deg: (int) max degree used to generate the design matrix\n",
    "    \n",
    "    Returns:\n",
    "    X: (np.array of size N x (deg_true + 1)) design matrix\n",
    "    \"\"\"\n",
    "    X = np.array([x ** i for i in range(deg + 1)]).T\n",
    "    return X\n",
    "\n",
    "def draw_sample(deg_true, a, N):\n",
    "    \"\"\"\n",
    "    Inputs:\n",
    "    deg_true: (int) degree of the polynomial g\n",
    "    a: (np.array of size deg_true) parameter of g\n",
    "    N: (int) size of sample to draw\n",
    "    \n",
    "    Returns:\n",
    "    x: (np.array of size N)\n",
    "    y: (np.array of size N)\n",
    "    \"\"\"    \n",
    "    x = np.sort(np.random.rand(N))\n",
    "    X = get_design_mat(x, deg_true)\n",
    "    y = X @ a\n",
    "    return x, y\n",
    "\n",
    "def draw_sample_with_noise(deg_true, a, N):  \n",
    "    \"\"\"\n",
    "    Inputs:\n",
    "    deg_true: (int) degree of the polynomial g\n",
    "    a: (np.array of size deg_true) parameter of g\n",
    "    N: (int) size of sample to draw\n",
    "    \n",
    "    Returns:\n",
    "    x: (np.array of size N)\n",
    "    y: (np.array of size N)\n",
    "    \"\"\"  \n",
    "    x = np.sort(np.random.rand(N))\n",
    "    X = get_design_mat(x, deg_true)\n",
    "    y = X @ a + np.random.randn(N)\n",
    "    return x, y"
   ]
  },
  {
   "cell_type": "markdown",
   "id": "e2518ca0",
   "metadata": {},
   "source": [
    "### Problem 7"
   ]
  },
  {
   "cell_type": "code",
   "execution_count": 72,
   "id": "74524fe8",
   "metadata": {},
   "outputs": [],
   "source": [
    "#Define the polynomial size\n",
    "p = 5\n",
    "\n",
    "#Get a value for a \n",
    "a = get_a(p)\n",
    "\n",
    "#Generate training and test data\n",
    "x_train, y_train = draw_sample(p,a,10)\n",
    "x_test, y_test = draw_sample(p,a,1000)\n",
    "\n",
    "#Generate design matrices\n",
    "X_train = get_design_mat(x_train, p)\n",
    "X_test = get_design_mat(x_test, p)"
   ]
  },
  {
   "cell_type": "code",
   "execution_count": 73,
   "id": "9d48e177",
   "metadata": {},
   "outputs": [],
   "source": [
    "#Define our least squares estimator function\n",
    "def least_squares_estimator(X, y):\n",
    "    \"\"\"\n",
    "    Inputs:\n",
    "    X: (np.matrix of size N x (deg_true +1))\n",
    "    y: (np.array) of size deg_true + 1 x 1\n",
    "    \n",
    "    Returns:\n",
    "    b_hat: (np.array) of size N x (deg_true + 1)\n",
    "    \"\"\"\n",
    "    #Make sure N > d\n",
    "    if X.shape[0] < X.shape[1]:\n",
    "        raise ValueError(\"You must have at least as many rows as columns!\")\n",
    "    else:\n",
    "        #Compute the solution for b using the closed form linear algebra solution\n",
    "        b_hat = np.linalg.inv(X.T@X) @ X.T @ y\n",
    "        return b_hat"
   ]
  },
  {
   "cell_type": "markdown",
   "id": "105902ca",
   "metadata": {},
   "source": [
    "### Problem 8"
   ]
  },
  {
   "cell_type": "code",
   "execution_count": 74,
   "id": "a8030a02",
   "metadata": {},
   "outputs": [],
   "source": [
    "def empirical_risk(X,y,b_hat):\n",
    "    \"\"\"\n",
    "    Inputs:\n",
    "    X: (np.matrix of size N x (deg_true +1))\n",
    "    y: (np.array) of size deg_true + 1 x 1\n",
    "    b_hat: (np.array) of size N x (deg_true + 1)\n",
    "    Returns:\n",
    "    emp_risk: (float) \n",
    "    \"\"\"\n",
    "    #Get # of observations\n",
    "    N = X.shape[0]\n",
    "    #Calculate Predictions\n",
    "    y_hat = X @ b_hat\n",
    "    #Calculate squared errors and then empirical risk\n",
    "    sum_of_squared_errors = sum((y_hat-y)**2)\n",
    "    emp_risk = sum_of_squared_errors / N \n",
    "    return emp_risk"
   ]
  },
  {
   "cell_type": "markdown",
   "id": "3ad65ba4",
   "metadata": {},
   "source": [
    "### Problem 9"
   ]
  },
  {
   "cell_type": "code",
   "execution_count": 75,
   "id": "722e26ae",
   "metadata": {},
   "outputs": [],
   "source": [
    "#Calculate b_hat\n",
    "b_hat = least_squares_estimator(X_train,y_train)"
   ]
  },
  {
   "cell_type": "code",
   "execution_count": 76,
   "id": "3ee26202",
   "metadata": {},
   "outputs": [
    {
     "name": "stdout",
     "output_type": "stream",
     "text": [
      "Values at Index 0 For Vectors b_Hat and a 2.1312987714795564 2.1312987719444907\n",
      "Difference rounded to 5 decimal places: -0.0\n",
      "Values at Index 1 For Vectors b_Hat and a 2.2527697183083157 2.252769719289315\n",
      "Difference rounded to 5 decimal places: -0.0\n",
      "Values at Index 2 For Vectors b_Hat and a -0.4043830464384541 -0.40438304852730766\n",
      "Difference rounded to 5 decimal places: 0.0\n",
      "Values at Index 3 For Vectors b_Hat and a 1.4645698259496918 1.4645698275513723\n",
      "Difference rounded to 5 decimal places: -0.0\n",
      "Values at Index 4 For Vectors b_Hat and a -0.33479833911116175 -0.3347983414639657\n",
      "Difference rounded to 5 decimal places: 0.0\n",
      "Values at Index 5 For Vectors b_Hat and a -5.705853644344385 -5.705853643658315\n",
      "Difference rounded to 5 decimal places: -0.0\n"
     ]
    }
   ],
   "source": [
    "#Compare a and b_hat values\n",
    "for i in range(len(b_hat)):\n",
    "    print('Values at Index', i, 'For Vectors b_Hat and a',a[i],b_hat[i])\n",
    "    print(\"Difference rounded to 5 decimal places:\", np.round(a[i]-b_hat[i],5))"
   ]
  },
  {
   "cell_type": "code",
   "execution_count": 77,
   "id": "5ff995d6",
   "metadata": {},
   "outputs": [],
   "source": [
    "#Use a helper function to make the graphing easier\n",
    "def helper_func(x, degree):\n",
    "    return np.array([x**i for i in range(degree+1)])"
   ]
  },
  {
   "cell_type": "code",
   "execution_count": 89,
   "id": "5bd4c0fa",
   "metadata": {},
   "outputs": [
    {
     "name": "stdout",
     "output_type": "stream",
     "text": [
      "The function is well estimated,           and therefore not visible on the graph as it is covered       up by the original function g(x)\n"
     ]
    },
    {
     "data": {
      "image/png": "[encoded data removed]",
      "text/plain": [
       "<Figure size 432x288 with 1 Axes>"
      ]
     },
     "metadata": {
      "needs_background": "light"
     },
     "output_type": "display_data"
    }
   ],
   "source": [
    "#Plot b_hat predictions vs A\n",
    "x = np.linspace(0,1,100)\n",
    "func_g = a@ helper_func(x,p)\n",
    "b_hat_x = b_hat @ helper_func(x,p)\n",
    "plt.scatter(x_train,y_train)\n",
    "\n",
    "#B_hat predictions given\n",
    "plt.plot(x, b_hat_x)\n",
    "plt.plot(x, func_g)\n",
    "plt.legend(labels=['f_g(x)','f_b_hat(x)','Training Data'])\n",
    "plt.title(\"Plot 1\")\n",
    "print(\"The function is well estimated, \\\n",
    "          and therefore not visible on the graph as it is covered \\\n",
    "      up by the original function g(x)\" )"
   ]
  },
  {
   "cell_type": "markdown",
   "id": "313da877",
   "metadata": {},
   "source": [
    "### Problem 10"
   ]
  },
  {
   "cell_type": "code",
   "execution_count": 11,
   "id": "0af12210",
   "metadata": {},
   "outputs": [
    {
     "name": "stdout",
     "output_type": "stream",
     "text": [
      "Empirical Risk for Polynomial Degree 1 is: 0.42266186450754245\n",
      "Empirical Risk for Polynomial Degree 2 is: 0.030140763526805\n",
      "Empirical Risk for Polynomial Degree 3 is: 0.0008178082780607788\n",
      "Empirical Risk for Polynomial Degree 4 is: 7.244750457533657e-06\n",
      "Empirical Risk for Polynomial Degree 5 is: 1.450802559459148e-20\n",
      "Empirical Risk for Polynomial Degree 6 is: 2.960600855214283e-16\n",
      "Empirical Risk for Polynomial Degree 7 is: 4.037909929254541e-09\n",
      "Empirical Risk for Polynomial Degree 8 is: 0.018985229249680206\n",
      "Empirical Risk for Polynomial Degree 9 is: 0.20344433933934028\n"
     ]
    }
   ],
   "source": [
    "#Iterate through values 1-> 10, which will be \n",
    "#the degree of our polynomial used to predict y\n",
    "for i in range(1,10):\n",
    "    \n",
    "    #Get new design matrices for polynomial i\n",
    "    X_train = get_design_mat(x_train, i)\n",
    "    X_test = get_design_mat(x_test, i)\n",
    "    \n",
    "    #Calculate best coefficient for each term\n",
    "    new_b_hat = least_squares_estimator(X_train, y_train)\n",
    "    \n",
    "    #Calculate empirical risk for polynomial degree i\n",
    "    #Use the test set that we generated\n",
    "    current_risk = empirical_risk(X_test,y_test,new_b_hat)\n",
    "    print(\"Empirical Risk for Polynomial Degree\", i, \"is:\",current_risk)    "
   ]
  },
  {
   "cell_type": "markdown",
   "id": "c20b2f4d",
   "metadata": {},
   "source": [
    "### Problem 11"
   ]
  },
  {
   "cell_type": "code",
   "execution_count": 129,
   "id": "71525aa4",
   "metadata": {},
   "outputs": [],
   "source": [
    "def noisy_emp_and_gen_risk(d,x_train,y_train, x_test,y_test):\n",
    "    \"\"\"\n",
    "    Inputs:\n",
    "    d: (int) degree of polynomial desired\n",
    "    n: (int) number of samples to be generated in \n",
    "    \n",
    "    Outputs:\n",
    "    training_error: (float) average sum of squares of loss function on training data\n",
    "    generalization_error: (float) average Sum of Squares of loss function on test data\n",
    "    \"\"\"\n",
    "    #Generate design matrices\n",
    "    X_train = get_design_mat(x_train, d)\n",
    "    X_test = get_design_mat(x_test, d)\n",
    "    #Calculate b_hat\n",
    "    b_hat = least_squares_estimator(X_train, y_train)\n",
    "    training_error = empirical_risk(X_train, y_train, b_hat)\n",
    "    generalization_error = empirical_risk(X_test, y_test, b_hat)\n",
    "    \n",
    "    return training_error, generalization_error"
   ]
  },
  {
   "cell_type": "code",
   "execution_count": 163,
   "id": "5b0cc4b3",
   "metadata": {},
   "outputs": [
    {
     "data": {
      "image/png": "[encoded data removed]",
      "text/plain": [
       "<Figure size 432x288 with 1 Axes>"
      ]
     },
     "metadata": {
      "needs_background": "light"
     },
     "output_type": "display_data"
    }
   ],
   "source": [
    "#Generate noisy data for polynomial of degree 5, with N = 200\n",
    "d = 5\n",
    "a = get_a(d)\n",
    "x_train, y_train = draw_sample_with_noise(d,a,20)\n",
    "x_test, y_test = draw_sample_with_noise(d,a,180)\n",
    "\n",
    "#Iterate over polynomials with\n",
    "#d = 2,5,10 and calculate errors\n",
    "polynomials = [3,6,11]\n",
    "te_arr_200 = []\n",
    "ge_arr_200 = []\n",
    "\n",
    "#Generate empirical risk and generalization error\n",
    "#For polynomials of various size [2,5,10]\n",
    "for d in polynomials:\n",
    "    train_error, gen_error = noisy_emp_and_gen_risk(d,x_train,y_train, x_test,y_test)\n",
    "    te_arr_200.append(train_error)\n",
    "    ge_arr_200.append(gen_error)\n",
    "\n",
    "plt.plot(polynomials, te_arr_200)\n",
    "plt.plot(polynomials, ge_arr_200)\n",
    "plt.title(\"Plot 2, N=200\")\n",
    "plt.yscale('log')"
   ]
  },
  {
   "cell_type": "code",
   "execution_count": 164,
   "id": "7fa1eafb",
   "metadata": {},
   "outputs": [
    {
     "data": {
      "image/png": "[encoded data removed]",
      "text/plain": [
       "<Figure size 432x288 with 1 Axes>"
      ]
     },
     "metadata": {
      "needs_background": "light"
     },
     "output_type": "display_data"
    }
   ],
   "source": [
    "#Generate noisy data for polynomial of degree 5, with N = 500\n",
    "d = 5\n",
    "a = get_a(d)\n",
    "x_train, y_train = draw_sample_with_noise(d,a,50)\n",
    "x_test, y_test = draw_sample_with_noise(d,a,450)\n",
    "\n",
    "te_arr_500 = []\n",
    "ge_arr_500 = []\n",
    "\n",
    "#Generate empirical risk and generalization error\n",
    "#For polynomials of various size [2,5,10]\n",
    "for d in polynomials:\n",
    "    train_error, gen_error = noisy_emp_and_gen_risk(d,x_train,y_train, x_test,y_test)\n",
    "    te_arr_500.append(train_error)\n",
    "    ge_arr_500.append(gen_error)\n",
    "    \n",
    "plt.plot(polynomials, te_arr_500)\n",
    "plt.plot(polynomials, ge_arr_500)\n",
    "plt.title(\"Plot 2, N=500\")\n",
    "plt.yscale('log')"
   ]
  },
  {
   "cell_type": "code",
   "execution_count": 165,
   "id": "0048e34d",
   "metadata": {},
   "outputs": [
    {
     "data": {
      "image/png": "[encoded data removed]",
      "text/plain": [
       "<Figure size 432x288 with 1 Axes>"
      ]
     },
     "metadata": {
      "needs_background": "light"
     },
     "output_type": "display_data"
    }
   ],
   "source": [
    "#Generate noisy data for polynomial of degree 5, with N = 500\n",
    "d = 5\n",
    "a = get_a(d)\n",
    "x_train, y_train = draw_sample_with_noise(d,a,100)\n",
    "x_test, y_test = draw_sample_with_noise(d,a,1000)\n",
    "\n",
    "te_arr_1000 = []\n",
    "ge_arr_1000 = []\n",
    "\n",
    "#Generate empirical risk and generalization error\n",
    "#For polynomials of various size [2,5,10]\n",
    "for d in polynomials:\n",
    "    train_error, gen_error = noisy_emp_and_gen_risk(d,x_train,y_train, x_test,y_test)\n",
    "    te_arr_1000.append(train_error)\n",
    "    ge_arr_1000.append(gen_error)\n",
    "    \n",
    "plt.plot(polynomials, te_arr_1000)\n",
    "plt.plot(polynomials, ge_arr_1000)\n",
    "plt.title(\"Plot 2, N=1000\")\n",
    "plt.yscale('log')"
   ]
  },
  {
   "cell_type": "code",
   "execution_count": null,
   "id": "7a57fe3a",
   "metadata": {},
   "outputs": [],
   "source": []
  },
  {
   "cell_type": "code",
   "execution_count": null,
   "id": "8327c088",
   "metadata": {},
   "outputs": [],
   "source": []
  },
  {
   "cell_type": "code",
   "execution_count": null,
   "id": "e8658c92",
   "metadata": {},
   "outputs": [],
   "source": []
  }
 ],
 "metadata": {
  "kernelspec": {
   "display_name": "Python 3 (ipykernel)",
   "language": "python",
   "name": "python3"
  },
  "language_info": {
   "codemirror_mode": {
    "name": "ipython",
    "version": 3
   },
   "file_extension": ".py",
   "mimetype": "text/x-python",
   "name": "python",
   "nbconvert_exporter": "python",
   "pygments_lexer": "ipython3",
   "version": "3.9.7"
  }
 },
 "nbformat": 4,
 "nbformat_minor": 5
}
