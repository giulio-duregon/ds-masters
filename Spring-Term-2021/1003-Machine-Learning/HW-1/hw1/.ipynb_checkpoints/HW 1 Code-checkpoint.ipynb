{
 "cells": [
  {
   "cell_type": "code",
   "execution_count": 2,
   "id": "0634e3c8",
   "metadata": {},
   "outputs": [],
   "source": [
    "#Import Libraries\n",
    "import numpy as np\n",
    "import matplotlib.pyplot as plt"
   ]
  },
  {
   "cell_type": "code",
   "execution_count": 4,
   "id": "7207b69e",
   "metadata": {},
   "outputs": [],
   "source": [
    "#Given functions\n",
    "def get_a(deg_true):\n",
    "    \"\"\"\n",
    "    Inputs:\n",
    "    deg_true: (int) degree of the polynomial g\n",
    "    \n",
    "    Returns:\n",
    "    a: (np array of size (deg_true + 1)) coefficients of polynomial g\n",
    "    \"\"\"\n",
    "    return 5 * np.random.randn(deg_true + 1)\n",
    "\n",
    "def get_design_mat(x, deg):\n",
    "    \"\"\"\n",
    "    Inputs:\n",
    "    x: (np.array of size N)\n",
    "    deg: (int) max degree used to generate the design matrix\n",
    "    \n",
    "    Returns:\n",
    "    X: (np.array of size N x (deg_true + 1)) design matrix\n",
    "    \"\"\"\n",
    "    X = np.array([x ** i for i in range(deg + 1)]).T\n",
    "    return X\n",
    "\n",
    "def draw_sample(deg_true, a, N):\n",
    "    \"\"\"\n",
    "    Inputs:\n",
    "    deg_true: (int) degree of the polynomial g\n",
    "    a: (np.array of size deg_true) parameter of g\n",
    "    N: (int) size of sample to draw\n",
    "    \n",
    "    Returns:\n",
    "    x: (np.array of size N)\n",
    "    y: (np.array of size N)\n",
    "    \"\"\"    \n",
    "    x = np.sort(np.random.rand(N))\n",
    "    X = get_design_mat(x, deg_true)\n",
    "    y = X @ a\n",
    "    return x, y\n",
    "\n",
    "def draw_sample_with_noise(deg_true, a, N):  \n",
    "    \"\"\"\n",
    "    Inputs:\n",
    "    deg_true: (int) degree of the polynomial g\n",
    "    a: (np.array of size deg_true) parameter of g\n",
    "    N: (int) size of sample to draw\n",
    "    \n",
    "    Returns:\n",
    "    x: (np.array of size N)\n",
    "    y: (np.array of size N)\n",
    "    \"\"\"  \n",
    "    x = np.sort(np.random.rand(N))\n",
    "    X = get_design_mat(x, deg_true)\n",
    "    y = X @ a + np.random.randn(N)\n",
    "    return x, y"
   ]
  },
  {
   "cell_type": "markdown",
   "id": "e2518ca0",
   "metadata": {},
   "source": [
    "### Problem 7"
   ]
  },
  {
   "cell_type": "code",
   "execution_count": 83,
   "id": "74524fe8",
   "metadata": {},
   "outputs": [],
   "source": [
    "#Define the polynomial size\n",
    "p = 5\n",
    "\n",
    "#Get a value for a \n",
    "a = get_a(p)\n",
    "\n",
    "#Generate training and test data\n",
    "x_train, y_train = draw_sample(p,a,10)\n",
    "x_test, y_test = draw_sample(p,a,1000)\n",
    "\n",
    "#Generate design matrices\n",
    "X_train = get_design_mat(x_train, p)\n",
    "X_test = get_design_mat(x_test, p)"
   ]
  },
  {
   "cell_type": "code",
   "execution_count": 84,
   "id": "9d48e177",
   "metadata": {},
   "outputs": [],
   "source": [
    "#Define our least squares estimator function\n",
    "def least_squares_estimator(X, y):\n",
    "    \"\"\"\n",
    "    Inputs:\n",
    "    X: (np.matrix of size N x (deg_true +1))\n",
    "    y: (np.array) of size deg_true + 1 x 1\n",
    "    \n",
    "    Returns:\n",
    "    b_hat: (np.array) of size N x (deg_true + 1)\n",
    "    \"\"\"\n",
    "    #Make sure N > d\n",
    "    if X.shape[0] < X.shape[1]:\n",
    "        raise ValueError(\"You must have at least as many rows as columns!\")\n",
    "    else:\n",
    "        #Compute the solution for b using the closed form linear algebra solution\n",
    "        b_hat = np.linalg.inv(X.T@X) @ X.T @ y\n",
    "        return b_hat"
   ]
  },
  {
   "cell_type": "markdown",
   "id": "105902ca",
   "metadata": {},
   "source": [
    "### Problem 8"
   ]
  },
  {
   "cell_type": "code",
   "execution_count": 87,
   "id": "a8030a02",
   "metadata": {},
   "outputs": [],
   "source": [
    "def empirical_risk(X,y,b_hat):\n",
    "    \"\"\"\n",
    "    Inputs:\n",
    "    X: (np.matrix of size N x (deg_true +1))\n",
    "    y: (np.array) of size deg_true + 1 x 1\n",
    "    b_hat: (np.array) of size N x (deg_true + 1)\n",
    "    Returns:\n",
    "    emp_risk: (float) \n",
    "    \"\"\"\n",
    "    #Get # of observations\n",
    "    N = X.shape[0]\n",
    "    #Calculate Predictions\n",
    "    y_hat = X @ b_hat\n",
    "    #Calculate squared errors and then empirical risk\n",
    "    sum_of_squared_errors = sum((y_hat-y)**2)\n",
    "    emp_risk = sum_of_squared_errors / N \n",
    "    return emp_risk"
   ]
  },
  {
   "cell_type": "markdown",
   "id": "3ad65ba4",
   "metadata": {},
   "source": [
    "### Problem 9"
   ]
  },
  {
   "cell_type": "code",
   "execution_count": 99,
   "id": "722e26ae",
   "metadata": {},
   "outputs": [],
   "source": [
    "#Calculate b_hat\n",
    "b_hat = least_squares_estimator(X_train,y_train)"
   ]
  },
  {
   "cell_type": "code",
   "execution_count": 133,
   "id": "5ff995d6",
   "metadata": {},
   "outputs": [],
   "source": [
    "#Use a helper function to make the graphing easier\n",
    "def helper_func(x, degree):\n",
    "    return np.array([x**i for i in range(degree+1)])"
   ]
  },
  {
   "cell_type": "code",
   "execution_count": 136,
   "id": "5bd4c0fa",
   "metadata": {},
   "outputs": [
    {
     "data": {
      "text/plain": [
       "[<matplotlib.lines.Line2D at 0x7fc8a84b4250>]"
      ]
     },
     "execution_count": 136,
     "metadata": {},
     "output_type": "execute_result"
    },
    {
     "data": {
      "image/png": "[encoded data removed]",
      "text/plain": [
       "<Figure size 432x288 with 1 Axes>"
      ]
     },
     "metadata": {
      "needs_background": "light"
     },
     "output_type": "display_data"
    }
   ],
   "source": [
    "#Plot the \n",
    "x = np.linspace(0,1,100)\n",
    "y_true = a@ helper_func(x,p)\n",
    "y_pred = b_hat @ helper_func(x,p)\n",
    "plt.scatter(x_train,y_train)\n",
    "plt.plot(x, y_pred, 'b')\n",
    "plt.plot(x, y_true, 'r')"
   ]
  },
  {
   "cell_type": "markdown",
   "id": "313da877",
   "metadata": {},
   "source": [
    "### Problem 10"
   ]
  },
  {
   "cell_type": "code",
   "execution_count": 137,
   "id": "0af12210",
   "metadata": {},
   "outputs": [
    {
     "name": "stdout",
     "output_type": "stream",
     "text": [
      "Empirical Risk for Polynomial Degree 1 is: 3.720465874524908\n",
      "[ 0.84064174 -1.74448569 -4.5397673   5.29138221 -4.87426246 -9.38314174]\n",
      "[  2.86891047 -10.10282545]\n",
      "Empirical Risk for Polynomial Degree 2 is: 0.6777850756924978\n",
      "[ 0.84064174 -1.74448569 -4.5397673   5.29138221 -4.87426246 -9.38314174]\n",
      "[ -0.0973068    6.57851925 -17.30174326]\n",
      "Empirical Risk for Polynomial Degree 3 is: 0.04022212198319002\n",
      "[ 0.84064174 -1.74448569 -4.5397673   5.29138221 -4.87426246 -9.38314174]\n",
      "[  1.24824584  -8.39446388  21.84362779 -28.13465957]\n",
      "Empirical Risk for Polynomial Degree 4 is: 0.0004901411529413316\n",
      "[ 0.84064174 -1.74448569 -4.5397673   5.29138221 -4.87426246 -9.38314174]\n",
      "[  0.7891938   -0.60139288 -11.84535986  24.60240211 -27.22967458]\n",
      "Empirical Risk for Polynomial Degree 5 is: 1.982426123549417e-18\n",
      "[ 0.84064174 -1.74448569 -4.5397673   5.29138221 -4.87426246 -9.38314174]\n",
      "[ 0.84064174 -1.7444857  -4.53976729  5.2913822  -4.87426245 -9.38314174]\n",
      "Empirical Risk for Polynomial Degree 6 is: 3.865119452258973e-14\n",
      "[ 0.84064174 -1.74448569 -4.5397673   5.29138221 -4.87426246 -9.38314174]\n",
      "[ 8.40642151e-01 -1.74448792e+00 -4.53976481e+00  5.29138037e+00\n",
      " -4.87425964e+00 -9.38314338e+00  5.30103989e-07]\n",
      "Empirical Risk for Polynomial Degree 7 is: 8.815348196251365e-10\n",
      "[ 0.84064174 -1.74448569 -4.5397673   5.29138221 -4.87426246 -9.38314174]\n",
      "[ 8.40676368e-01 -1.74463596e+00 -4.53982473e+00  5.29202605e+00\n",
      " -4.87487233e+00 -9.38308862e+00 -5.64585207e-06 -4.03355807e-06]\n",
      "Empirical Risk for Polynomial Degree 8 is: 4.4558234656136233e-05\n",
      "[ 0.84064174 -1.74448569 -4.5397673   5.29138221 -4.87426246 -9.38314174]\n",
      "[ 8.29602963e-01 -1.66657203e+00 -4.79761416e+00  5.78724656e+00\n",
      " -5.40764056e+00 -9.03006778e+00 -1.14817425e-01  1.20034046e-02\n",
      " -7.31248729e-03]\n",
      "Empirical Risk for Polynomial Degree 9 is: 2.8747275648229254\n",
      "[ 0.84064174 -1.74448569 -4.5397673   5.29138221 -4.87426246 -9.38314174]\n",
      "[  1.56643314   2.40566665 -37.0432531   45.09762472  -0.47123706\n",
      " -26.51421228 -12.0057469   15.9213025  -10.5602268    1.30987093]\n"
     ]
    }
   ],
   "source": [
    "#Iterate through values 1-> 10, which will be \n",
    "#the degree of our polynomial used to predict y\n",
    "for i in range(1,10):\n",
    "    \n",
    "    #Get new design matrices for polynomial i\n",
    "    X_train = get_design_mat(x_train, i)\n",
    "    X_test = get_design_mat(x_test, i)\n",
    "    \n",
    "    #Calculate best coefficient for each term\n",
    "    new_b_hat = least_squares_estimator(X_train, y_train)\n",
    "    \n",
    "    #Calculate empirical risk for polynomial degree i\n",
    "    current_risk = empirical_risk(X_test,y_test,new_b_hat)\n",
    "    print(\"Empirical Risk for Polynomial Degree\", i, \"is:\",current_risk)\n",
    "    print(a)\n",
    "    print(new_b_hat)\n",
    "    "
   ]
  },
  {
   "cell_type": "code",
   "execution_count": null,
   "id": "91a7f220",
   "metadata": {},
   "outputs": [],
   "source": []
  }
 ],
 "metadata": {
  "kernelspec": {
   "display_name": "Python 3 (ipykernel)",
   "language": "python",
   "name": "python3"
  },
  "language_info": {
   "codemirror_mode": {
    "name": "ipython",
    "version": 3
   },
   "file_extension": ".py",
   "mimetype": "text/x-python",
   "name": "python",
   "nbconvert_exporter": "python",
   "pygments_lexer": "ipython3",
   "version": "3.9.7"
  }
 },
 "nbformat": 4,
 "nbformat_minor": 5
}
