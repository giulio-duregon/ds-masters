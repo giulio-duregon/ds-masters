{
  "cells": [
    {
      "cell_type": "markdown",
      "metadata": {
        "id": "QS_O3Dj7ABET"
      },
      "source": [
        "## Homework 05:\n",
        "\n",
        "## Due Date: Mar 8, 2023, 4:00pm\n",
        "\n",
        "#### Firstname Lastname: Tiffany Lin\n",
        "\n",
        "#### E-mail: tl3493@nyu.edu\n",
        "\n",
        "#### Enter your solutions and submit this notebook"
      ]
    },
    {
      "cell_type": "markdown",
      "metadata": {
        "id": "4ljMqb9cABEW"
      },
      "source": [
        "---\n",
        "\n",
        "### Part of Lecture 04\n",
        "\n",
        "---"
      ]
    },
    {
      "cell_type": "code",
      "execution_count": null,
      "metadata": {
        "colab": {
          "base_uri": "https://localhost:8080/"
        },
        "id": "CXIv9QbxT5-A",
        "outputId": "daf6a5b6-7275-48a4-d5cd-c00cf5ed5193"
      },
      "outputs": [
        {
          "name": "stdout",
          "output_type": "stream",
          "text": [
            "Looking in indexes: https://pypi.org/simple, https://us-python.pkg.dev/colab-wheels/public/simple/\n",
            "Requirement already satisfied: line_profiler==3.3.1 in /usr/local/lib/python3.8/dist-packages (3.3.1)\n",
            "Requirement already satisfied: IPython>=0.13 in /usr/local/lib/python3.8/dist-packages (from line_profiler==3.3.1) (7.9.0)\n",
            "Requirement already satisfied: pygments in /usr/local/lib/python3.8/dist-packages (from IPython>=0.13->line_profiler==3.3.1) (2.6.1)\n",
            "Requirement already satisfied: jedi>=0.10 in /usr/local/lib/python3.8/dist-packages (from IPython>=0.13->line_profiler==3.3.1) (0.18.2)\n",
            "Requirement already satisfied: pickleshare in /usr/local/lib/python3.8/dist-packages (from IPython>=0.13->line_profiler==3.3.1) (0.7.5)\n",
            "Requirement already satisfied: prompt-toolkit<2.1.0,>=2.0.0 in /usr/local/lib/python3.8/dist-packages (from IPython>=0.13->line_profiler==3.3.1) (2.0.10)\n",
            "Requirement already satisfied: traitlets>=4.2 in /usr/local/lib/python3.8/dist-packages (from IPython>=0.13->line_profiler==3.3.1) (5.7.1)\n",
            "Requirement already satisfied: decorator in /usr/local/lib/python3.8/dist-packages (from IPython>=0.13->line_profiler==3.3.1) (4.4.2)\n",
            "Requirement already satisfied: backcall in /usr/local/lib/python3.8/dist-packages (from IPython>=0.13->line_profiler==3.3.1) (0.2.0)\n",
            "Requirement already satisfied: setuptools>=18.5 in /usr/local/lib/python3.8/dist-packages (from IPython>=0.13->line_profiler==3.3.1) (57.4.0)\n",
            "Requirement already satisfied: pexpect in /usr/local/lib/python3.8/dist-packages (from IPython>=0.13->line_profiler==3.3.1) (4.8.0)\n",
            "Requirement already satisfied: parso<0.9.0,>=0.8.0 in /usr/local/lib/python3.8/dist-packages (from jedi>=0.10->IPython>=0.13->line_profiler==3.3.1) (0.8.3)\n",
            "Requirement already satisfied: wcwidth in /usr/local/lib/python3.8/dist-packages (from prompt-toolkit<2.1.0,>=2.0.0->IPython>=0.13->line_profiler==3.3.1) (0.2.6)\n",
            "Requirement already satisfied: six>=1.9.0 in /usr/local/lib/python3.8/dist-packages (from prompt-toolkit<2.1.0,>=2.0.0->IPython>=0.13->line_profiler==3.3.1) (1.15.0)\n",
            "Requirement already satisfied: ptyprocess>=0.5 in /usr/local/lib/python3.8/dist-packages (from pexpect->IPython>=0.13->line_profiler==3.3.1) (0.7.0)\n"
          ]
        }
      ],
      "source": [
        "!pip install line_profiler==3.3.1"
      ]
    },
    {
      "cell_type": "code",
      "execution_count": null,
      "metadata": {
        "id": "idTzIP04ABEW"
      },
      "outputs": [],
      "source": [
        "from itertools import product\n",
        "import numpy as np\n",
        "import matplotlib.pyplot as plt\n",
        "\n",
        "def build_grid(n):\n",
        "    '''defines the grid'''\n",
        "    G = np.zeros((n, n))\n",
        "    return G\n",
        "\n",
        "def set_boundary_grid(G):\n",
        "    '''set the boundary values'''\n",
        "    n = G.shape[0]\n",
        "    G[:,  0] = 1.0\n",
        "    G[0,  :] = 1.0\n",
        "    G[-1, :] = 1.0\n",
        "    G[:, -1] = 1.0\n",
        "\n",
        "def plot_grid(G):\n",
        "    img = plt.imshow(G)\n",
        "    img.set_cmap('rainbow')\n",
        "    plt.axis('off')\n",
        "    plt.show()\n",
        "\n",
        "# using iterators to traverse the grid\n",
        "def iteration_gen(G):\n",
        "    n = G.shape[0]\n",
        "    indices = product(range(1, n-1), repeat=2)\n",
        "    for e in indices:\n",
        "        G[e]=(G[e[0] + 1, e[1]] + G[e[0] - 1, e[1]] + G[e[0], e[1] + 1] + G[e[0], e[1] - 1])/4\n",
        "    \n",
        "\n",
        "# using numpy built-in functions to compute the error\n",
        "def calc_error_np(G1, G2):\n",
        "    error = np.square(np.subtract(G1, G2)).mean()\n",
        "    return(error)\n",
        "\n",
        "# deep copy of G1 to G2\n",
        "def copy_array(G1, G2):\n",
        "    G2[:, :] = G1[:, :]\n",
        "\n",
        "    \n",
        "def solve_heat_equation4(n):\n",
        "    '''changing to both calc_error_np and iteration_gen functions'''\n",
        "    G = build_grid(n)\n",
        "    set_boundary_grid(G)\n",
        "    \n",
        "    G_prev = build_grid(n)\n",
        "    copy_array(G, G_prev)\n",
        "    \n",
        "    error = np.float(\"inf\")\n",
        "    while error > 1e-7:\n",
        "        iteration_gen(G)\n",
        "        error = calc_error_np(G, G_prev) \n",
        "        copy_array(G, G_prev)          \n",
        "    return(G)"
      ]
    },
    {
      "cell_type": "code",
      "execution_count": null,
      "metadata": {
        "colab": {
          "base_uri": "https://localhost:8080/",
          "height": 248
        },
        "id": "s4RXPJ-EABEX",
        "outputId": "0929fb00-c364-4900-e40e-195971045d04"
      },
      "outputs": [
        {
          "data": {
            "image/png": "[encoded data removed]",
            "text/plain": [
              "<Figure size 432x288 with 1 Axes>"
            ]
          },
          "metadata": {
            "needs_background": "light"
          },
          "output_type": "display_data"
        }
      ],
      "source": [
        "size_of_grid = 100\n",
        "G = build_grid(n=size_of_grid)\n",
        "set_boundary_grid(G)\n",
        "plot_grid(G) "
      ]
    },
    {
      "cell_type": "code",
      "execution_count": null,
      "metadata": {
        "colab": {
          "base_uri": "https://localhost:8080/"
        },
        "id": "gxLC6uZWABEY",
        "outputId": "4c2d17ac-f4df-4fe0-c6f9-05f1d2583621"
      },
      "outputs": [
        {
          "name": "stderr",
          "output_type": "stream",
          "text": [
            "<ipython-input-2-f7b616fafb0b>:50: DeprecationWarning: `np.float` is a deprecated alias for the builtin `float`. To silence this warning, use `float` by itself. Doing this will not modify any behavior and is safe. If you specifically wanted the numpy scalar type, use `np.float64` here.\n",
            "Deprecated in NumPy 1.20; for more details and guidance: https://numpy.org/devdocs/release/1.20.0-notes.html#deprecations\n",
            "  error = np.float(\"inf\")\n"
          ]
        }
      ],
      "source": [
        "%load_ext line_profiler\n",
        "%lprun -f solve_heat_equation4 G4 = solve_heat_equation4(size_of_grid)"
      ]
    },
    {
      "cell_type": "code",
      "execution_count": null,
      "metadata": {
        "colab": {
          "base_uri": "https://localhost:8080/",
          "height": 248
        },
        "id": "dTfr8l_UABEY",
        "outputId": "0541171d-0c73-4505-afcf-8b091614a9e7"
      },
      "outputs": [
        {
          "data": {
            "image/png": "[encoded data removed]",
            "text/plain": [
              "<Figure size 432x288 with 1 Axes>"
            ]
          },
          "metadata": {
            "needs_background": "light"
          },
          "output_type": "display_data"
        }
      ],
      "source": [
        "plot_grid(G4)"
      ]
    },
    {
      "cell_type": "markdown",
      "metadata": {
        "id": "qLYAoNOW-LNW"
      },
      "source": [
        "Timer unit: 1e-06 s\n",
        "\n",
        "Total time: 28.2432 s\n",
        "File: <ipython-input-2-f7b616fafb0b>\n",
        "Function: solve_heat_equation4 at line 42\n",
        "\n",
        "Line #      Hits         Time  Per Hit   % Time  Line Contents\n",
        "==============================================================\n",
        "    42                                           def solve_heat_equation4(n):\n",
        "    43                                               '''changing to both calc_error_np and iteration_gen functions'''\n",
        "    44         1         52.0     52.0      0.0      G = build_grid(n)\n",
        "    45         1         46.0     46.0      0.0      set_boundary_grid(G)\n",
        "    46                                               \n",
        "    47         1         21.0     21.0      0.0      G_prev = build_grid(n)\n",
        "    48         1         44.0     44.0      0.0      copy_array(G, G_prev)\n",
        "    49                                               \n",
        "    50         1       2051.0   2051.0      0.0      error = np.float(\"inf\")\n",
        "    51       935       1725.0      1.8      0.0      while error > 1e-7:\n",
        "    52       934   27923514.0  29896.7     98.9          iteration_gen(G)\n",
        "    53       934     288800.0    309.2      1.0          error = calc_error_np(G, G_prev) \n",
        "    54       934      26938.0     28.8      0.1          copy_array(G, G_prev)          \n",
        "    55         1          0.0      0.0      0.0      return(G)"
      ]
    },
    {
      "cell_type": "markdown",
      "metadata": {
        "id": "sQwWU4odABEY"
      },
      "source": [
        "# Problem 1. (100 points)\n",
        "\n",
        "\n",
        "In Lecture 04 we considered the heat equation over a homogeneous material for which an iteration is given by the following equation:\n",
        "$$\n",
        "f_{i,j} = \\frac{f_{i+1,j}+f_{i-1,j} + f_{i,j+1} + f_{i,j-1}}{4} \\,.\n",
        "$$\n",
        "\n",
        "This was implemented by: \n",
        "```\n",
        "# using iterators to traverse the grid\n",
        "def iteration_gen(G):\n",
        "\"\"\"the iteration function from lect04\"\"\"\n",
        "    n = G.shape[0]\n",
        "    indices = product(range(1, n-1), repeat=2)\n",
        "    for e in indices:\n",
        "        G[e]=(G[e[0] + 1, e[1]] + G[e[0] - 1, e[1]] + G[e[0], e[1] + 1] + G[e[0], e[1] - 1])/4\n",
        "```\n",
        "\n",
        "\n",
        "----\n",
        "\n",
        "Now imagine, you are given a non-homogeneous material for which the iteration, i.e. the corresponding equation,  depends on the position $(i, j)$ and is given by:\n",
        "$$\n",
        "f_{i,j} := \\frac{ h_{i + 1,j} f_{i + 1, j} + h_{i - 1,j} f_{i - 1,j} + h_{i,j + 1} f_{i,j+1} + h_{i,j - 1} f_{i,j-1}}{ h_{i + 1,j} + h_{i - 1,j} + h_{i,j + 1} + h_{i,j - 1} } \\,.\n",
        "$$\n",
        "Here \"weight\"\n",
        "$$h(i, j) = \\exp\\left(-\\frac{|i - j|} {\\sqrt{n}}\\right) \\,,$$\n",
        "corresponds to the point $(i, j)$, where $n$ is the size of the grid.\n",
        "\n",
        "----\n",
        "\n",
        "Write a new function:\n",
        "```\n",
        "def iteration_gen_nonhomogeneous(G):\n",
        "    \"\"\"the iteration function in hw05\"\"\"\n",
        "```\n",
        "to solve the non-homogeneous case defined as above. \n",
        "\n",
        "\n",
        "The task here is to examine run-time improvements that can be obtained by Cython for this non-homogeneous material. Consider **solve_heat_equation4** from Lect04, which now becomes.\n",
        "\n",
        "```\n",
        "def solve_heat_nonhomogeneous_equation4(n):\n",
        "    '''changing to both calc_error_np and iteration_gen functions'''\n",
        "    G = build_grid(n)\n",
        "    set_boundary_grid(G)\n",
        "    \n",
        "    G_prev = build_grid(n)\n",
        "    copy_array(G, G_prev)\n",
        "    \n",
        "    error = np.float(\"inf\")\n",
        "    while error > 1e-7:\n",
        "        iteration_gen_nonhomogeneous(G)\n",
        "        error = calc_error_np(G, G_prev) \n",
        "        copy_array(G, G_prev)          \n",
        "    return(G)\n",
        "```\n",
        "\n",
        "----\n",
        "\n",
        "Concretely, as presented in Lect05, perform the following steps and measure their run-times:\n",
        "\n",
        "(i) simply compile the python code with Cython, without any changes;\n",
        "\n",
        "\n",
        "(ii) introduce variables and arrays with ctypes (by using the command cdef);  \n",
        "\n",
        "\n",
        "(iii) besides (ii), also use the content of ndarray objects in order to efficiently access the data buffer of the arrays.\n",
        "\n",
        "---\n",
        "\n",
        "In the sequel of the notebook, as your solution, submit codes, run-times, and plots of the following tasks:\n",
        "\n",
        "**2.1 (30pt)** solve_heat_nonhomogeneous_equation4(100)\n",
        "\n",
        "**2.2 (10pt)** solve_heat_nonhomogeneous_equation4(100) when applied (i)  \n",
        "\n",
        "**2.3 (30pt)** solve_heat_nonhomogeneous_equation4(100) when applied (ii)  \n",
        "\n",
        "**2.4 (30pt)** solve_heat_nonhomogeneous_equation4(100) when applied (iii)  \n",
        "\n",
        "Notice that to obtain a best performance for the heat equation you also need to apply (i), (ii), (iii) to the functions called within \"solve_heat_equation4\".\n"
      ]
    },
    {
      "cell_type": "code",
      "execution_count": null,
      "metadata": {
        "colab": {
          "base_uri": "https://localhost:8080/",
          "height": 248
        },
        "id": "KlLqUG9_ABEa",
        "outputId": "bfc2a919-c794-4647-8e4e-056b3ca0bab0"
      },
      "outputs": [
        {
          "data": {
            "image/png": "[encoded data removed]",
            "text/plain": [
              "<Figure size 432x288 with 1 Axes>"
            ]
          },
          "metadata": {
            "needs_background": "light"
          },
          "output_type": "display_data"
        }
      ],
      "source": [
        "size_of_grid = 100\n",
        "G = build_grid(n=size_of_grid)\n",
        "set_boundary_grid(G)\n",
        "plot_grid(G) "
      ]
    },
    {
      "cell_type": "markdown",
      "metadata": {
        "id": "OWkbWZOqABEa"
      },
      "source": [
        "### Part 1: solve_heat_equation4(100)"
      ]
    },
    {
      "cell_type": "code",
      "execution_count": null,
      "metadata": {
        "id": "jOuYLm7RABEa"
      },
      "outputs": [],
      "source": [
        "import math\n",
        "def iteration_gen_nonhomogeneous(G):\n",
        "    \"\"\"the iteration function in hw05\"\"\"\n",
        "    n = G.shape[0]\n",
        "    indices = product(range(1, n-1), repeat=2)\n",
        "\n",
        "    for e in indices:\n",
        "        f_right = G[e[0] + 1, e[1]]\n",
        "        f_left = G[e[0] - 1, e[1]]\n",
        "        f_up = G[e[0], e[1] + 1]\n",
        "        f_down = G[e[0], e[1] - 1]\n",
        "\n",
        "        h_right = math.exp(- abs((e[0] + 1) - e[1]) / math.sqrt(n))\n",
        "        h_left = math.exp(- abs((e[0] - 1) - e[1]) / math.sqrt(n))\n",
        "        h_up = math.exp(- abs(e[0] - (e[1] + 1)) / math.sqrt(n))\n",
        "        h_down = math.exp(- abs(e[0] - (e[1] - 1)) / math.sqrt(n))\n",
        "\n",
        "        num = (h_right * f_right) + (h_left * f_left) + (h_up * f_up) + (h_down * f_down)\n",
        "        den = h_right + h_left + h_up + h_down\n",
        "\n",
        "        G[e] = num / den"
      ]
    },
    {
      "cell_type": "code",
      "execution_count": null,
      "metadata": {
        "id": "dL6mCJEx4CzK"
      },
      "outputs": [],
      "source": [
        "def solve_heat_nonhomogeneous_equation4(n):\n",
        "    '''changing to both calc_error_np and iteration_gen functions'''\n",
        "    G = build_grid(n)\n",
        "    set_boundary_grid(G)\n",
        "\n",
        "    G_prev = build_grid(n)\n",
        "    copy_array(G, G_prev)\n",
        "\n",
        "    error = np.float(\"inf\")\n",
        "    while error > 1e-7:\n",
        "        iteration_gen_nonhomogeneous(G)\n",
        "        error = calc_error_np(G, G_prev) \n",
        "        copy_array(G, G_prev)          \n",
        "    return(G)"
      ]
    },
    {
      "cell_type": "code",
      "execution_count": null,
      "metadata": {
        "colab": {
          "base_uri": "https://localhost:8080/",
          "height": 320
        },
        "id": "aGN0TftDABEa",
        "outputId": "99b948f6-3f89-43e5-c38f-8d3671ed3864"
      },
      "outputs": [
        {
          "name": "stderr",
          "output_type": "stream",
          "text": [
            "<ipython-input-8-55a7ef3b79e3>:9: DeprecationWarning: `np.float` is a deprecated alias for the builtin `float`. To silence this warning, use `float` by itself. Doing this will not modify any behavior and is safe. If you specifically wanted the numpy scalar type, use `np.float64` here.\n",
            "Deprecated in NumPy 1.20; for more details and guidance: https://numpy.org/devdocs/release/1.20.0-notes.html#deprecations\n",
            "  error = np.float(\"inf\")\n"
          ]
        },
        {
          "data": {
            "image/png": "[encoded data removed]",
            "text/plain": [
              "<Figure size 432x288 with 1 Axes>"
            ]
          },
          "metadata": {
            "needs_background": "light"
          },
          "output_type": "display_data"
        }
      ],
      "source": [
        "%lprun -f solve_heat_nonhomogeneous_equation4 G = solve_heat_nonhomogeneous_equation4(size_of_grid)\n",
        "plot_grid(G)"
      ]
    },
    {
      "cell_type": "markdown",
      "metadata": {
        "id": "bWME9J0SABEa"
      },
      "source": [
        "### HERE COPY-PASTE THE OUTPUT FROM LINE-PROFILER:\n",
        "\n",
        "Timer unit: 1e-06 s\n",
        "\n",
        "Total time: 23.4628 s\n",
        "File: <ipython-input-11-55a7ef3b79e3>\n",
        "Function: solve_heat_nonhomogeneous_equation4 at line 1\n",
        "\n",
        "Line #      Hits         Time  Per Hit   % Time  Line Contents\n",
        "==============================================================\n",
        "     1                                           def solve_heat_nonhomogeneous_equation4(n):\n",
        "     2                                               '''changing to both calc_error_np and iteration_gen functions'''\n",
        "     3         1         53.0     53.0      0.0      G = build_grid(n)\n",
        "     4         1         38.0     38.0      0.0      set_boundary_grid(G)\n",
        "     5                                           \n",
        "     6         1         27.0     27.0      0.0      G_prev = build_grid(n)\n",
        "     7         1         20.0     20.0      0.0      copy_array(G, G_prev)\n",
        "     8                                           \n",
        "     9         1       1859.0   1859.0      0.0      error = np.float(\"inf\")\n",
        "    10       310        557.0      1.8      0.0      while error > 1e-7:\n",
        "    11       309   23355910.0  75585.5     99.5          iteration_gen_nonhomogeneous(G)\n",
        "    12       309      92161.0    298.3      0.4          error = calc_error_np(G, G_prev) \n",
        "    13       309      12134.0     39.3      0.1          copy_array(G, G_prev)          \n",
        "    14         1          0.0      0.0      0.0      return(G)"
      ]
    },
    {
      "cell_type": "markdown",
      "metadata": {
        "id": "BkMtb4yuABEb"
      },
      "source": [
        "### Part 2: solve_heat_equation4(100) after applying (i)\n"
      ]
    },
    {
      "cell_type": "code",
      "execution_count": null,
      "metadata": {
        "id": "cDiJo0C6ABEb"
      },
      "outputs": [],
      "source": [
        "%load_ext Cython"
      ]
    },
    {
      "cell_type": "code",
      "execution_count": null,
      "metadata": {
        "colab": {
          "base_uri": "https://localhost:8080/",
          "height": 248
        },
        "id": "IzxGAOFDABEb",
        "outputId": "015a7b28-bba8-4631-ddb9-8019d8cca7b0"
      },
      "outputs": [
        {
          "data": {
            "image/png": "[encoded data removed]",
            "text/plain": [
              "<Figure size 432x288 with 1 Axes>"
            ]
          },
          "metadata": {
            "needs_background": "light"
          },
          "output_type": "display_data"
        }
      ],
      "source": [
        "# simply compile the python code with Cython, without any changes\n",
        "%%cython\n",
        "\n",
        "# cython: linetrace=True\n",
        "# cython: binding=True\n",
        "# distutils: define_macros=CYTHON_TRACE_NOGIL=1\n",
        "# cython: profile=True\n",
        "\n",
        "import math\n",
        "from itertools import product\n",
        "import numpy as np\n",
        "import matplotlib.pyplot as plt\n",
        "\n",
        "def build_grid(n):\n",
        "    '''defines the grid'''\n",
        "    G = np.zeros((n, n))\n",
        "    return G\n",
        "\n",
        "def set_boundary_grid(G):\n",
        "    '''set the boundary values'''\n",
        "    n = G.shape[0]\n",
        "    G[:,  0] = 1.0\n",
        "    G[0,  :] = 1.0\n",
        "    G[-1, :] = 1.0\n",
        "    G[:, -1] = 1.0\n",
        "\n",
        "def plot_grid(G):\n",
        "    img = plt.imshow(G)\n",
        "    img.set_cmap('rainbow')\n",
        "    plt.axis('off')\n",
        "    plt.show()\n",
        "\n",
        "# using numpy built-in functions to compute the error\n",
        "def calc_error_np(G1, G2):\n",
        "    error = np.square(np.subtract(G1, G2)).mean()\n",
        "    return(error)\n",
        "\n",
        "# deep copy of G1 to G2\n",
        "def copy_array(G1, G2):\n",
        "    G2[:, :] = G1[:, :]\n",
        "\n",
        "def iteration_gen_nonhomogeneous(G):\n",
        "    \"\"\"the iteration function in hw05\"\"\"\n",
        "    n = G.shape[0]\n",
        "    indices = product(range(1, n-1), repeat=2)\n",
        "\n",
        "    for e in indices:\n",
        "        f_right = G[e[0] + 1, e[1]]\n",
        "        f_left = G[e[0] - 1, e[1]]\n",
        "        f_up = G[e[0], e[1] + 1]\n",
        "        f_down = G[e[0], e[1] - 1]\n",
        "\n",
        "        h_right = math.exp(- abs((e[0] + 1) - e[1]) / math.sqrt(n))\n",
        "        h_left = math.exp(- abs((e[0] - 1) - e[1]) / math.sqrt(n))\n",
        "        h_up = math.exp(- abs(e[0] - (e[1] + 1)) / math.sqrt(n))\n",
        "        h_down = math.exp(- abs(e[0] - (e[1] - 1)) / math.sqrt(n))\n",
        "\n",
        "        num = (h_right * f_right) + (h_left * f_left) + (h_up * f_up) + (h_down * f_down)\n",
        "        den = h_right + h_left + h_up + h_down\n",
        "\n",
        "        G[e] = num / den\n",
        "\n",
        "def solve_heat_nonhomogeneous_equation4(n):\n",
        "    '''changing to both calc_error_np and iteration_gen functions'''\n",
        "    G = build_grid(n)\n",
        "    set_boundary_grid(G)\n",
        "\n",
        "    G_prev = build_grid(n)\n",
        "    copy_array(G, G_prev)\n",
        "\n",
        "    error = np.float(\"inf\")\n",
        "    while error > 1e-7:\n",
        "        iteration_gen_nonhomogeneous(G)\n",
        "        error = calc_error_np(G, G_prev) \n",
        "        copy_array(G, G_prev)          \n",
        "    return(G)\n",
        "\n",
        "size_of_grid = 100\n",
        "G = build_grid(size_of_grid)\n",
        "set_boundary_grid(G)\n",
        "plot_grid(G) "
      ]
    },
    {
      "cell_type": "code",
      "execution_count": null,
      "metadata": {
        "colab": {
          "base_uri": "https://localhost:8080/",
          "height": 283
        },
        "id": "nE8mxr68ABEb",
        "outputId": "8482cd53-9184-42b7-b1ff-b8c6c02c41e6"
      },
      "outputs": [
        {
          "name": "stderr",
          "output_type": "stream",
          "text": [
            "<string>:1: DeprecationWarning: `np.float` is a deprecated alias for the builtin `float`. To silence this warning, use `float` by itself. Doing this will not modify any behavior and is safe. If you specifically wanted the numpy scalar type, use `np.float64` here.\n",
            "Deprecated in NumPy 1.20; for more details and guidance: https://numpy.org/devdocs/release/1.20.0-notes.html#deprecations\n"
          ]
        },
        {
          "data": {
            "image/png": "[encoded data removed]",
            "text/plain": [
              "<Figure size 432x288 with 1 Axes>"
            ]
          },
          "metadata": {
            "needs_background": "light"
          },
          "output_type": "display_data"
        }
      ],
      "source": [
        "%lprun -f solve_heat_nonhomogeneous_equation4 G = solve_heat_nonhomogeneous_equation4(size_of_grid)\n",
        "plot_grid(G)"
      ]
    },
    {
      "cell_type": "markdown",
      "metadata": {
        "id": "WehY8MfLABEb"
      },
      "source": [
        "### HERE COPY-PASTE THE OUTPUT FROM LINE-PROFILER:\n",
        "\n",
        "Timer unit: 1e-06 s\n",
        "\n",
        "Total time: 12.5934 s\n",
        "File: /root/.cache/ipython/cython/_cython_magic_b52c827b1d573ea994135091a9800d05.pyx\n",
        "Function: solve_heat_nonhomogeneous_equation4 at line 61\n",
        "\n",
        "Line #      Hits         Time  Per Hit   % Time  Line Contents\n",
        "==============================================================\n",
        "    61                                           def solve_heat_nonhomogeneous_equation4(n):\n",
        "    62                                               '''changing to both calc_error_np and iteration_gen functions'''\n",
        "    63         1         91.0     91.0      0.0      G = build_grid(n)\n",
        "    64         1         35.0     35.0      0.0      set_boundary_grid(G)\n",
        "    65                                           \n",
        "    66         1         22.0     22.0      0.0      G_prev = build_grid(n)\n",
        "    67         1         20.0     20.0      0.0      copy_array(G, G_prev)\n",
        "    68                                           \n",
        "    69         1        929.0    929.0      0.0      error = np.float(\"inf\")\n",
        "    70         1          2.0      2.0      0.0      while error > 1e-7:\n",
        "    71       309   12379618.0  40063.5     98.3          iteration_gen_nonhomogeneous(G)\n",
        "    72       309     195521.0    632.8      1.6          error = calc_error_np(G, G_prev) \n",
        "    73       309      17171.0     55.6      0.1          copy_array(G, G_prev)          \n",
        "    74         1          1.0      1.0      0.0      return(G)"
      ]
    },
    {
      "cell_type": "markdown",
      "metadata": {
        "id": "2ST5W5xKABEb"
      },
      "source": [
        "### Part 3: solve_heat_equation4(100) after applying (ii)"
      ]
    },
    {
      "cell_type": "code",
      "execution_count": null,
      "metadata": {
        "colab": {
          "base_uri": "https://localhost:8080/"
        },
        "id": "XvBIxvMqPrz8",
        "outputId": "6f27c6a6-6304-417c-8b3a-6995962aa46b"
      },
      "outputs": [
        {
          "name": "stdout",
          "output_type": "stream",
          "text": [
            "The Cython extension is already loaded. To reload it, use:\n",
            "  %reload_ext Cython\n"
          ]
        }
      ],
      "source": [
        "%load_ext Cython"
      ]
    },
    {
      "cell_type": "code",
      "execution_count": null,
      "metadata": {
        "colab": {
          "base_uri": "https://localhost:8080/",
          "height": 248
        },
        "id": "M-2wdUYbABEb",
        "outputId": "625890fa-5808-46a1-a8e9-66d3e96f0ae0"
      },
      "outputs": [
        {
          "data": {
            "image/png": "[encoded data removed]",
            "text/plain": [
              "<Figure size 432x288 with 1 Axes>"
            ]
          },
          "metadata": {
            "needs_background": "light"
          },
          "output_type": "display_data"
        }
      ],
      "source": [
        "#introduce variables and arrays with ctypes (by using the command cdef)\n",
        "%%cython\n",
        "\n",
        "# cython: linetrace=True\n",
        "# cython: binding=True\n",
        "# distutils: define_macros=CYTHON_TRACE_NOGIL=1\n",
        "# cython: profile=True\n",
        "\n",
        "import math\n",
        "from itertools import product\n",
        "import numpy as np\n",
        "cimport numpy as np # need to import special compile-time information\n",
        "import matplotlib.pyplot as plt\n",
        "\n",
        "def build_grid(n):\n",
        "    '''defines the grid'''\n",
        "    cdef np.ndarray G = np.zeros([n, n], dtype=float)\n",
        "    return G\n",
        "\n",
        "def set_boundary_grid(np.ndarray G):\n",
        "    '''set the boundary values'''\n",
        "    cdef int n = G.shape[0]\n",
        "    G[:,  0] = 1.0\n",
        "    G[0,  :] = 1.0\n",
        "    G[-1, :] = 1.0\n",
        "    G[:, -1] = 1.0\n",
        "\n",
        "def plot_grid(np.ndarray G):\n",
        "    img = plt.imshow(G)\n",
        "    img.set_cmap('rainbow')\n",
        "    plt.axis('off')\n",
        "    plt.show()\n",
        "\n",
        "# using numpy built-in functions to compute the error\n",
        "def calc_error_np(np.ndarray G1, np.ndarray G2):\n",
        "    cdef float error = np.square(np.subtract(G1, G2)).mean()\n",
        "    return(error)\n",
        "\n",
        "# deep copy of G1 to G2\n",
        "def copy_array(np.ndarray G1, np.ndarray G2):\n",
        "    G2[:, :] = G1[:, :]\n",
        "\n",
        "def iteration_gen_nonhomogeneous(np.ndarray G):\n",
        "    \"\"\"the iteration function in hw05\"\"\"\n",
        "    cdef int n = G.shape[0]\n",
        "    #indices = product(range(1, n-1), repeat=2) # Got rid of this python implementation, instead I used a nested for loop with cdef variables \n",
        "    cdef int i, j \n",
        "\n",
        "    cdef float f_right\n",
        "    cdef float f_left\n",
        "    cdef float f_up\n",
        "    cdef float f_down\n",
        "    cdef float h_right\n",
        "    cdef float h_left\n",
        "    cdef float h_up\n",
        "    cdef float h_down\n",
        "    cdef float num\n",
        "    cdef float den\n",
        "\n",
        "    for i in range(1, n-1):\n",
        "        for j in range(1, n-1): \n",
        "            f_right = G[i + 1, j]\n",
        "            f_left = G[i - 1, j]\n",
        "            f_up = G[i, j + 1]\n",
        "            f_down = G[i, j - 1]\n",
        "\n",
        "            h_right = math.exp(- abs((i + 1) - j) / math.sqrt(n))\n",
        "            h_left = math.exp(- abs((i - 1) - j) / math.sqrt(n))\n",
        "            h_up = math.exp(- abs(i - (j + 1)) / math.sqrt(n))\n",
        "            h_down = math.exp(- abs(i - (j - 1)) / math.sqrt(n))\n",
        "\n",
        "            num = (h_right * f_right) + (h_left * f_left) + (h_up * f_up) + (h_down * f_down)\n",
        "            den = h_right + h_left + h_up + h_down\n",
        "\n",
        "            G[i, j] = num / den\n",
        "\n",
        "    return G\n",
        "\n",
        "def solve_heat_nonhomogeneous_equation4(n):\n",
        "    '''changing to both calc_error_np and iteration_gen functions'''\n",
        "    cdef np.ndarray G = build_grid(n)\n",
        "    set_boundary_grid(G)\n",
        "\n",
        "    cdef np.ndarray G_prev = build_grid(n)\n",
        "    copy_array(G, G_prev)\n",
        "\n",
        "    cdef float error = np.float(\"inf\")\n",
        "    while error > 1e-7:\n",
        "        G = iteration_gen_nonhomogeneous(G)\n",
        "        error = calc_error_np(G, G_prev) \n",
        "        copy_array(G, G_prev)      \n",
        "    return(G)\n",
        "\n",
        "size_of_grid = 100\n",
        "G = build_grid(size_of_grid)\n",
        "set_boundary_grid(G)\n",
        "plot_grid(G) "
      ]
    },
    {
      "cell_type": "code",
      "execution_count": null,
      "metadata": {
        "colab": {
          "base_uri": "https://localhost:8080/",
          "height": 283
        },
        "id": "CVSBFi9pABEb",
        "outputId": "12a4ca83-a38a-478d-8d4c-31412513815e"
      },
      "outputs": [
        {
          "name": "stderr",
          "output_type": "stream",
          "text": [
            "<string>:1: DeprecationWarning: `np.float` is a deprecated alias for the builtin `float`. To silence this warning, use `float` by itself. Doing this will not modify any behavior and is safe. If you specifically wanted the numpy scalar type, use `np.float64` here.\n",
            "Deprecated in NumPy 1.20; for more details and guidance: https://numpy.org/devdocs/release/1.20.0-notes.html#deprecations\n"
          ]
        },
        {
          "data": {
            "image/png": "[encoded data removed]",
            "text/plain": [
              "<Figure size 432x288 with 1 Axes>"
            ]
          },
          "metadata": {
            "needs_background": "light"
          },
          "output_type": "display_data"
        }
      ],
      "source": [
        "%lprun -f solve_heat_nonhomogeneous_equation4 G = solve_heat_nonhomogeneous_equation4(size_of_grid)\n",
        "plot_grid(G)"
      ]
    },
    {
      "cell_type": "markdown",
      "metadata": {
        "id": "uMoP00HfABEc"
      },
      "source": [
        "### HERE COPY-PASTE THE OUTPUT FROM LINE-PROFILER:\n",
        "\n",
        "Timer unit: 1e-06 s\n",
        "\n",
        "Total time: 10.8671 s\n",
        "File: /root/.cache/ipython/cython/_cython_magic_d63f6ce9242bde0fda993b5c1d9b10d6.pyx\n",
        "Function: solve_heat_nonhomogeneous_equation4 at line 76\n",
        "\n",
        "Line #      Hits         Time  Per Hit   % Time  Line Contents\n",
        "==============================================================\n",
        "    76                                           def solve_heat_nonhomogeneous_equation4(n):\n",
        "    77                                               '''changing to both calc_error_np and iteration_gen functions'''\n",
        "    78         1         57.0     57.0      0.0      cdef np.ndarray G = build_grid(n)\n",
        "    79         1         33.0     33.0      0.0      set_boundary_grid(G)\n",
        "    80                                           \n",
        "    81         1         27.0     27.0      0.0      cdef np.ndarray G_prev = build_grid(n)\n",
        "    82         1         18.0     18.0      0.0      copy_array(G, G_prev)\n",
        "    83                                           \n",
        "    84         1       1048.0   1048.0      0.0      cdef float error = np.float(\"inf\")\n",
        "    85         1          2.0      2.0      0.0      while error > 1e-7:\n",
        "    86       309   10695072.0  34611.9     98.4          G = iteration_gen_nonhomogeneous(G)\n",
        "    87       309     159224.0    515.3      1.5          error = calc_error_np(G, G_prev) \n",
        "    88       309      11587.0     37.5      0.1          copy_array(G, G_prev)      \n",
        "    89         1          2.0      2.0      0.0      return(G)"
      ]
    },
    {
      "cell_type": "markdown",
      "metadata": {
        "id": "8B2hJOxJABEc"
      },
      "source": [
        "### Part 4: solve_heat_equation4(100) after applying (iii)"
      ]
    },
    {
      "cell_type": "code",
      "execution_count": null,
      "metadata": {
        "colab": {
          "base_uri": "https://localhost:8080/",
          "height": 248
        },
        "id": "abRvRzRKABEc",
        "outputId": "eed7cc7f-d75b-42fa-b2b8-933dcea59b20"
      },
      "outputs": [
        {
          "data": {
            "image/png": "[encoded data removed]",
            "text/plain": [
              "<Figure size 432x288 with 1 Axes>"
            ]
          },
          "metadata": {
            "needs_background": "light"
          },
          "output_type": "display_data"
        }
      ],
      "source": [
        "# beside introducing variables and arrays with ctypes (by using the command cdef) \n",
        "# also use the content of ndarray objects in order to efficiently access the data buffer of the arrays.\n",
        "%%cython\n",
        "\n",
        "# cython: linetrace=True\n",
        "# cython: binding=True\n",
        "# distutils: define_macros=CYTHON_TRACE_NOGIL=1\n",
        "# cython: profile=True\n",
        "\n",
        "import math\n",
        "from itertools import product\n",
        "import numpy as np\n",
        "cimport numpy as np # need to import special compile-time information\n",
        "import matplotlib.pyplot as plt\n",
        "\n",
        "def build_grid(n):\n",
        "    '''defines the grid'''\n",
        "    cdef np.ndarray[double, ndim=2] G = np.zeros([n, n], dtype=float) # added efficient indexing with special buffer syntax\n",
        "    return G\n",
        "\n",
        "def set_boundary_grid(np.ndarray[double, ndim=2] G): # parameters also use efficient indexing with special buffer syntax now\n",
        "    '''set the boundary values'''\n",
        "    cdef int n = G.shape[0]\n",
        "    G[:,  0] = 1.0\n",
        "    G[0,  :] = 1.0\n",
        "    G[-1, :] = 1.0\n",
        "    G[:, -1] = 1.0\n",
        "\n",
        "def plot_grid(np.ndarray[double, ndim=2] G):\n",
        "    img = plt.imshow(G)\n",
        "    img.set_cmap('rainbow')\n",
        "    plt.axis('off')\n",
        "    plt.show()\n",
        "\n",
        "# using numpy built-in functions to compute the error\n",
        "def calc_error_np(np.ndarray[double, ndim=2] G1, np.ndarray[double, ndim=2] G2):\n",
        "    cdef float error = np.square(np.subtract(G1, G2)).mean()\n",
        "    return(error)\n",
        "\n",
        "# deep copy of G1 to G2\n",
        "def copy_array(np.ndarray[double, ndim=2] G1, np.ndarray[double, ndim=2] G2):\n",
        "    G2[:, :] = G1[:, :]\n",
        "\n",
        "def iteration_gen_nonhomogeneous(np.ndarray[double, ndim=2] G):\n",
        "    \"\"\"the iteration function in hw05\"\"\"\n",
        "    cdef int n = G.shape[0]\n",
        "    cdef int i, j \n",
        "\n",
        "    cdef float f_right\n",
        "    cdef float f_left\n",
        "    cdef float f_up\n",
        "    cdef float f_down\n",
        "    cdef float h_right\n",
        "    cdef float h_left\n",
        "    cdef float h_up\n",
        "    cdef float h_down\n",
        "    cdef float num\n",
        "    cdef float den\n",
        "\n",
        "    for i in range(1, n-1):\n",
        "        for j in range(1, n-1): \n",
        "            f_right = G[i + 1, j]\n",
        "            f_left = G[i - 1, j]\n",
        "            f_up = G[i, j + 1]\n",
        "            f_down = G[i, j - 1]\n",
        "\n",
        "            h_right = math.exp(- abs((i + 1) - j) / math.sqrt(n))\n",
        "            h_left = math.exp(- abs((i - 1) - j) / math.sqrt(n))\n",
        "            h_up = math.exp(- abs(i - (j + 1)) / math.sqrt(n))\n",
        "            h_down = math.exp(- abs(i - (j - 1)) / math.sqrt(n))\n",
        "\n",
        "            num = (h_right * f_right) + (h_left * f_left) + (h_up * f_up) + (h_down * f_down)\n",
        "            den = h_right + h_left + h_up + h_down\n",
        "\n",
        "            G[i, j] = num / den\n",
        "\n",
        "    return G\n",
        "\n",
        "def solve_heat_nonhomogeneous_equation4(n):\n",
        "    '''changing to both calc_error_np and iteration_gen functions'''\n",
        "    cdef np.ndarray[double, ndim=2] G = build_grid(n)\n",
        "    set_boundary_grid(G)\n",
        "\n",
        "    cdef np.ndarray[double, ndim=2] G_prev = build_grid(n)\n",
        "    copy_array(G, G_prev)\n",
        "\n",
        "    cdef float error = np.float(\"inf\")\n",
        "    while error > 1e-7:\n",
        "        G = iteration_gen_nonhomogeneous(G)\n",
        "        error = calc_error_np(G, G_prev) \n",
        "        copy_array(G, G_prev)      \n",
        "    return(G)\n",
        "\n",
        "size_of_grid = 100\n",
        "G = build_grid(size_of_grid)\n",
        "set_boundary_grid(G)\n",
        "plot_grid(G) "
      ]
    },
    {
      "cell_type": "code",
      "execution_count": null,
      "metadata": {
        "colab": {
          "base_uri": "https://localhost:8080/",
          "height": 283
        },
        "id": "evAtihxiABEc",
        "outputId": "1eea7686-ffd9-4bbc-a6c6-ab3d278a88ac"
      },
      "outputs": [
        {
          "name": "stderr",
          "output_type": "stream",
          "text": [
            "<string>:1: DeprecationWarning: `np.float` is a deprecated alias for the builtin `float`. To silence this warning, use `float` by itself. Doing this will not modify any behavior and is safe. If you specifically wanted the numpy scalar type, use `np.float64` here.\n",
            "Deprecated in NumPy 1.20; for more details and guidance: https://numpy.org/devdocs/release/1.20.0-notes.html#deprecations\n"
          ]
        },
        {
          "data": {
            "image/png": "[encoded data removed]",
            "text/plain": [
              "<Figure size 432x288 with 1 Axes>"
            ]
          },
          "metadata": {
            "needs_background": "light"
          },
          "output_type": "display_data"
        }
      ],
      "source": [
        "%lprun -f solve_heat_nonhomogeneous_equation4 G = solve_heat_nonhomogeneous_equation4(size_of_grid)\n",
        "plot_grid(G)"
      ]
    },
    {
      "cell_type": "markdown",
      "metadata": {
        "id": "brFLQca8ABEc"
      },
      "source": [
        "### HERE COPY-PASTE THE OUTPUT FROM LINE-PROFILER:\n",
        "\n",
        "Timer unit: 1e-06 s\n",
        "\n",
        "Total time: 8.45143 s\n",
        "File: /root/.cache/ipython/cython/_cython_magic_f82c15d9c8264317b8a2a7b4565dd827.pyx\n",
        "Function: solve_heat_nonhomogeneous_equation4 at line 78\n",
        "\n",
        "Line #      Hits         Time  Per Hit   % Time  Line Contents\n",
        "==============================================================\n",
        "    78                                           def solve_heat_nonhomogeneous_equation4(n):\n",
        "    79                                               '''changing to both calc_error_np and iteration_gen functions'''\n",
        "    80         1         78.0     78.0      0.0      cdef np.ndarray[double, ndim=2] G = build_grid(n)\n",
        "    81         1         29.0     29.0      0.0      set_boundary_grid(G)\n",
        "    82                                           \n",
        "    83         1         19.0     19.0      0.0      cdef np.ndarray[double, ndim=2] G_prev = build_grid(n)\n",
        "    84         1         18.0     18.0      0.0      copy_array(G, G_prev)\n",
        "    85                                           \n",
        "    86         1        994.0    994.0      0.0      cdef float error = np.float(\"inf\")\n",
        "    87         1          2.0      2.0      0.0      while error > 1e-7:\n",
        "    88       224    8330184.0  37188.3     98.6          G = iteration_gen_nonhomogeneous(G)\n",
        "    89       224     112260.0    501.2      1.3          error = calc_error_np(G, G_prev) \n",
        "    90       224       7845.0     35.0      0.1          copy_array(G, G_prev)      \n",
        "    91         1          2.0      2.0      0.0      return(G)"
      ]
    }
  ],
  "metadata": {
    "colab": {
      "provenance": []
    },
    "kernelspec": {
      "display_name": "base",
      "language": "python",
      "name": "python3"
    },
    "language_info": {
      "codemirror_mode": {
        "name": "ipython",
        "version": 3
      },
      "file_extension": ".py",
      "mimetype": "text/x-python",
      "name": "python",
      "nbconvert_exporter": "python",
      "pygments_lexer": "ipython3",
      "version": "3.9.13"
    },
    "toc": {
      "base_numbering": 1,
      "nav_menu": {},
      "number_sections": true,
      "sideBar": true,
      "skip_h1_title": false,
      "title_cell": "Table of Contents",
      "title_sidebar": "Contents",
      "toc_cell": false,
      "toc_position": {},
      "toc_section_display": true,
      "toc_window_display": false
    },
    "varInspector": {
      "cols": {
        "lenName": 16,
        "lenType": 16,
        "lenVar": 40
      },
      "kernels_config": {
        "python": {
          "delete_cmd_postfix": "",
          "delete_cmd_prefix": "del ",
          "library": "var_list.py",
          "varRefreshCmd": "print(var_dic_list())"
        },
        "r": {
          "delete_cmd_postfix": ") ",
          "delete_cmd_prefix": "rm(",
          "library": "var_list.r",
          "varRefreshCmd": "cat(var_dic_list()) "
        }
      },
      "types_to_exclude": [
        "module",
        "function",
        "builtin_function_or_method",
        "instance",
        "_Feature"
      ],
      "window_display": false
    },
    "vscode": {
      "interpreter": {
        "hash": "38cca0c38332a56087b24af0bc80247f4fced29cb4f7f437d91dc159adec9c4e"
      }
    }
  },
  "nbformat": 4,
  "nbformat_minor": 0
}
