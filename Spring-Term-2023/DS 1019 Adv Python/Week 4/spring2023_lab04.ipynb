{
 "cells": [
  {
   "attachments": {},
   "cell_type": "markdown",
   "metadata": {},
   "source": [
    "# DS-GA 1019\n",
    "\n",
    "# Lab 4 - Performance Tunning\n",
    "## Feb. 16, 2021"
   ]
  },
  {
   "cell_type": "code",
   "execution_count": 2,
   "metadata": {},
   "outputs": [],
   "source": [
    "import cProfile\n",
    "import re\n",
    "import numpy as np\n",
    "import scipy.signal\n",
    "import matplotlib.pyplot as plt\n",
    "%load_ext line_profiler"
   ]
  },
  {
   "cell_type": "markdown",
   "metadata": {
    "slideshow": {
     "slide_type": "slide"
    }
   },
   "source": [
    "### 1.Taylor series expansion\n",
    "\n",
    "$$e^x = \\sum^\\infty_{n=0} 1 + x + \\frac{x^2}{2!} + \\frac{x^3}{3!} + ...  $$\n",
    "\n",
    "\n",
    "$$\\sin(x) = x - \\frac{x^3}{3!} + \\frac{x^5}{5!} + ... $$"
   ]
  },
  {
   "cell_type": "code",
   "execution_count": 4,
   "metadata": {
    "slideshow": {
     "slide_type": "slide"
    }
   },
   "outputs": [],
   "source": [
    "def factorial(n):\n",
    "    \"\"\"A simple recursive function that calculates n!\n",
    "    \"\"\"\n",
    "    if n == 0:\n",
    "        return 1\n",
    "    else:\n",
    "        return n * factorial(n-1)\n",
    "\n",
    "def taylor_exp(n):\n",
    "    \"\"\"Calculates the coefficients of a general taylor expansion of n elements\n",
    "    \"\"\"\n",
    "    res = []\n",
    "    for i in range(n):\n",
    "        res.append(1 / factorial(i))\n",
    "    return res\n"
   ]
  },
  {
   "cell_type": "code",
   "execution_count": 5,
   "metadata": {
    "slideshow": {
     "slide_type": "slide"
    }
   },
   "outputs": [
    {
     "name": "stdout",
     "output_type": "stream",
     "text": [
      "Timer unit: 1e-06 s\n",
      "\n",
      "Total time: 0.255491 s\n",
      "File: /tmp/ipykernel_2650/267269308.py\n",
      "Function: taylor_exp at line 9\n",
      "\n",
      "Line #      Hits         Time  Per Hit   % Time  Line Contents\n",
      "==============================================================\n",
      "     9                                           def taylor_exp(n):\n",
      "    10                                               \"\"\"Calculates the coefficients of a general taylor expansion of n elements\n",
      "    11                                               \"\"\"\n",
      "    12         1          2.0      2.0      0.0      res = []\n",
      "    13      1001        580.0      0.6      0.2      for i in range(n):\n",
      "    14      1000     254909.0    254.9     99.8          res.append(1 / factorial(i))\n",
      "    15         1          0.0      0.0      0.0      return res"
     ]
    }
   ],
   "source": [
    "%lprun -f taylor_exp taylor_exp(1000)\n",
    "\n",
    "# Notice from the output below that the line that calculates the factorial\n",
    "# takes the most amount of time."
   ]
  },
  {
   "cell_type": "code",
   "execution_count": 6,
   "metadata": {
    "slideshow": {
     "slide_type": "slide"
    }
   },
   "outputs": [],
   "source": [
    "def factorial_upto(n):\n",
    "    \"\"\"Converting the factorial recursive function to an iterative \n",
    "    function that stores the factorial of each number upto n.\n",
    "    \"\"\"\n",
    "    res = [1]\n",
    "    \n",
    "    for i in range(1, n + 1):\n",
    "        res.append(res[-1] * i)\n",
    "    return res\n",
    "\n",
    "def better_taylor_exp(n):\n",
    "    \"\"\"Optimized function that calculates the coefficients of a taylor \n",
    "    expansion using factorial_upto and the built-in map function instead of a \n",
    "    for loop.\n",
    "    \"\"\"\n",
    "    factorials = factorial_upto(n)\n",
    "    \n",
    "    res = list(map(lambda x: 1/x, factorials))\n",
    "    return res"
   ]
  },
  {
   "cell_type": "code",
   "execution_count": 7,
   "metadata": {
    "slideshow": {
     "slide_type": "slide"
    }
   },
   "outputs": [
    {
     "name": "stdout",
     "output_type": "stream",
     "text": [
      "Timer unit: 1e-06 s\n",
      "\n",
      "Total time: 0.000956 s\n",
      "File: /tmp/ipykernel_2650/2623400775.py\n",
      "Function: better_taylor_exp at line 13\n",
      "\n",
      "Line #      Hits         Time  Per Hit   % Time  Line Contents\n",
      "==============================================================\n",
      "    13                                           def better_taylor_exp(n):\n",
      "    14                                               \"\"\"Optimized function that calculates the coefficients of a taylor \n",
      "    15                                               expansion using factorial_upto and the built-in map function instead of a \n",
      "    16                                               for loop.\n",
      "    17                                               \"\"\"\n",
      "    18         1        691.0    691.0     72.3      factorials = factorial_upto(n)\n",
      "    19                                               \n",
      "    20         1        265.0    265.0     27.7      res = list(map(lambda x: 1/x, factorials))\n",
      "    21         1          0.0      0.0      0.0      return res"
     ]
    }
   ],
   "source": [
    "%lprun -f better_taylor_exp better_taylor_exp(1000)"
   ]
  },
  {
   "cell_type": "markdown",
   "metadata": {
    "slideshow": {
     "slide_type": "slide"
    }
   },
   "source": [
    "### 2. Heat Equation\n",
    "Lets further analyze the problem of solving the _heat equation_:\n",
    "$$\n",
    "\\frac{\\partial^2 f}{\\partial x^2}+\\frac{\\partial^2 f}{\\partial y^2}=0\n",
    "$$\n",
    "using central difference in a square $[0,1]\\times[0,1]$ regular grid:\n",
    "$$\n",
    "\\frac{\\partial^2 f}{\\partial x^2}\\approx\\frac{f_{i+1,j}-f_{i,j}+f_{i-1,j} - f_{i,j}}{\\Delta x^2} = \\frac{f_{i+1,j}+f_{i-1,j} - 2f_{i,j}}{\\Delta x^2}\n",
    "$$\n",
    "\n",
    "$$\n",
    "\\frac{\\partial^2 f}{\\partial y^2}\\approx \\frac{f_{i,j+1}-f_{i,j}+f_{i,j-1} - f_{i,j}}{\\Delta y^2} = \\frac{f_{i,j+1}+f_{i,j-1} - 2f_{i,j}}{\\Delta y^2}\n",
    "$$\n",
    "\n",
    "We will assume $\\Delta x = \\Delta y$, so it follows:\n",
    "$$\n",
    "f_{i,j} = \\frac{f_{i+1,j}+f_{i-1,j} + f_{i,j+1} + f_{i,j-1}}{4} \\,.\n",
    "$$\n",
    "\n",
    "We set up initial value at boundary.\n",
    "\n",
    "Two versions of the code presented in class:"
   ]
  },
  {
   "cell_type": "code",
   "execution_count": 10,
   "metadata": {
    "slideshow": {
     "slide_type": "slide"
    }
   },
   "outputs": [],
   "source": [
    "def build_grid(n):\n",
    "    \"\"\"defines the grid\n",
    "    \"\"\"\n",
    "    G = np.zeros((n,n))\n",
    "    return(G)\n",
    "\n",
    "def set_boundary_grid(G):\n",
    "    \"\"\"set the boundary values\n",
    "    \"\"\"\n",
    "    n = G.shape[0]\n",
    "    G[:,0] = np.ones((1,n))\n",
    "    G[0,:] = np.ones((1,n)) \n",
    "    G[-1,:] = np.ones((1,n))\n",
    "    G[:,-1] = np.ones((1,n))\n",
    "    \n",
    "def calc_error(G1,G2):\n",
    "    \"\"\"Calculate the MSE between G1 and G2\n",
    "    \"\"\"\n",
    "    error = np.square(np.subtract(G1, G2)).mean()\n",
    "    return(error)\n",
    "\n",
    "def copy_array(G1,G2):\n",
    "    \"\"\"Copy the values of G1 into G2\n",
    "    \"\"\"\n",
    "    G2[:] = G1[:]"
   ]
  },
  {
   "cell_type": "code",
   "execution_count": 11,
   "metadata": {
    "slideshow": {
     "slide_type": "slide"
    }
   },
   "outputs": [],
   "source": [
    "def solve_heat_equation(n,update):\n",
    "    \"\"\"Function sets the grid G and solves the heat equation by updating the \n",
    "    grid until it converges within an error of 1e-7\n",
    "    Note - we are passing the function that updates G as a parameter\n",
    "    \"\"\"\n",
    "    G = build_grid(n)\n",
    "    set_boundary_grid(G)\n",
    "    G_prev = build_grid(n)\n",
    "    copy_array(G, G_prev)\n",
    "    error = float('inf')\n",
    "    while error > 1e-7:\n",
    "        update(G)\n",
    "        error = calc_error(G,G_prev)\n",
    "        copy_array(G, G_prev)    \n",
    "    return(G)"
   ]
  },
  {
   "cell_type": "code",
   "execution_count": 13,
   "metadata": {
    "slideshow": {
     "slide_type": "slide"
    }
   },
   "outputs": [],
   "source": [
    "def itera(G):\n",
    "    \"\"\"Function to update G using an iterative method. A nested loop is used\n",
    "    to traverse G and update each value.\n",
    "    \"\"\"\n",
    "    n = G.shape[0]\n",
    "    for i in range(1,n-1):\n",
    "        for j in range(1,n-1):\n",
    "            G[i,j]=(G[i+1,j]+G[i-1,j]+G[i,j+1]+G[i,j-1])/4"
   ]
  },
  {
   "cell_type": "markdown",
   "metadata": {
    "slideshow": {
     "slide_type": "slide"
    }
   },
   "source": [
    "#### Convolution \n",
    "\n",
    "A mathematical operation between two functions f,h that produces a third function.\n",
    "\n",
    "$$y = x * h$$\n",
    "$$y = \\sum^{a}_{s = -a} \\sum^{b}_{t = -b} h(s,t) f(x-s, y-t)  $$"
   ]
  },
  {
   "cell_type": "code",
   "execution_count": 14,
   "metadata": {
    "slideshow": {
     "slide_type": "slide"
    }
   },
   "outputs": [],
   "source": [
    "def itera_conv(G):\n",
    "    \"\"\"Function to update G using convolution. scipy.signal.convolve is used to\n",
    "    update G with the filter f\n",
    "    \"\"\"\n",
    "    n = G.shape[0]\n",
    "    f = np.array(\n",
    "        [\n",
    "            [0,1/4,0], \n",
    "            [1/4,0,1/4], \n",
    "            [0,1/4,0]\n",
    "        ]\n",
    "    )\n",
    "    G[1:n-1,1:n-1] = scipy.signal.convolve(G, f, 'valid')\n",
    "    "
   ]
  },
  {
   "cell_type": "code",
   "execution_count": 15,
   "metadata": {
    "slideshow": {
     "slide_type": "slide"
    }
   },
   "outputs": [],
   "source": [
    "sol1 = solve_heat_equation(70,itera)\n",
    "sol2 = solve_heat_equation(70,itera_conv)"
   ]
  },
  {
   "cell_type": "code",
   "execution_count": 16,
   "metadata": {
    "slideshow": {
     "slide_type": "slide"
    }
   },
   "outputs": [
    {
     "data": {
      "image/png": "[encoded data removed]",
      "text/plain": [
       "<Figure size 1000x500 with 2 Axes>"
      ]
     },
     "metadata": {},
     "output_type": "display_data"
    }
   ],
   "source": [
    "plt.figure(figsize = (10,5))\n",
    "plt.subplot(1,2,1)\n",
    "plt.title('Original')\n",
    "img=plt.imshow(sol1)\n",
    "img.set_cmap('rainbow')\n",
    "plt.axis('off')\n",
    "\n",
    "plt.subplot(1,2,2)\n",
    "plt.title('Convolution')\n",
    "img=plt.imshow(sol2)\n",
    "img.set_cmap('rainbow')\n",
    "plt.axis('off')\n",
    "plt.show()"
   ]
  },
  {
   "cell_type": "code",
   "execution_count": 17,
   "metadata": {
    "slideshow": {
     "slide_type": "slide"
    }
   },
   "outputs": [],
   "source": [
    "def itera_slicing(G):\n",
    "    \"\"\"Function to update G by slicing. G is sliced and 4 separate np.arrays\n",
    "    are created. Each of these np.arrays contains the values of the \n",
    "    left neighbors, right neighbors, top neighbors and bottom neighbors for\n",
    "    every element in G.\n",
    "    \"\"\"\n",
    "    n = G.shape[0]\n",
    "\n",
    "    Gl = G[1:-1,:-2]  #Left neighbors\n",
    "    Gr = G[1:-1,2:]   #Right neighbors\n",
    "    Gt = G[2:,1:-1]   #top neighbors\n",
    "    Gb = G[:-2,1:-1]  #bottomneighbors\n",
    "    \n",
    "    G[1:n-1,1:n-1] = (Gl + Gr + Gt + Gb)/4\n",
    "    \n",
    "sol3 = solve_heat_equation(70,itera_slicing)"
   ]
  },
  {
   "cell_type": "code",
   "execution_count": 18,
   "metadata": {
    "scrolled": true,
    "slideshow": {
     "slide_type": "slide"
    }
   },
   "outputs": [
    {
     "data": {
      "image/png": "[encoded data removed]",
      "text/plain": [
       "<Figure size 1000x500 with 2 Axes>"
      ]
     },
     "metadata": {},
     "output_type": "display_data"
    }
   ],
   "source": [
    "plt.figure(figsize = (10,5))\n",
    "plt.subplot(1,2,1)\n",
    "plt.title('Original')\n",
    "img=plt.imshow(sol1)\n",
    "img.set_cmap('rainbow')\n",
    "plt.axis('off')\n",
    "\n",
    "plt.subplot(1,2,2)\n",
    "plt.title('Slicing')\n",
    "img=plt.imshow(sol3)\n",
    "img.set_cmap('rainbow')\n",
    "plt.axis('off')\n",
    "plt.show()"
   ]
  },
  {
   "cell_type": "markdown",
   "metadata": {
    "slideshow": {
     "slide_type": "slide"
    }
   },
   "source": [
    "Profile the code above to analyze the computational time of each line of code"
   ]
  },
  {
   "cell_type": "code",
   "execution_count": 19,
   "metadata": {
    "slideshow": {
     "slide_type": "slide"
    }
   },
   "outputs": [
    {
     "name": "stdout",
     "output_type": "stream",
     "text": [
      "Timer unit: 1e-06 s\n",
      "\n",
      "Total time: 4.40633 s\n",
      "File: /tmp/ipykernel_2650/3096904899.py\n",
      "Function: solve_heat_equation at line 2\n",
      "\n",
      "Line #      Hits         Time  Per Hit   % Time  Line Contents\n",
      "==============================================================\n",
      "     2                                           def solve_heat_equation(n,update):\n",
      "     3         1         32.0     32.0      0.0      G = build_grid(n)\n",
      "     4         1        769.0    769.0      0.0      set_boundary_grid(G)\n",
      "     5         1         25.0     25.0      0.0      G_prev = build_grid(n)\n",
      "     6         1         26.0     26.0      0.0      copy_array(G, G_prev)\n",
      "     7         1          4.0      4.0      0.0      error = float('inf')\n",
      "     8       801        667.0      0.8      0.0      while error > 1e-7:\n",
      "     9       800    4337674.0   5422.1     98.4          update(G)\n",
      "    10       800      61404.0     76.8      1.4          error = calc_error(G,G_prev)\n",
      "    11       800       5725.0      7.2      0.1          copy_array(G, G_prev)    \n",
      "    12                                                   \n",
      "    13         1          0.0      0.0      0.0      return(G)"
     ]
    }
   ],
   "source": [
    "# Solution\n",
    "%lprun -f solve_heat_equation solve_heat_equation(70,itera)"
   ]
  },
  {
   "cell_type": "code",
   "execution_count": 20,
   "metadata": {
    "slideshow": {
     "slide_type": "slide"
    }
   },
   "outputs": [
    {
     "name": "stdout",
     "output_type": "stream",
     "text": [
      "Timer unit: 1e-06 s\n",
      "\n",
      "Total time: 0.377674 s\n",
      "File: /tmp/ipykernel_2650/3096904899.py\n",
      "Function: solve_heat_equation at line 2\n",
      "\n",
      "Line #      Hits         Time  Per Hit   % Time  Line Contents\n",
      "==============================================================\n",
      "     2                                           def solve_heat_equation(n,update):\n",
      "     3         1         33.0     33.0      0.0      G = build_grid(n)\n",
      "     4         1        133.0    133.0      0.0      set_boundary_grid(G)\n",
      "     5         1        774.0    774.0      0.2      G_prev = build_grid(n)\n",
      "     6         1         30.0     30.0      0.0      copy_array(G, G_prev)\n",
      "     7         1          3.0      3.0      0.0      error = float('inf')\n",
      "     8       932        622.0      0.7      0.2      while error > 1e-7:\n",
      "     9       931     346962.0    372.7     91.9          update(G)\n",
      "    10       931      25936.0     27.9      6.9          error = calc_error(G,G_prev)\n",
      "    11       931       3181.0      3.4      0.8          copy_array(G, G_prev)    \n",
      "    12                                                   \n",
      "    13         1          0.0      0.0      0.0      return(G)"
     ]
    }
   ],
   "source": [
    "%lprun -f solve_heat_equation solve_heat_equation(70,itera_conv)"
   ]
  },
  {
   "cell_type": "code",
   "execution_count": 26,
   "metadata": {
    "slideshow": {
     "slide_type": "slide"
    }
   },
   "outputs": [
    {
     "name": "stdout",
     "output_type": "stream",
     "text": [
      "Timer unit: 1e-06 s\n",
      "\n",
      "Total time: 0.05837 s\n",
      "File: /tmp/ipykernel_2650/3096904899.py\n",
      "Function: solve_heat_equation at line 2\n",
      "\n",
      "Line #      Hits         Time  Per Hit   % Time  Line Contents\n",
      "==============================================================\n",
      "     2                                           def solve_heat_equation(n,update):\n",
      "     3         1         34.0     34.0      0.1      G = build_grid(n)\n",
      "     4         1        141.0    141.0      0.2      set_boundary_grid(G)\n",
      "     5         1         19.0     19.0      0.0      G_prev = build_grid(n)\n",
      "     6         1         21.0     21.0      0.0      copy_array(G, G_prev)\n",
      "     7         1          2.0      2.0      0.0      error = float('inf')\n",
      "     8       932        602.0      0.6      1.0      while error > 1e-7:\n",
      "     9       931      29474.0     31.7     50.5          update(G)\n",
      "    10       931      24640.0     26.5     42.2          error = calc_error(G,G_prev)\n",
      "    11       931       3436.0      3.7      5.9          copy_array(G, G_prev)    \n",
      "    12                                                   \n",
      "    13         1          1.0      1.0      0.0      return(G)"
     ]
    }
   ],
   "source": [
    "%lprun -f solve_heat_equation solve_heat_equation(70,itera_slicing)"
   ]
  },
  {
   "cell_type": "markdown",
   "metadata": {
    "slideshow": {
     "slide_type": "slide"
    }
   },
   "source": [
    "Based on your analysis, how can you further improve the computational performance of the code?"
   ]
  },
  {
   "cell_type": "code",
   "execution_count": 27,
   "metadata": {
    "slideshow": {
     "slide_type": "slide"
    }
   },
   "outputs": [],
   "source": [
    "# Improvement 1: remove the calls to copy_array\n",
    "\n",
    "def solve_heat_equation2(n,update):\n",
    "    \"\"\"An updated version of solve_heat_equation. Instead of using the \n",
    "    copy_array function, the logic inside the function is directly copied here.\n",
    "    \"\"\"\n",
    "    G = build_grid(n)\n",
    "    set_boundary_grid(G)\n",
    "    G_prev = build_grid(n)\n",
    "    copy_array(G, G_prev)\n",
    "    error = 1e10\n",
    "    while error > 1e-7:\n",
    "        update(G)\n",
    "        error = calc_error(G,G_prev)\n",
    "        G_prev[:] = G[:] # Not calling the copy_array function anymore\n",
    "    return(G)"
   ]
  },
  {
   "cell_type": "code",
   "execution_count": 28,
   "metadata": {
    "slideshow": {
     "slide_type": "slide"
    }
   },
   "outputs": [
    {
     "name": "stdout",
     "output_type": "stream",
     "text": [
      "Timer unit: 1e-06 s\n",
      "\n",
      "Total time: 0.058443 s\n",
      "File: /tmp/ipykernel_2650/1350009710.py\n",
      "Function: solve_heat_equation2 at line 3\n",
      "\n",
      "Line #      Hits         Time  Per Hit   % Time  Line Contents\n",
      "==============================================================\n",
      "     3                                           def solve_heat_equation2(n,update):\n",
      "     4                                               \"\"\"An updated version of solve_heat_equation. Instead of using the \n",
      "     5                                               copy_array function, the logic inside the function is directly copied here.\n",
      "     6                                               \"\"\"\n",
      "     7         1         36.0     36.0      0.1      G = build_grid(n)\n",
      "     8         1        342.0    342.0      0.6      set_boundary_grid(G)\n",
      "     9         1         22.0     22.0      0.0      G_prev = build_grid(n)\n",
      "    10         1         24.0     24.0      0.0      copy_array(G, G_prev)\n",
      "    11         1          1.0      1.0      0.0      error = 1e10\n",
      "    12       932        798.0      0.9      1.4      while error > 1e-7:\n",
      "    13       931      30024.0     32.2     51.4          update(G)\n",
      "    14       931      24086.0     25.9     41.2          error = calc_error(G,G_prev)\n",
      "    15       931       3109.0      3.3      5.3          G_prev[:] = G[:] # Not calling the copy_array function anymore\n",
      "    16         1          1.0      1.0      0.0      return(G)"
     ]
    }
   ],
   "source": [
    "%lprun -f solve_heat_equation2 solve_heat_equation2(70,itera_slicing)"
   ]
  },
  {
   "cell_type": "code",
   "execution_count": 29,
   "metadata": {
    "slideshow": {
     "slide_type": "slide"
    }
   },
   "outputs": [],
   "source": [
    "# Improvement 2: removing the call to calc_error\n",
    "\n",
    "def solve_heat_equation3(n,update):\n",
    "    \"\"\"An updated version of solve_heat_equation2. Instead of using the \n",
    "    calc_error function, the logic inside the function is directly copied here.\n",
    "    \"\"\"\n",
    "    G = build_grid(n)\n",
    "    set_boundary_grid(G)\n",
    "    G_prev = build_grid(n)\n",
    "    copy_array(G, G_prev)\n",
    "    error = 1e10\n",
    "    square = np.square\n",
    "    subtract = np.subtract\n",
    "    \n",
    "    while error > 1e-7:\n",
    "        update(G)\n",
    "        # Not calling the calc_error function anymore\n",
    "        error = square(subtract(G, G_prev)).mean()  \n",
    "        G_prev[:] = G[:]             \n",
    "        \n",
    "    return(G)"
   ]
  },
  {
   "cell_type": "code",
   "execution_count": 30,
   "metadata": {
    "slideshow": {
     "slide_type": "slide"
    }
   },
   "outputs": [
    {
     "name": "stdout",
     "output_type": "stream",
     "text": [
      "Timer unit: 1e-06 s\n",
      "\n",
      "Total time: 0.110587 s\n",
      "File: /tmp/ipykernel_2650/2238705687.py\n",
      "Function: solve_heat_equation3 at line 3\n",
      "\n",
      "Line #      Hits         Time  Per Hit   % Time  Line Contents\n",
      "==============================================================\n",
      "     3                                           def solve_heat_equation3(n,update):\n",
      "     4                                               \"\"\"An updated version of solve_heat_equation2. Instead of using the \n",
      "     5                                               calc_error function, the logic inside the function is directly copied here.\n",
      "     6                                               \"\"\"\n",
      "     7         1         53.0     53.0      0.0      G = build_grid(n)\n",
      "     8         1        167.0    167.0      0.2      set_boundary_grid(G)\n",
      "     9         1         22.0     22.0      0.0      G_prev = build_grid(n)\n",
      "    10         1         24.0     24.0      0.0      copy_array(G, G_prev)\n",
      "    11         1          1.0      1.0      0.0      error = 1e10\n",
      "    12         1          2.0      2.0      0.0      square = np.square\n",
      "    13         1          1.0      1.0      0.0      subtract = np.subtract\n",
      "    14                                               \n",
      "    15       932        899.0      1.0      0.8      while error > 1e-7:\n",
      "    16       931      63449.0     68.2     57.4          update(G)\n",
      "    17                                                   # Not calling the calc_error function anymore\n",
      "    18       931      41958.0     45.1     37.9          error = square(subtract(G, G_prev)).mean()  \n",
      "    19       931       4010.0      4.3      3.6          G_prev[:] = G[:]             \n",
      "    20                                                   \n",
      "    21         1          1.0      1.0      0.0      return(G)"
     ]
    }
   ],
   "source": [
    "%lprun -f solve_heat_equation3 solve_heat_equation3(70,itera_slicing)"
   ]
  },
  {
   "cell_type": "code",
   "execution_count": 31,
   "metadata": {
    "slideshow": {
     "slide_type": "slide"
    }
   },
   "outputs": [
    {
     "name": "stdout",
     "output_type": "stream",
     "text": [
      "28.7 ms ± 1.62 ms per loop (mean ± std. dev. of 7 runs, 10 loops each)\n",
      "28 ms ± 1.15 ms per loop (mean ± std. dev. of 7 runs, 10 loops each)\n"
     ]
    }
   ],
   "source": [
    "%timeit solve_heat_equation3(70, itera_slicing)\n",
    "%timeit solve_heat_equation2(70, itera_slicing)\n"
   ]
  }
 ],
 "metadata": {
  "celltoolbar": "Slideshow",
  "kernelspec": {
   "display_name": "advpy",
   "language": "python",
   "name": "python3"
  },
  "language_info": {
   "codemirror_mode": {
    "name": "ipython",
    "version": 3
   },
   "file_extension": ".py",
   "mimetype": "text/x-python",
   "name": "python",
   "nbconvert_exporter": "python",
   "pygments_lexer": "ipython3",
   "version": "3.10.9"
  },
  "vscode": {
   "interpreter": {
    "hash": "3ab5cc24b369747f155f8732b50eb1f1fee0827fe4315773c0d7959480f3b899"
   }
  }
 },
 "nbformat": 4,
 "nbformat_minor": 4
}
