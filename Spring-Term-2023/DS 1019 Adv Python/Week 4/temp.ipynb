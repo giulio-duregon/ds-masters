{
 "cells": [
  {
   "cell_type": "code",
   "execution_count": 8,
   "metadata": {},
   "outputs": [],
   "source": [
    "i = 1\n",
    "a4 = 0\n",
    "a1 = i\n",
    "a2 = i + 1\n",
    "a3 = i * 3"
   ]
  },
  {
   "cell_type": "code",
   "execution_count": 9,
   "metadata": {},
   "outputs": [
    {
     "name": "stdout",
     "output_type": "stream",
     "text": [
      "After Iteration 1, a1=5, a2=2, a3=3, a4=1\n",
      "After Iteration 2, a1=6, a2=2, a3=3, a4=2\n",
      "After Iteration 3, a1=7, a2=2, a3=3, a4=3\n"
     ]
    }
   ],
   "source": [
    "for iter in range(1,4):\n",
    "    a1 = a2 + a3 + a4\n",
    "    \n",
    "    a4 = a4 + 1\n",
    "    print(f\"After Iteration {iter}, a1={a1}, a2={a2}, a3={a3}, a4={a4}\")"
   ]
  },
  {
   "cell_type": "code",
   "execution_count": null,
   "metadata": {},
   "outputs": [],
   "source": []
  }
 ],
 "metadata": {
  "kernelspec": {
   "display_name": "base",
   "language": "python",
   "name": "python3"
  },
  "language_info": {
   "codemirror_mode": {
    "name": "ipython",
    "version": 3
   },
   "file_extension": ".py",
   "mimetype": "text/x-python",
   "name": "python",
   "nbconvert_exporter": "python",
   "pygments_lexer": "ipython3",
   "version": "3.9.13"
  },
  "orig_nbformat": 4,
  "vscode": {
   "interpreter": {
    "hash": "38cca0c38332a56087b24af0bc80247f4fced29cb4f7f437d91dc159adec9c4e"
   }
  }
 },
 "nbformat": 4,
 "nbformat_minor": 2
}
