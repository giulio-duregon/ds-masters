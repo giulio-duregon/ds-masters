{
 "cells": [
  {
   "cell_type": "markdown",
   "metadata": {
    "id": "h1l5sztJPK0w"
   },
   "source": [
    "## Lecture 6  Part 1\n",
    "## Introduction to Numba\n",
    "### March 1, 2023"
   ]
  },
  {
   "cell_type": "markdown",
   "metadata": {
    "id": "J5O7oXLNPK0x"
   },
   "source": [
    "## Reminder\n",
    "\n",
    "**Before next week**: send me email with 5 members of your project group!\n",
    "\n",
    "**Next week**: project proposal presentations (likely remote only), 5 min for each group (+ a few min for questions)"
   ]
  },
  {
   "cell_type": "markdown",
   "metadata": {
    "id": "CmS7c0mdPK0y",
    "slideshow": {
     "slide_type": "-"
    }
   },
   "source": [
    "Part of this lecture is based on the material: \n",
    "\n",
    "see [https://nyu-cds.github.io/python-numba/](https://nyu-cds.github.io/python-numba/)\n",
    "\n",
    "You will need the Numba package for this lecture (anaconda already installed it): \n",
    "\n",
    "[https://anaconda.org/numba/numba](https://anaconda.org/numba/numba)"
   ]
  },
  {
   "cell_type": "markdown",
   "metadata": {
    "id": "HXsC_GXNPK0y"
   },
   "source": [
    "----\n",
    "Numba provides the ability to speed up applications with high performance functions written directly in Python, rather than using language extensions such as Cython.\n",
    "\n",
    "Numba allows the compilation of selected portions of pure Python code to native code, and generates optimized machine code.\n",
    "\n",
    "With a few simple annotations, array-oriented and math-heavy Python code can be **just-in-time (JIT)** optimized to achieve performance similar to C and C++, without having to switch languages or Python interpreters.\n",
    "\n",
    "Numba’s main features are:\n",
    "\n",
    "- On-the-fly code generation (at import time or runtime, at the user’s preference)  \n",
    "- Native code generation for the CPU (default) and GPU hardware  \n",
    "- Integration with the Python scientific software stack (thanks to NumPy)  \n"
   ]
  },
  {
   "cell_type": "markdown",
   "metadata": {
    "id": "J3E35He8PK0y"
   },
   "source": [
    "\n",
    "Numba’s central feature is the **numba.jit()** decorator (take a moment to recap function decoration we learned before), which marks a function for optimization by Numba’s JIT compiler.\n",
    "\n",
    "Lets start with a simple example:"
   ]
  },
  {
   "cell_type": "code",
   "execution_count": 1,
   "metadata": {
    "executionInfo": {
     "elapsed": 320,
     "status": "ok",
     "timestamp": 1677596699319,
     "user": {
      "displayName": "Yijun Tang",
      "userId": "15094714110312648400"
     },
     "user_tz": 300
    },
    "id": "kU0ggq18PK0z"
   },
   "outputs": [],
   "source": [
    "import numpy as np\n",
    "\n",
    "# an array of 1000 floats 0.0 to 9.99\n",
    "original_array = np.arange(0.0, 10.0, 0.01, dtype='float')\n",
    "\n",
    "shuffled_array = original_array.copy()\n",
    "np.random.shuffle(shuffled_array)\n",
    "\n",
    "sorted_array = shuffled_array.copy()"
   ]
  },
  {
   "cell_type": "code",
   "execution_count": 2,
   "metadata": {
    "executionInfo": {
     "elapsed": 150,
     "status": "ok",
     "timestamp": 1677596766843,
     "user": {
      "displayName": "Yijun Tang",
      "userId": "15094714110312648400"
     },
     "user_tz": 300
    },
    "id": "nGgNYqXFPK0z"
   },
   "outputs": [],
   "source": [
    "# bubblesort as pure python code\n",
    "\n",
    "def bubblesort(X):\n",
    "    N = len(X)\n",
    "    for end in range(N, 1, -1):\n",
    "        for i in range(end - 1):\n",
    "            cur = X[i]\n",
    "            if cur > X[i + 1]:\n",
    "                tmp = X[i]\n",
    "                X[i] = X[i + 1]\n",
    "                X[i + 1] = tmp"
   ]
  },
  {
   "cell_type": "code",
   "execution_count": 3,
   "metadata": {
    "colab": {
     "base_uri": "https://localhost:8080/"
    },
    "executionInfo": {
     "elapsed": 21647,
     "status": "ok",
     "timestamp": 1677596790381,
     "user": {
      "displayName": "Yijun Tang",
      "userId": "15094714110312648400"
     },
     "user_tz": 300
    },
    "id": "456spkDcPK0z",
    "outputId": "3dd5c871-7e5d-452c-8e38-34a3cd9fadb2"
   },
   "outputs": [
    {
     "name": "stdout",
     "output_type": "stream",
     "text": [
      "103 ms ± 1.71 ms per loop (mean ± std. dev. of 7 runs, 10 loops each)\n",
      "length: 1000\n",
      "original:  [0.   0.01 0.02 0.03 0.04 0.05 0.06 0.07 0.08 0.09]\n",
      "shuffled:  [2.54 8.97 7.46 4.6  7.05 0.87 0.93 6.55 0.22 4.85]\n",
      "sorted:    [0.   0.01 0.02 0.03 0.04 0.05 0.06 0.07 0.08 0.09]\n"
     ]
    }
   ],
   "source": [
    "%timeit -n 10 sorted_array[:] = shuffled_array[:]; bubblesort(sorted_array)\n",
    "\n",
    "print(\"length:\", len(original_array))\n",
    "print(\"original: \", original_array[:10])\n",
    "print(\"shuffled: \", shuffled_array[:10])\n",
    "print(\"sorted:   \", sorted_array[:10])"
   ]
  },
  {
   "cell_type": "markdown",
   "metadata": {
    "id": "SI7f4vXKPK00"
   },
   "source": [
    "Now we simply use the **@jit** decorator and let Numba decide when and how to optimize:"
   ]
  },
  {
   "cell_type": "code",
   "execution_count": 4,
   "metadata": {
    "executionInfo": {
     "elapsed": 1107,
     "status": "ok",
     "timestamp": 1677596820628,
     "user": {
      "displayName": "Yijun Tang",
      "userId": "15094714110312648400"
     },
     "user_tz": 300
    },
    "id": "dTcotWtlPK00"
   },
   "outputs": [],
   "source": [
    "from numba import jit\n",
    "\n",
    "@jit\n",
    "def bubblesort_numba(X):\n",
    "    N = len(X)\n",
    "    for end in range(N, 1, -1):\n",
    "        for i in range(end - 1):\n",
    "            cur = X[i]\n",
    "            if cur > X[i + 1]:\n",
    "                tmp = X[i]\n",
    "                X[i] = X[i + 1]\n",
    "                X[i + 1] = tmp+1"
   ]
  },
  {
   "cell_type": "code",
   "execution_count": 5,
   "metadata": {},
   "outputs": [
    {
     "name": "stdout",
     "output_type": "stream",
     "text": [
      "CPU times: user 175 ms, sys: 46.8 ms, total: 222 ms\n",
      "Wall time: 1.06 s\n"
     ]
    }
   ],
   "source": [
    "%time sorted_array[:] = shuffled_array[:]; bubblesort_numba(sorted_array)"
   ]
  },
  {
   "cell_type": "code",
   "execution_count": 6,
   "metadata": {
    "colab": {
     "base_uri": "https://localhost:8080/"
    },
    "executionInfo": {
     "elapsed": 359,
     "status": "ok",
     "timestamp": 1677596841490,
     "user": {
      "displayName": "Yijun Tang",
      "userId": "15094714110312648400"
     },
     "user_tz": 300
    },
    "id": "MfiI0GMcPK00",
    "outputId": "aaf8d2b4-e948-4f27-f8d7-e1d9813f8953"
   },
   "outputs": [
    {
     "name": "stdout",
     "output_type": "stream",
     "text": [
      "1.78 ms ± 51 µs per loop (mean ± std. dev. of 7 runs, 10 loops each)\n"
     ]
    }
   ],
   "source": [
    "%timeit -n 10 sorted_array[:] = shuffled_array[:]; bubblesort_numba(sorted_array)"
   ]
  },
  {
   "cell_type": "code",
   "execution_count": 7,
   "metadata": {},
   "outputs": [
    {
     "name": "stdout",
     "output_type": "stream",
     "text": [
      "12.4 µs ± 1.75 µs per loop (mean ± std. dev. of 7 runs, 1,000 loops each)\n"
     ]
    }
   ],
   "source": [
    "%timeit -n 1000 sorted_array[:] = shuffled_array[:]; np.sort(sorted_array)"
   ]
  },
  {
   "cell_type": "markdown",
   "metadata": {
    "id": "YRCKTrw_PK00"
   },
   "source": [
    "### Function Signature\n",
    "\n",
    "- It is also possible to specify the signature of the Numba function. A function signature describes **the types of the arguments** and **the return type of the function**. \n",
    "\n",
    "- This can produce **slightly** faster code as the compiler does not need to infer the types. \n",
    "\n",
    "- However the function is no longer able to accept other types. The specified types within @jit called the function _signature_."
   ]
  },
  {
   "cell_type": "code",
   "execution_count": 8,
   "metadata": {
    "id": "Taeg5TLtPK00"
   },
   "outputs": [],
   "source": [
    "from numba import jit, int32, float64\n",
    "\n",
    "@jit(float64(int32, int32))\n",
    "def f(x, y):\n",
    "    # A somewhat trivial example\n",
    "    return (x + y) / 3.14"
   ]
  },
  {
   "cell_type": "code",
   "execution_count": 9,
   "metadata": {
    "colab": {
     "base_uri": "https://localhost:8080/"
    },
    "executionInfo": {
     "elapsed": 551,
     "status": "ok",
     "timestamp": 1674437281397,
     "user": {
      "displayName": "Yijun Tang",
      "userId": "15094714110312648400"
     },
     "user_tz": 300
    },
    "id": "2NLBNQJNPK00",
    "outputId": "8bf18abf-3341-4b93-96fc-a326a73b2b6a"
   },
   "outputs": [
    {
     "data": {
      "text/plain": [
       "1.2738853503184713"
      ]
     },
     "execution_count": 9,
     "metadata": {},
     "output_type": "execute_result"
    }
   ],
   "source": [
    "f(2, 2)"
   ]
  },
  {
   "cell_type": "code",
   "execution_count": 10,
   "metadata": {
    "id": "3tXkkclcPK00"
   },
   "outputs": [],
   "source": [
    "from numba import jit, float64\n",
    "\n",
    "@jit(\"void(float64[:])\")\n",
    "def bubblesort_numba_argtypes(X):\n",
    "    N = len(X)\n",
    "    for end in range(N, 1, -1):\n",
    "        for i in range(end - 1):\n",
    "            cur = X[i]\n",
    "            if cur > X[i + 1]:\n",
    "                tmp = X[i]\n",
    "                X[i] = X[i + 1]\n",
    "                X[i + 1] = tmp"
   ]
  },
  {
   "cell_type": "code",
   "execution_count": 11,
   "metadata": {
    "id": "9rilaIHJPK01"
   },
   "outputs": [
    {
     "name": "stdout",
     "output_type": "stream",
     "text": [
      "767 µs ± 22 µs per loop (mean ± std. dev. of 7 runs, 10 loops each)\n"
     ]
    }
   ],
   "source": [
    "%timeit -n 10 sorted_array[:] = shuffled_array[:]; bubblesort_numba_argtypes(sorted_array)"
   ]
  },
  {
   "cell_type": "markdown",
   "metadata": {
    "id": "mysMsN_gPK01"
   },
   "source": [
    "---\n",
    "### Compilation Modes\n",
    "Numba has two compilation modes: \n",
    "- nopython mode \n",
    "- object mode\n",
    "\n",
    "**nopython mode**: \n",
    "\n",
    "Numba compiler generates code that does not access Python C API. This mode produces the highest performance code, but requires that the native types of all values in the function can be inferred.\n",
    "\n",
    "\n",
    "**object mode**:\n",
    "\n",
    "Numba compiler generates code that handles all values as Python objects and uses the Python C API to perform all operations on those objects. Code compiled in object mode will often run no faster than Python interpreted code. This mode is used when the type of some variables can not be inferred.\n",
    "\n",
    "\n",
    "A typical approach is to force the **nopython** mode, triggering an error message when the mode is not possible.\n",
    "\n",
    "**nopython** mode is so useful that newer versions of numba provides a **njit** decorator."
   ]
  },
  {
   "cell_type": "code",
   "execution_count": 12,
   "metadata": {
    "executionInfo": {
     "elapsed": 292,
     "status": "ok",
     "timestamp": 1677596894966,
     "user": {
      "displayName": "Yijun Tang",
      "userId": "15094714110312648400"
     },
     "user_tz": 300
    },
    "id": "vegHOfEnPK01"
   },
   "outputs": [],
   "source": [
    "from numba import njit, jit, float64\n",
    "\n",
    "# @jit(\"void(float64[:])\", nopython=True)\n",
    "@njit(\"void(float64[:])\")\n",
    "def bubblesort_nopython_flag(X):\n",
    "    N = len(X)\n",
    "    for end in range(N, 1, -1):\n",
    "        for i in range(end - 1):\n",
    "            cur = X[i]\n",
    "            if cur > X[i + 1]:\n",
    "                tmp = X[i]\n",
    "                X[i] = X[i + 1]\n",
    "                X[i + 1] = tmp"
   ]
  },
  {
   "cell_type": "code",
   "execution_count": 13,
   "metadata": {
    "colab": {
     "base_uri": "https://localhost:8080/"
    },
    "executionInfo": {
     "elapsed": 625,
     "status": "ok",
     "timestamp": 1677596900254,
     "user": {
      "displayName": "Yijun Tang",
      "userId": "15094714110312648400"
     },
     "user_tz": 300
    },
    "id": "CRmzYEQYPK01",
    "outputId": "460ad0e4-5f2c-4036-b1ab-1779b4b2c36f"
   },
   "outputs": [
    {
     "name": "stdout",
     "output_type": "stream",
     "text": [
      "751 µs ± 30.8 µs per loop (mean ± std. dev. of 7 runs, 10 loops each)\n"
     ]
    }
   ],
   "source": [
    "%timeit -n 10 sorted_array[:] = shuffled_array[:]; bubblesort_nopython_flag(sorted_array)"
   ]
  },
  {
   "cell_type": "markdown",
   "metadata": {
    "id": "bX5584IjPK01"
   },
   "source": [
    "Notice that this code compiles cleanly. However, if we introduce an object whose type cannot be inferred an error message shows up."
   ]
  },
  {
   "cell_type": "code",
   "execution_count": 14,
   "metadata": {
    "colab": {
     "base_uri": "https://localhost:8080/"
    },
    "executionInfo": {
     "elapsed": 558,
     "status": "ok",
     "timestamp": 1677596913568,
     "user": {
      "displayName": "Yijun Tang",
      "userId": "15094714110312648400"
     },
     "user_tz": 300
    },
    "id": "i9M8mLrjPK01",
    "outputId": "1309354c-2bdf-48f1-acbe-ae4a85abf213"
   },
   "outputs": [
    {
     "ename": "TypingError",
     "evalue": "Failed in nopython mode pipeline (step: nopython frontend)\n\u001b[1mUntyped global name 'Decimal':\u001b[0m \u001b[1m\u001b[1mCannot determine Numba type of <class 'type'>\u001b[0m\n\u001b[1m\nFile \"../../../../../../../var/folders/rk/rwsr6gss0vz3g4fz3_kt0x0m0000gn/T/ipykernel_11328/1970753919.py\", line 6:\u001b[0m\n\u001b[1m<source missing, REPL/exec in use?>\u001b[0m\n\u001b[0m",
     "output_type": "error",
     "traceback": [
      "\u001b[0;31m---------------------------------------------------------------------------\u001b[0m",
      "\u001b[0;31mTypingError\u001b[0m                               Traceback (most recent call last)",
      "\u001b[1;32m/Users/giulio/ds-masters/Spring-Term-2023/DS 1019 Adv Python/Week 6/spring2023_lecture06/spring2023_lecture06_part01.ipynb Cell 23\u001b[0m in \u001b[0;36m<cell line: 3>\u001b[0;34m()\u001b[0m\n\u001b[1;32m      <a href='vscode-notebook-cell:/Users/giulio/ds-masters/Spring-Term-2023/DS%201019%20Adv%20Python/Week%206/spring2023_lecture06/spring2023_lecture06_part01.ipynb#X31sZmlsZQ%3D%3D?line=0'>1</a>\u001b[0m \u001b[39mfrom\u001b[39;00m \u001b[39mdecimal\u001b[39;00m \u001b[39mimport\u001b[39;00m Decimal\n\u001b[1;32m      <a href='vscode-notebook-cell:/Users/giulio/ds-masters/Spring-Term-2023/DS%201019%20Adv%20Python/Week%206/spring2023_lecture06/spring2023_lecture06_part01.ipynb#X31sZmlsZQ%3D%3D?line=2'>3</a>\u001b[0m \u001b[39m@jit\u001b[39;49m(\u001b[39m\"\u001b[39;49m\u001b[39mvoid(float64[:])\u001b[39;49m\u001b[39m\"\u001b[39;49m, nopython\u001b[39m=\u001b[39;49m\u001b[39mTrue\u001b[39;49;00m)\n\u001b[0;32m----> <a href='vscode-notebook-cell:/Users/giulio/ds-masters/Spring-Term-2023/DS%201019%20Adv%20Python/Week%206/spring2023_lecture06/spring2023_lecture06_part01.ipynb#X31sZmlsZQ%3D%3D?line=3'>4</a>\u001b[0m \u001b[39mdef\u001b[39;49;00m \u001b[39mbubblesort_nopython_flag\u001b[39;49m(X):\n\u001b[1;32m      <a href='vscode-notebook-cell:/Users/giulio/ds-masters/Spring-Term-2023/DS%201019%20Adv%20Python/Week%206/spring2023_lecture06/spring2023_lecture06_part01.ipynb#X31sZmlsZQ%3D%3D?line=4'>5</a>\u001b[0m     N \u001b[39m=\u001b[39;49m \u001b[39mlen\u001b[39;49m(X)\n\u001b[1;32m      <a href='vscode-notebook-cell:/Users/giulio/ds-masters/Spring-Term-2023/DS%201019%20Adv%20Python/Week%206/spring2023_lecture06/spring2023_lecture06_part01.ipynb#X31sZmlsZQ%3D%3D?line=5'>6</a>\u001b[0m     val \u001b[39m=\u001b[39;49m Decimal(\u001b[39m100\u001b[39;49m)  \u001b[39m# just to force an error\u001b[39;49;00m\n",
      "File \u001b[0;32m/opt/homebrew/anaconda3/lib/python3.9/site-packages/numba/core/decorators.py:219\u001b[0m, in \u001b[0;36m_jit.<locals>.wrapper\u001b[0;34m(func)\u001b[0m\n\u001b[1;32m    217\u001b[0m     \u001b[39mwith\u001b[39;00m typeinfer\u001b[39m.\u001b[39mregister_dispatcher(disp):\n\u001b[1;32m    218\u001b[0m         \u001b[39mfor\u001b[39;00m sig \u001b[39min\u001b[39;00m sigs:\n\u001b[0;32m--> 219\u001b[0m             disp\u001b[39m.\u001b[39;49mcompile(sig)\n\u001b[1;32m    220\u001b[0m         disp\u001b[39m.\u001b[39mdisable_compile()\n\u001b[1;32m    221\u001b[0m \u001b[39mreturn\u001b[39;00m disp\n",
      "File \u001b[0;32m/opt/homebrew/anaconda3/lib/python3.9/site-packages/numba/core/dispatcher.py:965\u001b[0m, in \u001b[0;36mDispatcher.compile\u001b[0;34m(self, sig)\u001b[0m\n\u001b[1;32m    963\u001b[0m \u001b[39mwith\u001b[39;00m ev\u001b[39m.\u001b[39mtrigger_event(\u001b[39m\"\u001b[39m\u001b[39mnumba:compile\u001b[39m\u001b[39m\"\u001b[39m, data\u001b[39m=\u001b[39mev_details):\n\u001b[1;32m    964\u001b[0m     \u001b[39mtry\u001b[39;00m:\n\u001b[0;32m--> 965\u001b[0m         cres \u001b[39m=\u001b[39m \u001b[39mself\u001b[39;49m\u001b[39m.\u001b[39;49m_compiler\u001b[39m.\u001b[39;49mcompile(args, return_type)\n\u001b[1;32m    966\u001b[0m     \u001b[39mexcept\u001b[39;00m errors\u001b[39m.\u001b[39mForceLiteralArg \u001b[39mas\u001b[39;00m e:\n\u001b[1;32m    967\u001b[0m         \u001b[39mdef\u001b[39;00m \u001b[39mfolded\u001b[39m(args, kws):\n",
      "File \u001b[0;32m/opt/homebrew/anaconda3/lib/python3.9/site-packages/numba/core/dispatcher.py:129\u001b[0m, in \u001b[0;36m_FunctionCompiler.compile\u001b[0;34m(self, args, return_type)\u001b[0m\n\u001b[1;32m    127\u001b[0m     \u001b[39mreturn\u001b[39;00m retval\n\u001b[1;32m    128\u001b[0m \u001b[39melse\u001b[39;00m:\n\u001b[0;32m--> 129\u001b[0m     \u001b[39mraise\u001b[39;00m retval\n",
      "File \u001b[0;32m/opt/homebrew/anaconda3/lib/python3.9/site-packages/numba/core/dispatcher.py:139\u001b[0m, in \u001b[0;36m_FunctionCompiler._compile_cached\u001b[0;34m(self, args, return_type)\u001b[0m\n\u001b[1;32m    136\u001b[0m     \u001b[39mpass\u001b[39;00m\n\u001b[1;32m    138\u001b[0m \u001b[39mtry\u001b[39;00m:\n\u001b[0;32m--> 139\u001b[0m     retval \u001b[39m=\u001b[39m \u001b[39mself\u001b[39;49m\u001b[39m.\u001b[39;49m_compile_core(args, return_type)\n\u001b[1;32m    140\u001b[0m \u001b[39mexcept\u001b[39;00m errors\u001b[39m.\u001b[39mTypingError \u001b[39mas\u001b[39;00m e:\n\u001b[1;32m    141\u001b[0m     \u001b[39mself\u001b[39m\u001b[39m.\u001b[39m_failed_cache[key] \u001b[39m=\u001b[39m e\n",
      "File \u001b[0;32m/opt/homebrew/anaconda3/lib/python3.9/site-packages/numba/core/dispatcher.py:152\u001b[0m, in \u001b[0;36m_FunctionCompiler._compile_core\u001b[0;34m(self, args, return_type)\u001b[0m\n\u001b[1;32m    149\u001b[0m flags \u001b[39m=\u001b[39m \u001b[39mself\u001b[39m\u001b[39m.\u001b[39m_customize_flags(flags)\n\u001b[1;32m    151\u001b[0m impl \u001b[39m=\u001b[39m \u001b[39mself\u001b[39m\u001b[39m.\u001b[39m_get_implementation(args, {})\n\u001b[0;32m--> 152\u001b[0m cres \u001b[39m=\u001b[39m compiler\u001b[39m.\u001b[39;49mcompile_extra(\u001b[39mself\u001b[39;49m\u001b[39m.\u001b[39;49mtargetdescr\u001b[39m.\u001b[39;49mtyping_context,\n\u001b[1;32m    153\u001b[0m                               \u001b[39mself\u001b[39;49m\u001b[39m.\u001b[39;49mtargetdescr\u001b[39m.\u001b[39;49mtarget_context,\n\u001b[1;32m    154\u001b[0m                               impl,\n\u001b[1;32m    155\u001b[0m                               args\u001b[39m=\u001b[39;49margs, return_type\u001b[39m=\u001b[39;49mreturn_type,\n\u001b[1;32m    156\u001b[0m                               flags\u001b[39m=\u001b[39;49mflags, \u001b[39mlocals\u001b[39;49m\u001b[39m=\u001b[39;49m\u001b[39mself\u001b[39;49m\u001b[39m.\u001b[39;49mlocals,\n\u001b[1;32m    157\u001b[0m                               pipeline_class\u001b[39m=\u001b[39;49m\u001b[39mself\u001b[39;49m\u001b[39m.\u001b[39;49mpipeline_class)\n\u001b[1;32m    158\u001b[0m \u001b[39m# Check typing error if object mode is used\u001b[39;00m\n\u001b[1;32m    159\u001b[0m \u001b[39mif\u001b[39;00m cres\u001b[39m.\u001b[39mtyping_error \u001b[39mis\u001b[39;00m \u001b[39mnot\u001b[39;00m \u001b[39mNone\u001b[39;00m \u001b[39mand\u001b[39;00m \u001b[39mnot\u001b[39;00m flags\u001b[39m.\u001b[39menable_pyobject:\n",
      "File \u001b[0;32m/opt/homebrew/anaconda3/lib/python3.9/site-packages/numba/core/compiler.py:693\u001b[0m, in \u001b[0;36mcompile_extra\u001b[0;34m(typingctx, targetctx, func, args, return_type, flags, locals, library, pipeline_class)\u001b[0m\n\u001b[1;32m    669\u001b[0m \u001b[39m\"\"\"Compiler entry point\u001b[39;00m\n\u001b[1;32m    670\u001b[0m \n\u001b[1;32m    671\u001b[0m \u001b[39mParameter\u001b[39;00m\n\u001b[0;32m   (...)\u001b[0m\n\u001b[1;32m    689\u001b[0m \u001b[39m    compiler pipeline\u001b[39;00m\n\u001b[1;32m    690\u001b[0m \u001b[39m\"\"\"\u001b[39;00m\n\u001b[1;32m    691\u001b[0m pipeline \u001b[39m=\u001b[39m pipeline_class(typingctx, targetctx, library,\n\u001b[1;32m    692\u001b[0m                           args, return_type, flags, \u001b[39mlocals\u001b[39m)\n\u001b[0;32m--> 693\u001b[0m \u001b[39mreturn\u001b[39;00m pipeline\u001b[39m.\u001b[39;49mcompile_extra(func)\n",
      "File \u001b[0;32m/opt/homebrew/anaconda3/lib/python3.9/site-packages/numba/core/compiler.py:429\u001b[0m, in \u001b[0;36mCompilerBase.compile_extra\u001b[0;34m(self, func)\u001b[0m\n\u001b[1;32m    427\u001b[0m \u001b[39mself\u001b[39m\u001b[39m.\u001b[39mstate\u001b[39m.\u001b[39mlifted \u001b[39m=\u001b[39m ()\n\u001b[1;32m    428\u001b[0m \u001b[39mself\u001b[39m\u001b[39m.\u001b[39mstate\u001b[39m.\u001b[39mlifted_from \u001b[39m=\u001b[39m \u001b[39mNone\u001b[39;00m\n\u001b[0;32m--> 429\u001b[0m \u001b[39mreturn\u001b[39;00m \u001b[39mself\u001b[39;49m\u001b[39m.\u001b[39;49m_compile_bytecode()\n",
      "File \u001b[0;32m/opt/homebrew/anaconda3/lib/python3.9/site-packages/numba/core/compiler.py:497\u001b[0m, in \u001b[0;36mCompilerBase._compile_bytecode\u001b[0;34m(self)\u001b[0m\n\u001b[1;32m    493\u001b[0m \u001b[39m\"\"\"\u001b[39;00m\n\u001b[1;32m    494\u001b[0m \u001b[39mPopulate and run pipeline for bytecode input\u001b[39;00m\n\u001b[1;32m    495\u001b[0m \u001b[39m\"\"\"\u001b[39;00m\n\u001b[1;32m    496\u001b[0m \u001b[39massert\u001b[39;00m \u001b[39mself\u001b[39m\u001b[39m.\u001b[39mstate\u001b[39m.\u001b[39mfunc_ir \u001b[39mis\u001b[39;00m \u001b[39mNone\u001b[39;00m\n\u001b[0;32m--> 497\u001b[0m \u001b[39mreturn\u001b[39;00m \u001b[39mself\u001b[39;49m\u001b[39m.\u001b[39;49m_compile_core()\n",
      "File \u001b[0;32m/opt/homebrew/anaconda3/lib/python3.9/site-packages/numba/core/compiler.py:476\u001b[0m, in \u001b[0;36mCompilerBase._compile_core\u001b[0;34m(self)\u001b[0m\n\u001b[1;32m    474\u001b[0m         \u001b[39mself\u001b[39m\u001b[39m.\u001b[39mstate\u001b[39m.\u001b[39mstatus\u001b[39m.\u001b[39mfail_reason \u001b[39m=\u001b[39m e\n\u001b[1;32m    475\u001b[0m         \u001b[39mif\u001b[39;00m is_final_pipeline:\n\u001b[0;32m--> 476\u001b[0m             \u001b[39mraise\u001b[39;00m e\n\u001b[1;32m    477\u001b[0m \u001b[39melse\u001b[39;00m:\n\u001b[1;32m    478\u001b[0m     \u001b[39mraise\u001b[39;00m CompilerError(\u001b[39m\"\u001b[39m\u001b[39mAll available pipelines exhausted\u001b[39m\u001b[39m\"\u001b[39m)\n",
      "File \u001b[0;32m/opt/homebrew/anaconda3/lib/python3.9/site-packages/numba/core/compiler.py:463\u001b[0m, in \u001b[0;36mCompilerBase._compile_core\u001b[0;34m(self)\u001b[0m\n\u001b[1;32m    461\u001b[0m res \u001b[39m=\u001b[39m \u001b[39mNone\u001b[39;00m\n\u001b[1;32m    462\u001b[0m \u001b[39mtry\u001b[39;00m:\n\u001b[0;32m--> 463\u001b[0m     pm\u001b[39m.\u001b[39;49mrun(\u001b[39mself\u001b[39;49m\u001b[39m.\u001b[39;49mstate)\n\u001b[1;32m    464\u001b[0m     \u001b[39mif\u001b[39;00m \u001b[39mself\u001b[39m\u001b[39m.\u001b[39mstate\u001b[39m.\u001b[39mcr \u001b[39mis\u001b[39;00m \u001b[39mnot\u001b[39;00m \u001b[39mNone\u001b[39;00m:\n\u001b[1;32m    465\u001b[0m         \u001b[39mbreak\u001b[39;00m\n",
      "File \u001b[0;32m/opt/homebrew/anaconda3/lib/python3.9/site-packages/numba/core/compiler_machinery.py:353\u001b[0m, in \u001b[0;36mPassManager.run\u001b[0;34m(self, state)\u001b[0m\n\u001b[1;32m    350\u001b[0m msg \u001b[39m=\u001b[39m \u001b[39m\"\u001b[39m\u001b[39mFailed in \u001b[39m\u001b[39m%s\u001b[39;00m\u001b[39m mode pipeline (step: \u001b[39m\u001b[39m%s\u001b[39;00m\u001b[39m)\u001b[39m\u001b[39m\"\u001b[39m \u001b[39m%\u001b[39m \\\n\u001b[1;32m    351\u001b[0m     (\u001b[39mself\u001b[39m\u001b[39m.\u001b[39mpipeline_name, pass_desc)\n\u001b[1;32m    352\u001b[0m patched_exception \u001b[39m=\u001b[39m \u001b[39mself\u001b[39m\u001b[39m.\u001b[39m_patch_error(msg, e)\n\u001b[0;32m--> 353\u001b[0m \u001b[39mraise\u001b[39;00m patched_exception\n",
      "File \u001b[0;32m/opt/homebrew/anaconda3/lib/python3.9/site-packages/numba/core/compiler_machinery.py:341\u001b[0m, in \u001b[0;36mPassManager.run\u001b[0;34m(self, state)\u001b[0m\n\u001b[1;32m    339\u001b[0m pass_inst \u001b[39m=\u001b[39m _pass_registry\u001b[39m.\u001b[39mget(pss)\u001b[39m.\u001b[39mpass_inst\n\u001b[1;32m    340\u001b[0m \u001b[39mif\u001b[39;00m \u001b[39misinstance\u001b[39m(pass_inst, CompilerPass):\n\u001b[0;32m--> 341\u001b[0m     \u001b[39mself\u001b[39;49m\u001b[39m.\u001b[39;49m_runPass(idx, pass_inst, state)\n\u001b[1;32m    342\u001b[0m \u001b[39melse\u001b[39;00m:\n\u001b[1;32m    343\u001b[0m     \u001b[39mraise\u001b[39;00m \u001b[39mBaseException\u001b[39;00m(\u001b[39m\"\u001b[39m\u001b[39mLegacy pass in use\u001b[39m\u001b[39m\"\u001b[39m)\n",
      "File \u001b[0;32m/opt/homebrew/anaconda3/lib/python3.9/site-packages/numba/core/compiler_lock.py:35\u001b[0m, in \u001b[0;36m_CompilerLock.__call__.<locals>._acquire_compile_lock\u001b[0;34m(*args, **kwargs)\u001b[0m\n\u001b[1;32m     32\u001b[0m \u001b[39m@functools\u001b[39m\u001b[39m.\u001b[39mwraps(func)\n\u001b[1;32m     33\u001b[0m \u001b[39mdef\u001b[39;00m \u001b[39m_acquire_compile_lock\u001b[39m(\u001b[39m*\u001b[39margs, \u001b[39m*\u001b[39m\u001b[39m*\u001b[39mkwargs):\n\u001b[1;32m     34\u001b[0m     \u001b[39mwith\u001b[39;00m \u001b[39mself\u001b[39m:\n\u001b[0;32m---> 35\u001b[0m         \u001b[39mreturn\u001b[39;00m func(\u001b[39m*\u001b[39;49margs, \u001b[39m*\u001b[39;49m\u001b[39m*\u001b[39;49mkwargs)\n",
      "File \u001b[0;32m/opt/homebrew/anaconda3/lib/python3.9/site-packages/numba/core/compiler_machinery.py:296\u001b[0m, in \u001b[0;36mPassManager._runPass\u001b[0;34m(self, index, pss, internal_state)\u001b[0m\n\u001b[1;32m    294\u001b[0m     mutated \u001b[39m|\u001b[39m\u001b[39m=\u001b[39m check(pss\u001b[39m.\u001b[39mrun_initialization, internal_state)\n\u001b[1;32m    295\u001b[0m \u001b[39mwith\u001b[39;00m SimpleTimer() \u001b[39mas\u001b[39;00m pass_time:\n\u001b[0;32m--> 296\u001b[0m     mutated \u001b[39m|\u001b[39m\u001b[39m=\u001b[39m check(pss\u001b[39m.\u001b[39;49mrun_pass, internal_state)\n\u001b[1;32m    297\u001b[0m \u001b[39mwith\u001b[39;00m SimpleTimer() \u001b[39mas\u001b[39;00m finalize_time:\n\u001b[1;32m    298\u001b[0m     mutated \u001b[39m|\u001b[39m\u001b[39m=\u001b[39m check(pss\u001b[39m.\u001b[39mrun_finalizer, internal_state)\n",
      "File \u001b[0;32m/opt/homebrew/anaconda3/lib/python3.9/site-packages/numba/core/compiler_machinery.py:269\u001b[0m, in \u001b[0;36mPassManager._runPass.<locals>.check\u001b[0;34m(func, compiler_state)\u001b[0m\n\u001b[1;32m    268\u001b[0m \u001b[39mdef\u001b[39;00m \u001b[39mcheck\u001b[39m(func, compiler_state):\n\u001b[0;32m--> 269\u001b[0m     mangled \u001b[39m=\u001b[39m func(compiler_state)\n\u001b[1;32m    270\u001b[0m     \u001b[39mif\u001b[39;00m mangled \u001b[39mnot\u001b[39;00m \u001b[39min\u001b[39;00m (\u001b[39mTrue\u001b[39;00m, \u001b[39mFalse\u001b[39;00m):\n\u001b[1;32m    271\u001b[0m         msg \u001b[39m=\u001b[39m (\u001b[39m\"\u001b[39m\u001b[39mCompilerPass implementations should return True/False. \u001b[39m\u001b[39m\"\u001b[39m\n\u001b[1;32m    272\u001b[0m                \u001b[39m\"\u001b[39m\u001b[39mCompilerPass with name \u001b[39m\u001b[39m'\u001b[39m\u001b[39m%s\u001b[39;00m\u001b[39m'\u001b[39m\u001b[39m did not.\u001b[39m\u001b[39m\"\u001b[39m)\n",
      "File \u001b[0;32m/opt/homebrew/anaconda3/lib/python3.9/site-packages/numba/core/typed_passes.py:105\u001b[0m, in \u001b[0;36mBaseTypeInference.run_pass\u001b[0;34m(self, state)\u001b[0m\n\u001b[1;32m     99\u001b[0m \u001b[39m\"\"\"\u001b[39;00m\n\u001b[1;32m    100\u001b[0m \u001b[39mType inference and legalization\u001b[39;00m\n\u001b[1;32m    101\u001b[0m \u001b[39m\"\"\"\u001b[39;00m\n\u001b[1;32m    102\u001b[0m \u001b[39mwith\u001b[39;00m fallback_context(state, \u001b[39m'\u001b[39m\u001b[39mFunction \u001b[39m\u001b[39m\"\u001b[39m\u001b[39m%s\u001b[39;00m\u001b[39m\"\u001b[39m\u001b[39m failed type inference\u001b[39m\u001b[39m'\u001b[39m\n\u001b[1;32m    103\u001b[0m                       \u001b[39m%\u001b[39m (state\u001b[39m.\u001b[39mfunc_id\u001b[39m.\u001b[39mfunc_name,)):\n\u001b[1;32m    104\u001b[0m     \u001b[39m# Type inference\u001b[39;00m\n\u001b[0;32m--> 105\u001b[0m     typemap, return_type, calltypes, errs \u001b[39m=\u001b[39m type_inference_stage(\n\u001b[1;32m    106\u001b[0m         state\u001b[39m.\u001b[39;49mtypingctx,\n\u001b[1;32m    107\u001b[0m         state\u001b[39m.\u001b[39;49mtargetctx,\n\u001b[1;32m    108\u001b[0m         state\u001b[39m.\u001b[39;49mfunc_ir,\n\u001b[1;32m    109\u001b[0m         state\u001b[39m.\u001b[39;49margs,\n\u001b[1;32m    110\u001b[0m         state\u001b[39m.\u001b[39;49mreturn_type,\n\u001b[1;32m    111\u001b[0m         state\u001b[39m.\u001b[39;49mlocals,\n\u001b[1;32m    112\u001b[0m         raise_errors\u001b[39m=\u001b[39;49m\u001b[39mself\u001b[39;49m\u001b[39m.\u001b[39;49m_raise_errors)\n\u001b[1;32m    113\u001b[0m     state\u001b[39m.\u001b[39mtypemap \u001b[39m=\u001b[39m typemap\n\u001b[1;32m    114\u001b[0m     \u001b[39m# save errors in case of partial typing\u001b[39;00m\n",
      "File \u001b[0;32m/opt/homebrew/anaconda3/lib/python3.9/site-packages/numba/core/typed_passes.py:81\u001b[0m, in \u001b[0;36mtype_inference_stage\u001b[0;34m(typingctx, targetctx, interp, args, return_type, locals, raise_errors)\u001b[0m\n\u001b[1;32m     78\u001b[0m \u001b[39mfor\u001b[39;00m k, v \u001b[39min\u001b[39;00m \u001b[39mlocals\u001b[39m\u001b[39m.\u001b[39mitems():\n\u001b[1;32m     79\u001b[0m     infer\u001b[39m.\u001b[39mseed_type(k, v)\n\u001b[0;32m---> 81\u001b[0m infer\u001b[39m.\u001b[39;49mbuild_constraint()\n\u001b[1;32m     82\u001b[0m \u001b[39m# return errors in case of partial typing\u001b[39;00m\n\u001b[1;32m     83\u001b[0m errs \u001b[39m=\u001b[39m infer\u001b[39m.\u001b[39mpropagate(raise_errors\u001b[39m=\u001b[39mraise_errors)\n",
      "File \u001b[0;32m/opt/homebrew/anaconda3/lib/python3.9/site-packages/numba/core/typeinfer.py:1039\u001b[0m, in \u001b[0;36mTypeInferer.build_constraint\u001b[0;34m(self)\u001b[0m\n\u001b[1;32m   1037\u001b[0m \u001b[39mfor\u001b[39;00m blk \u001b[39min\u001b[39;00m \u001b[39mself\u001b[39m\u001b[39m.\u001b[39mblocks\u001b[39m.\u001b[39mvalues():\n\u001b[1;32m   1038\u001b[0m     \u001b[39mfor\u001b[39;00m inst \u001b[39min\u001b[39;00m blk\u001b[39m.\u001b[39mbody:\n\u001b[0;32m-> 1039\u001b[0m         \u001b[39mself\u001b[39;49m\u001b[39m.\u001b[39;49mconstrain_statement(inst)\n",
      "File \u001b[0;32m/opt/homebrew/anaconda3/lib/python3.9/site-packages/numba/core/typeinfer.py:1386\u001b[0m, in \u001b[0;36mTypeInferer.constrain_statement\u001b[0;34m(self, inst)\u001b[0m\n\u001b[1;32m   1384\u001b[0m \u001b[39mdef\u001b[39;00m \u001b[39mconstrain_statement\u001b[39m(\u001b[39mself\u001b[39m, inst):\n\u001b[1;32m   1385\u001b[0m     \u001b[39mif\u001b[39;00m \u001b[39misinstance\u001b[39m(inst, ir\u001b[39m.\u001b[39mAssign):\n\u001b[0;32m-> 1386\u001b[0m         \u001b[39mself\u001b[39;49m\u001b[39m.\u001b[39;49mtypeof_assign(inst)\n\u001b[1;32m   1387\u001b[0m     \u001b[39melif\u001b[39;00m \u001b[39misinstance\u001b[39m(inst, ir\u001b[39m.\u001b[39mSetItem):\n\u001b[1;32m   1388\u001b[0m         \u001b[39mself\u001b[39m\u001b[39m.\u001b[39mtypeof_setitem(inst)\n",
      "File \u001b[0;32m/opt/homebrew/anaconda3/lib/python3.9/site-packages/numba/core/typeinfer.py:1459\u001b[0m, in \u001b[0;36mTypeInferer.typeof_assign\u001b[0;34m(self, inst)\u001b[0m\n\u001b[1;32m   1456\u001b[0m     \u001b[39mself\u001b[39m\u001b[39m.\u001b[39mconstraints\u001b[39m.\u001b[39mappend(Propagate(dst\u001b[39m=\u001b[39minst\u001b[39m.\u001b[39mtarget\u001b[39m.\u001b[39mname,\n\u001b[1;32m   1457\u001b[0m                                       src\u001b[39m=\u001b[39mvalue\u001b[39m.\u001b[39mname, loc\u001b[39m=\u001b[39minst\u001b[39m.\u001b[39mloc))\n\u001b[1;32m   1458\u001b[0m \u001b[39melif\u001b[39;00m \u001b[39misinstance\u001b[39m(value, (ir\u001b[39m.\u001b[39mGlobal, ir\u001b[39m.\u001b[39mFreeVar)):\n\u001b[0;32m-> 1459\u001b[0m     \u001b[39mself\u001b[39;49m\u001b[39m.\u001b[39;49mtypeof_global(inst, inst\u001b[39m.\u001b[39;49mtarget, value)\n\u001b[1;32m   1460\u001b[0m \u001b[39melif\u001b[39;00m \u001b[39misinstance\u001b[39m(value, ir\u001b[39m.\u001b[39mArg):\n\u001b[1;32m   1461\u001b[0m     \u001b[39mself\u001b[39m\u001b[39m.\u001b[39mtypeof_arg(inst, inst\u001b[39m.\u001b[39mtarget, value)\n",
      "File \u001b[0;32m/opt/homebrew/anaconda3/lib/python3.9/site-packages/numba/core/typeinfer.py:1559\u001b[0m, in \u001b[0;36mTypeInferer.typeof_global\u001b[0;34m(self, inst, target, gvar)\u001b[0m\n\u001b[1;32m   1557\u001b[0m \u001b[39mdef\u001b[39;00m \u001b[39mtypeof_global\u001b[39m(\u001b[39mself\u001b[39m, inst, target, gvar):\n\u001b[1;32m   1558\u001b[0m     \u001b[39mtry\u001b[39;00m:\n\u001b[0;32m-> 1559\u001b[0m         typ \u001b[39m=\u001b[39m \u001b[39mself\u001b[39;49m\u001b[39m.\u001b[39;49mresolve_value_type(inst, gvar\u001b[39m.\u001b[39;49mvalue)\n\u001b[1;32m   1560\u001b[0m     \u001b[39mexcept\u001b[39;00m TypingError \u001b[39mas\u001b[39;00m e:\n\u001b[1;32m   1561\u001b[0m         \u001b[39mif\u001b[39;00m (gvar\u001b[39m.\u001b[39mname \u001b[39m==\u001b[39m \u001b[39mself\u001b[39m\u001b[39m.\u001b[39mfunc_id\u001b[39m.\u001b[39mfunc_name\n\u001b[1;32m   1562\u001b[0m                 \u001b[39mand\u001b[39;00m gvar\u001b[39m.\u001b[39mname \u001b[39min\u001b[39;00m _temporary_dispatcher_map):\n\u001b[1;32m   1563\u001b[0m             \u001b[39m# Self-recursion case where the dispatcher is not (yet?) known\u001b[39;00m\n\u001b[1;32m   1564\u001b[0m             \u001b[39m# as a global variable\u001b[39;00m\n",
      "File \u001b[0;32m/opt/homebrew/anaconda3/lib/python3.9/site-packages/numba/core/typeinfer.py:1480\u001b[0m, in \u001b[0;36mTypeInferer.resolve_value_type\u001b[0;34m(self, inst, val)\u001b[0m\n\u001b[1;32m   1478\u001b[0m \u001b[39mexcept\u001b[39;00m \u001b[39mValueError\u001b[39;00m \u001b[39mas\u001b[39;00m e:\n\u001b[1;32m   1479\u001b[0m     msg \u001b[39m=\u001b[39m \u001b[39mstr\u001b[39m(e)\n\u001b[0;32m-> 1480\u001b[0m \u001b[39mraise\u001b[39;00m TypingError(msg, loc\u001b[39m=\u001b[39minst\u001b[39m.\u001b[39mloc)\n",
      "\u001b[0;31mTypingError\u001b[0m: Failed in nopython mode pipeline (step: nopython frontend)\n\u001b[1mUntyped global name 'Decimal':\u001b[0m \u001b[1m\u001b[1mCannot determine Numba type of <class 'type'>\u001b[0m\n\u001b[1m\nFile \"../../../../../../../var/folders/rk/rwsr6gss0vz3g4fz3_kt0x0m0000gn/T/ipykernel_11328/1970753919.py\", line 6:\u001b[0m\n\u001b[1m<source missing, REPL/exec in use?>\u001b[0m\n\u001b[0m"
     ]
    }
   ],
   "source": [
    "from decimal import Decimal\n",
    "\n",
    "@jit(\"void(float64[:])\", nopython=True)\n",
    "def bubblesort_nopython_flag(X):\n",
    "    N = len(X)\n",
    "    val = Decimal(100)  # just to force an error\n",
    "    for end in range(N, 1, -1):\n",
    "        for i in range(end - 1):\n",
    "            cur = X[i]\n",
    "            if cur > X[i + 1]:\n",
    "                tmp = X[i]\n",
    "                X[i] = X[i + 1]\n",
    "                X[i + 1] = tmp"
   ]
  },
  {
   "cell_type": "code",
   "execution_count": 15,
   "metadata": {
    "id": "ijnJr7ckPK01"
   },
   "outputs": [
    {
     "name": "stdout",
     "output_type": "stream",
     "text": [
      "759 µs ± 11.6 µs per loop (mean ± std. dev. of 7 runs, 10 loops each)\n"
     ]
    }
   ],
   "source": [
    "%timeit -n 10 sorted_array[:] = shuffled_array[:]; bubblesort_nopython_flag(sorted_array)"
   ]
  },
  {
   "cell_type": "markdown",
   "metadata": {
    "id": "m6FkvTxePK01"
   },
   "source": [
    "### Calling other functions\n",
    "Numba functions can call other Numba functions. Both functions must have the **@jit** decorator, otherwise the code will be much slower."
   ]
  },
  {
   "cell_type": "code",
   "execution_count": 17,
   "metadata": {
    "id": "775Bjn5_PK01"
   },
   "outputs": [],
   "source": [
    "import numpy as np\n",
    "\n",
    "original = np.arange(0.0, 10.0, 0.01, dtype='float')\n",
    "shuffled = original.copy()\n",
    "np.random.shuffle(shuffled)\n",
    "\n",
    "sorted = shuffled.copy()"
   ]
  },
  {
   "cell_type": "code",
   "execution_count": 18,
   "metadata": {
    "id": "fEqIpmcjPK01"
   },
   "outputs": [],
   "source": [
    "from numba import jit, float64\n",
    "\n",
    "@jit(\"void(float64[:])\", nopython=True)\n",
    "def bubblesort_ff(X):\n",
    "    N = len(X)\n",
    "    for end in range(N, 1, -1):\n",
    "        for i in range(end - 1):\n",
    "            cur = X[i]\n",
    "            if cur > X[i + 1]:\n",
    "                tmp = X[i]\n",
    "                X[i] = X[i + 1]\n",
    "                X[i + 1] = tmp\n",
    "               \n",
    "@jit(\"void(float64[:])\",nopython=True)\n",
    "def do_sort(sorted):\n",
    "    bubblesort_ff(sorted)\n",
    "    "
   ]
  },
  {
   "cell_type": "code",
   "execution_count": 19,
   "metadata": {
    "id": "6TITrNo7PK01"
   },
   "outputs": [
    {
     "name": "stdout",
     "output_type": "stream",
     "text": [
      "777 µs ± 45.6 µs per loop (mean ± std. dev. of 7 runs, 10 loops each)\n"
     ]
    }
   ],
   "source": [
    "%timeit -n 10 sorted[:]=shuffled[:]; do_sort(sorted)"
   ]
  },
  {
   "cell_type": "markdown",
   "metadata": {
    "id": "2Jbu0us6PK01"
   },
   "source": [
    "---\n",
    "###  NumPy Universal Functions ([ufunc](https://docs.scipy.org/doc/numpy-1.10.0/reference/ufuncs.html#universal-functions-ufunc))\n",
    "\n",
    "\n",
    "---\n",
    "- Examples of Numpy ufunc include add(), multiply(), and sin().  \n",
    "\n",
    "- These functions **operate on ndarrays** in an **element-by-element** fashion, supporting array broadcasting, type casting, and several other standard features.\n",
    "\n",
    "---\n",
    "- Numba’s **@vectorize** decorator allows Python functions taking scalar input arguments to be used as **NumPy ufuncs**.   \n",
    "\n",
    "\n",
    "- (Creating a traditional NumPy ufunc is not the most straightforward process and involves writing some C code. Numba makes this easy.)  \n",
    "\n",
    "\n",
    "- Using the @vectorize decorator, Numba can compile a pure Python function into a ufunc that operates over NumPy arrays as fast as traditional ufuncs written in C.  "
   ]
  },
  {
   "cell_type": "markdown",
   "metadata": {
    "id": "04UAb1KPPK01"
   },
   "source": [
    "The @vectorize decorator has two modes of operation:\n",
    "\n",
    "- **Eager**, or decoration-time, compilation. If you pass one or more type signatures to the decorator, you will be building a Numpy ufunc. We’re just going to consider eager compilation here.\n",
    "- **Lazy**, or call-time, compilation. When not given any signatures, the decorator will give you a Numba dynamic universal function (DUFunc) that dynamically compiles a new kernel when called with a previously unsupported input type.  \n",
    "\n",
    "\n",
    "**Using @vectorize, you write your function as operating over input scalars, rather than arrays. Numba will generate the surrounding loop (or kernel) allowing efficient iteration over the actual inputs.**   \n"
   ]
  },
  {
   "cell_type": "code",
   "execution_count": null,
   "metadata": {
    "executionInfo": {
     "elapsed": 240,
     "status": "ok",
     "timestamp": 1677596971910,
     "user": {
      "displayName": "Yijun Tang",
      "userId": "15094714110312648400"
     },
     "user_tz": 300
    },
    "id": "oP29d8LTPK02"
   },
   "outputs": [],
   "source": [
    "import numpy as np\n",
    "from numba import vectorize, int64\n",
    "\n",
    "@vectorize([int64(int64, int64)])\n",
    "def vec_add_vectorize(x, y):\n",
    "    return x + y\n"
   ]
  },
  {
   "cell_type": "code",
   "execution_count": null,
   "metadata": {
    "colab": {
     "base_uri": "https://localhost:8080/"
    },
    "executionInfo": {
     "elapsed": 182,
     "status": "ok",
     "timestamp": 1677596973751,
     "user": {
      "displayName": "Yijun Tang",
      "userId": "15094714110312648400"
     },
     "user_tz": 300
    },
    "id": "iwMMVUrNPK02",
    "outputId": "3ff2f360-52fe-4a07-9fea-5248d9aeaa7f"
   },
   "outputs": [],
   "source": [
    "a = np.arange(6, dtype=np.int64)\n",
    "b = np.linspace(0, 10, 6, dtype=np.int64)\n",
    "\n",
    "print(\"a    : \", a)\n",
    "print(\"b    : \", b)\n",
    "\n",
    "print(\"-\" * 80)\n",
    "print(\"a + a: \", vec_add_vectorize(a, a))\n",
    "print(\"b + b: \", vec_add_vectorize(b, b))"
   ]
  },
  {
   "cell_type": "code",
   "execution_count": null,
   "metadata": {
    "executionInfo": {
     "elapsed": 506,
     "status": "ok",
     "timestamp": 1677596984559,
     "user": {
      "displayName": "Yijun Tang",
      "userId": "15094714110312648400"
     },
     "user_tz": 300
    },
    "id": "UuXj_O1GPK02"
   },
   "outputs": [],
   "source": [
    "@jit(\"int64[:](int64[:], int64[:])\")\n",
    "def vec_add_jit(x, y):\n",
    "    return x + y"
   ]
  },
  {
   "cell_type": "code",
   "execution_count": null,
   "metadata": {
    "colab": {
     "base_uri": "https://localhost:8080/"
    },
    "executionInfo": {
     "elapsed": 800,
     "status": "ok",
     "timestamp": 1677596986165,
     "user": {
      "displayName": "Yijun Tang",
      "userId": "15094714110312648400"
     },
     "user_tz": 300
    },
    "id": "XzbH0ByCPK02",
    "outputId": "6e284bee-d830-4768-9bc6-185bdfdf7095"
   },
   "outputs": [],
   "source": [
    "print(vec_add_jit(a, a))\n",
    "print(vec_add_jit(b, b))"
   ]
  },
  {
   "cell_type": "markdown",
   "metadata": {
    "id": "ZOb8IQsjPK02"
   },
   "source": [
    "The difference between the **@vectorize** and **@jit** is that \"vectorize\" is creating a new function with the associated efficient for-loop, while \"@jit\" is using the Numpy function.\n",
    "\n",
    "[http://numba.pydata.org/numba-doc/latest/user/vectorize.html](http://numba.pydata.org/numba-doc/latest/user/vectorize.html)"
   ]
  },
  {
   "cell_type": "code",
   "execution_count": null,
   "metadata": {
    "id": "2mrqCHOGPK03"
   },
   "outputs": [],
   "source": []
  }
 ],
 "metadata": {
  "celltoolbar": "Slideshow",
  "colab": {
   "provenance": []
  },
  "kernelspec": {
   "display_name": "base",
   "language": "python",
   "name": "python3"
  },
  "language_info": {
   "codemirror_mode": {
    "name": "ipython",
    "version": 3
   },
   "file_extension": ".py",
   "mimetype": "text/x-python",
   "name": "python",
   "nbconvert_exporter": "python",
   "pygments_lexer": "ipython3",
   "version": "3.9.13"
  },
  "vscode": {
   "interpreter": {
    "hash": "38cca0c38332a56087b24af0bc80247f4fced29cb4f7f437d91dc159adec9c4e"
   }
  }
 },
 "nbformat": 4,
 "nbformat_minor": 1
}
