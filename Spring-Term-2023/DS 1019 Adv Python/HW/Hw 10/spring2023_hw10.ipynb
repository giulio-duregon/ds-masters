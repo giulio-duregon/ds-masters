{
 "cells": [
  {
   "cell_type": "markdown",
   "metadata": {},
   "source": [
    "## Homework 10: GPUs\n",
    "\n",
    "## Due Date: April 26, 2023, 11:59pm\n",
    "\n",
    "#### Firstname Lastname: \n",
    "\n",
    "#### E-mail: \n",
    "\n",
    "#### Enter your solutions and submit this notebook"
   ]
  },
  {
   "cell_type": "markdown",
   "metadata": {},
   "source": [
    "---\n",
    "\n",
    "**Problem 1 (100p)**\n",
    "\n",
    "\n",
    "Write two programs which will be able to run in parallel on a GPU, one using Numba/CUDA (50p), one using PyOpenCL (50p).\n",
    "\n",
    "\n",
    "Each program will:\n",
    "\n",
    "- draw two random vectors $\\vec u$ and $\\vec v$ from $[0,1]^N$ where $N = 10^7$;\n",
    "\n",
    "\n",
    "- calculate and output similarity between $\\vec u$ and $\\vec v$.\n",
    "\n",
    "\n",
    "\n",
    "\n",
    "The similarity between two vectors $\\vec u$ and $\\vec v$ is defined here as a `cosine` value of the angle between them $\\measuredangle \\left( \\vec u, \\vec v \\right)$. That is, the program returns: \n",
    "\n",
    "$$\\cos \\left( \\measuredangle \\left( \\vec u, \\vec v \\right) \\right).$$\n",
    "\n",
    "\n",
    "Note that the output is a real value and must belong to $[-1, 1]$."
   ]
  }
 ],
 "metadata": {
  "kernelspec": {
   "display_name": "Python 3 (ipykernel)",
   "language": "python",
   "name": "python3"
  },
  "language_info": {
   "codemirror_mode": {
    "name": "ipython",
    "version": 3
   },
   "file_extension": ".py",
   "mimetype": "text/x-python",
   "name": "python",
   "nbconvert_exporter": "python",
   "pygments_lexer": "ipython3",
   "version": "3.9.4"
  }
 },
 "nbformat": 4,
 "nbformat_minor": 2
}
