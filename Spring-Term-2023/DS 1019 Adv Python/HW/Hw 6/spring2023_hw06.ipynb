{
 "cells": [
  {
   "cell_type": "markdown",
   "metadata": {},
   "source": [
    "## Homework 06: Optimization in Python\n",
    "\n",
    "## Due Date: March 29, 2023, 11:59pm\n",
    "\n",
    "#### Firstname Lastname: \n",
    "\n",
    "#### E-mail: \n",
    "\n",
    "#### Enter your solutions and submit this notebook"
   ]
  },
  {
   "cell_type": "markdown",
   "metadata": {},
   "source": [
    "---\n",
    "\n",
    "**Problem 1 (30p)**\n",
    "\n",
    "We examine a product of non-negative numbers given their sum. Concretely, the problem is to find all $(x, y, z)$ among all non-negative reals $x, y, z \\geq 0$ such that\n",
    "their product $P(x, y, z) = x y z$ is maximized, given their sum $x + y + z = 270$. \n",
    "\n",
    "\n",
    "1.1. (15p)\n",
    "Cast the problem as a nonlinear two-dimensional optimization problem over with box constraints (*hint*: remove the sum constraint, and ignore one of the positivity constraints which should not be violated with proper initialization) and solve it using the L-BFGS-B method of `scipy.optimize.minimize`.\n",
    "\n",
    "1.2. (15p)\n",
    "Cast the problem as an equivalent one-dimensional constrained optimization problem (*hint*: after removing the sum constraint, can you further use optimality conditions to remove one more variable?), and solve it using `scipy.optimize.minimize_scalar`.\n",
    "\n"
   ]
  },
  {
   "cell_type": "markdown",
   "metadata": {},
   "source": [
    "---\n",
    "\n",
    "**Problem 2 (70p)**\n",
    "\n",
    "Let us consider the following function,\n",
    "\n",
    "$$h(x, y) := (x^2 + y - 10)^2 + (x + y^2 - 17)^2.$$\n",
    "    \n",
    "find **all extremal** points (both minima and maxima) in the region $-10 \\leq x, y \\leq 10$.\n",
    "\n",
    "\n",
    "The goal is to: (a) find extremal points; (b) compare convergence, i.e. the numbers of: Iterations, Function evaluations, Gradient evaluations, Hessian evaluations.\n",
    "\n",
    "\n",
    "Solve the problem by using the Newton optimization routine \"scipy.optimize.fmin_ncg\":\n",
    "\n",
    "2.1. (20p) providing gradient (fprime) and Hessian (fhess) in \"scipy.optimize.fmin_ncg\"\n",
    "\n",
    "2.2. (20p) providing only gradient (fprime) in \"scipy.optimize.fmin_ncg\"\n",
    "\n",
    "Solve the problem by using the quasi-Newton optimization routine \"fmin_bfgs\":\n",
    "\n",
    "2.3. (20p) **not** providing gradient (fprime) or Hessian (like in \"scipy.optimize.fmin_ncg\").\n",
    "\n",
    "\n",
    "Use JAX for computing the gradient and Hessian as in the lecture. (make sure the gradient and Hessian are correctly computed).\n",
    "\n",
    "\n",
    "2.4. (10p) Plot $h(x, y)$ in the given region $-10 \\leq x, y \\leq 10$.\n",
    "\n",
    "\n",
    "**Hint**: Note there are multiple extremal points in the given region. So one has to run the Newton routine with different starting points in order to find different extremal points. \n",
    "\n",
    "\n",
    "For every extremal point report: \n",
    "- (xopt, yopt)\n",
    "- h(xopt, yopt)\n",
    "- (xstart, ystart)\n",
    "- the number of Iterations\n",
    "- the number of Function evaluations\n",
    "- the number of Gradient evaluations\n",
    "- the number of Hessian evaluations.\n",
    "\n",
    "**Hint 2:** There are both local mimima and maxima; notice that \"scipy.optimize.fmin_ncg\" finds \"minimum\" not the \"maximum\". To locate stationary points, partition $-10 \\leq x, y \\leq 10$ into multiple regions and use \"optimize.brute\" in each of these regions. Then use the resulting points as starting points in \"scipy.optimize.fmin_ncg\".\n"
   ]
  }
 ],
 "metadata": {
  "kernelspec": {
   "display_name": "Python 3 (ipykernel)",
   "language": "python",
   "name": "python3"
  },
  "language_info": {
   "codemirror_mode": {
    "name": "ipython",
    "version": 3
   },
   "file_extension": ".py",
   "mimetype": "text/x-python",
   "name": "python",
   "nbconvert_exporter": "python",
   "pygments_lexer": "ipython3",
   "version": "3.9.4"
  }
 },
 "nbformat": 4,
 "nbformat_minor": 2
}
