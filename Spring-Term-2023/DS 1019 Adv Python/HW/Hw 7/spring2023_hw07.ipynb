{
 "cells": [
  {
   "attachments": {},
   "cell_type": "markdown",
   "metadata": {},
   "source": [
    "### Homework 07: Concurrency\n",
    "\n",
    "## Due Date: Apr 5, 2023, 11:59pm\n",
    "\n",
    "#### Firstname Lastname: Giulio Duregon\n",
    "\n",
    "#### E-mail: gjd9961@nyu.edu\n",
    "\n",
    "#### Enter your solutions and submit this notebook\n"
   ]
  },
  {
   "cell_type": "markdown",
   "metadata": {},
   "source": [
    "---\n",
    "\n",
    "**Problem 1** **(60 Points)**\n",
    "\n",
    "Let us consider the Gamma function, or the Euler integral of the second kind: \n",
    "\n",
    "$$\\Gamma(x) = \\int_{0} ^ \\infty t ^{x - 1} e^{-t} dt, $$\n",
    "\n",
    "and in this HW we consider real $x > 0$."
   ]
  },
  {
   "cell_type": "markdown",
   "metadata": {},
   "source": [
    "(Here is more on the Gamma function https://en.wikipedia.org/wiki/Gamma_function .\n",
    "It is not needed for this HW assignment.) "
   ]
  },
  {
   "cell_type": "markdown",
   "metadata": {},
   "source": [
    "**1.1 (Points 15)**: \n",
    "\n",
    "Write a function (in the cell below) that sequentially calculates the given Gamma integral.\n"
   ]
  },
  {
   "cell_type": "code",
   "execution_count": 1,
   "metadata": {},
   "outputs": [],
   "source": [
    "import numpy as np\n",
    "from time import time\n",
    "def calculate_gamma(x, bound_1, bound_2, number_of_steps, verbose=False):\n",
    "    # sequential version to calculate Gamma(x):\n",
    "    # where we approximate the given integral,\n",
    "    # like this a discrete sum in number_of_steps\n",
    "    # equidistant points on the interval [bound_1, bound_2]\n",
    "    \n",
    "    ts = time()\n",
    "\n",
    "    delta_x = (bound_2 - bound_1) / number_of_steps\n",
    "    \n",
    "    # initialize variables\n",
    "    gamma_sum = 0\n",
    "    current_x = bound_1\n",
    "    \n",
    "    # loop through equidistant points on the interval [bound_1, bound_2]\n",
    "    for i in range(number_of_steps):\n",
    "        # add contribution of current point to Gamma sum\n",
    "        gamma_sum += np.exp(-current_x) * current_x**(x-1)\n",
    "        \n",
    "        # move to next point\n",
    "        current_x += delta_x\n",
    "    \n",
    "    # multiply by step size to approximate integral\n",
    "    gamma_approx = gamma_sum * delta_x\n",
    "    if verbose:\n",
    "        print(f\"Gamma(x)={gamma_approx}, Total Time: {time()-ts}s\")"
   ]
  },
  {
   "cell_type": "markdown",
   "metadata": {},
   "source": [
    "**1.2 (Points 5)** \n",
    "\n",
    "Evaluate, $\\Gamma(6)$ by using `calculate_gamma(x, bound_1, bound_2, number_of_steps)` and the error of this computation.\n",
    "\n",
    "\n",
    "As arguments, use `x=6, bound_1=0, bound_2=1000, number_of_steps=10_000_000`. We know that $\\Gamma(x) = x!$, so $\\Gamma(6) = 5! = 120$. \n"
   ]
  },
  {
   "cell_type": "code",
   "execution_count": 2,
   "metadata": {},
   "outputs": [
    {
     "name": "stdout",
     "output_type": "stream",
     "text": [
      "Gamma(x)=120.00000000008042, Total Time: 4.477315187454224s\n"
     ]
    }
   ],
   "source": [
    "x = 6\n",
    "bound_1 = 0\n",
    "bound_2 = 1000\n",
    "number_of_steps=10_000_000\n",
    "calculate_gamma(x, bound_1, bound_2, number_of_steps, verbose=True)"
   ]
  },
  {
   "cell_type": "code",
   "execution_count": 3,
   "metadata": {},
   "outputs": [
    {
     "name": "stdout",
     "output_type": "stream",
     "text": [
      "4.45 s ± 32.1 ms per loop (mean ± std. dev. of 2 runs, 5 loops each)\n"
     ]
    }
   ],
   "source": [
    "%timeit -r 2 -n 5 calculate_gamma(x, bound_1, bound_2, number_of_steps)"
   ]
  },
  {
   "attachments": {},
   "cell_type": "markdown",
   "metadata": {},
   "source": [
    "---\n",
    "Write two functions to calculate $\\Gamma(x)$ by using:\n",
    "\n",
    "**1.3.1 (Points 15)**\n",
    "**threading** with N=4 threads; "
   ]
  },
  {
   "cell_type": "code",
   "execution_count": 4,
   "metadata": {},
   "outputs": [
    {
     "name": "stdout",
     "output_type": "stream",
     "text": [
      "Results for Threaded Calculate Gamme, Num Threads = 4\n",
      "Gamma Calculation for x=6, Gamma(x)=120.00000000008042, Total Time: 4.474512815475464s\n"
     ]
    }
   ],
   "source": [
    "import numpy as np\n",
    "from queue import Queue\n",
    "from threading import Thread\n",
    "from threading import Lock\n",
    "from time import time\n",
    "\n",
    "\n",
    "def threaded_calculate_gamma(x, bound_1, bound_2, number_of_steps, num_threads, verbose=False):\n",
    "    \"\"\" \n",
    "    Threaded version to calculate Gamma(x)\n",
    "    \"\"\"\n",
    "    \n",
    "    # Accounting\n",
    "    ts = time()\n",
    "    \n",
    "    # Global sum variable\n",
    "    gamma_sum = 0\n",
    "    \n",
    "    # Force synch with Lock()\n",
    "    lock = Lock()\n",
    "    q = Queue()\n",
    "    \n",
    "    # Define function for workers\n",
    "    def gamma_chunk(q: Queue):\n",
    "        \"\"\"\n",
    "        Helper function used by workers, takes a Queue as input, aquires work from input\n",
    "        Uses lock to force synchronization between workers when adding chunked work to output\n",
    "        \"\"\"\n",
    "        # Keep worker alive\n",
    "        while True:\n",
    "            \n",
    "            # Access outer scope variable\n",
    "            nonlocal gamma_sum\n",
    "            \n",
    "            # Get work from Queue\n",
    "            x, bound_1, bound_2, number_of_steps = q.get()\n",
    "            delta_x = (bound_2 - bound_1) / number_of_steps\n",
    "            \n",
    "            # initialize variables\n",
    "            temp_sum = 0\n",
    "            current_x = bound_1\n",
    "            \n",
    "            # loop through equidistant points on the interval [bound_1, bound_2]\n",
    "            for i in range(number_of_steps):\n",
    "                # add contribution of current point to Gamma sum\n",
    "                temp_sum += np.exp(-current_x) * current_x**(x-1)\n",
    "                \n",
    "                # move to next point\n",
    "                current_x += delta_x\n",
    "            \n",
    "            # multiply by step size to approximate integral\n",
    "            temp_sum = temp_sum * delta_x\n",
    "            \n",
    "            # Aquire lock and add to sum\n",
    "            with lock:\n",
    "                gamma_sum += temp_sum\n",
    "            \n",
    "            # Signal task is done to work queue\n",
    "            q.task_done()\n",
    "\n",
    "    # initialize workers\n",
    "    for _ in range(num_threads):\n",
    "        worker = Thread(target=gamma_chunk, args=(q, ))\n",
    "        worker.setDaemon(True) # this stop the threads when the program quits  \n",
    "        worker.start()         # start the threads\n",
    "       \n",
    "    # Create chunks and add to work Queue\n",
    "    bound_increment = (bound_2-bound_1) // num_threads\n",
    "    num_steps_per_thread = number_of_steps // num_threads\n",
    "    \n",
    "    arg_array = []\n",
    "    # partial_gamma = partial(calculate_gamma)\n",
    "    \n",
    "    for i in range(num_threads):\n",
    "        temp_start = bound_1 + (i * bound_increment)\n",
    "        temp_end = temp_start + bound_increment\n",
    "        q.put((x, temp_start, temp_end, num_steps_per_thread))\n",
    "\n",
    "        \n",
    "    # Wait for all workers to be done\n",
    "    q.join()\n",
    "    if verbose:    \n",
    "        print(f\"Results for Threaded Calculate Gamme, Num Threads = {num_threads}\")\n",
    "        print(f\"Gamma Calculation for x={x}, Gamma(x)={gamma_sum}, Total Time: {time()-ts}s\")    \n",
    "\n",
    "threaded_calculate_gamma(x, bound_1, bound_2, number_of_steps, num_threads=4, verbose=True)"
   ]
  },
  {
   "cell_type": "code",
   "execution_count": 5,
   "metadata": {},
   "outputs": [
    {
     "name": "stdout",
     "output_type": "stream",
     "text": [
      "4.39 s ± 18 ms per loop (mean ± std. dev. of 2 runs, 5 loops each)\n"
     ]
    }
   ],
   "source": [
    "# Test function\n",
    "NUM_THREADS = 4\n",
    "%timeit -r 2 -n 5 threaded_calculate_gamma(x, bound_1, bound_2, number_of_steps, NUM_THREADS, verbose=False)"
   ]
  },
  {
   "cell_type": "markdown",
   "metadata": {},
   "source": [
    "**1.3.2 (Points 15)**\n",
    "**multiprocessing** with N=4 processes."
   ]
  },
  {
   "cell_type": "code",
   "execution_count": 6,
   "metadata": {},
   "outputs": [],
   "source": [
    "def calculate_gamma_chunk(chunk):\n",
    "    # sequential version to calculate Gamma(x):\n",
    "    # where we approximate the given integral,\n",
    "    # like this a discrete sum in number_of_steps\n",
    "    # equidistant points on the interval [bound_1, bound_2]\n",
    "    x, bound_1, bound_2, number_of_steps = chunk\n",
    "    delta_x = (bound_2 - bound_1) / number_of_steps\n",
    "\n",
    "    # initialize variables\n",
    "    gamma_sum = 0\n",
    "    current_x = bound_1\n",
    "\n",
    "    # loop through equidistant points on the interval [bound_1, bound_2]\n",
    "    for i in range(number_of_steps):\n",
    "        # add contribution of current point to Gamma sum\n",
    "        gamma_sum += np.exp(-current_x) * current_x ** (x - 1)\n",
    "\n",
    "        # move to next point\n",
    "        current_x += delta_x\n",
    "\n",
    "    # multiply by step size to approximate integral\n",
    "    gamma_approx = gamma_sum * delta_x\n",
    "\n",
    "    return gamma_approx\n",
    "\n",
    "\n",
    "def multiprocess_calculate_gamma(\n",
    "    x, bound1, bound2, numsteps, NUM_PROCESSES, verbose=False\n",
    "):\n",
    "    # Start accounting\n",
    "    ts = time()\n",
    "\n",
    "    bound_increment = (bound2 - bound1) // NUM_PROCESSES\n",
    "    num_steps_per_process = numsteps // NUM_PROCESSES\n",
    "\n",
    "    arg_array = []\n",
    "    # partial_gamma = partial(calculate_gamma)\n",
    "\n",
    "    for i in range(NUM_PROCESSES):\n",
    "        temp_start = bound1 + (i * bound_increment)\n",
    "        temp_end = temp_start + bound_increment\n",
    "        arg_array.append((x, temp_start, temp_end, num_steps_per_process))\n",
    "\n",
    "    with Pool(NUM_PROCESSES) as pool:\n",
    "        result = pool.map(calculate_gamma_chunk, arg_array)\n",
    "\n",
    "    result_sum = sum(result)\n",
    "    if verbose:\n",
    "        from multiprocessing import cpu_count\n",
    "\n",
    "        print(\"number of CPU cores:\", cpu_count())\n",
    "        print(f\"Multiprocess Calculate Gamma with NUM_PROCESSES={NUM_PROCESSES}\")\n",
    "        print(f\"Gamma(x) = {result_sum}, Total Time: {time()-ts}s\")\n",
    "\n",
    "# Import to override function definition to use Pool in a IPython Kernel\n",
    "from gamma import multiprocess_calculate_gamma\n",
    "NUM_PROCESSES = 4\n",
    "multiprocess_calculate_gamma(x, bound_1, bound_2, number_of_steps, NUM_PROCESSES, verbose=False)"
   ]
  },
  {
   "cell_type": "code",
   "execution_count": 7,
   "metadata": {},
   "outputs": [
    {
     "name": "stdout",
     "output_type": "stream",
     "text": [
      "1.67 s ± 7.05 ms per loop (mean ± std. dev. of 2 runs, 5 loops each)\n"
     ]
    }
   ],
   "source": [
    "%timeit -r 2 -n 5 multiprocess_calculate_gamma(x, bound_1, bound_2, number_of_steps, NUM_PROCESSES, verbose=False)"
   ]
  },
  {
   "attachments": {},
   "cell_type": "markdown",
   "metadata": {},
   "source": [
    "**1.3.3 (Points 10)** \n",
    "Compare the times of the three versions and write a short explanation of what you are observing.\n",
    "\n",
    "How does the answer change when N=8 and why?\n",
    "\n",
    "### Answer:\n",
    "- Serial Time: 4.49 s ± 19.6 ms per loop\n",
    "- 4 Thread Time: 4.45 s ± 8.68 ms per loop\n",
    "- 4 Process Time: 1.66 s ± 5.83 ms per loop\n",
    "- 8 Threads Time: 4.49 s ± 3.21 ms per loop\n",
    "- 8 Process Time: 1.32 s ± 7.14 ms per loop\n",
    "\n",
    "We're observing that threading, and increasing the number of threads, does not have a positive effect on the run time, while increasing the number of processes running in parralel actually does. This is because my machine has 10 available CPU cores, so rather than running on a single core sequentially, we can leverage the other cores to run chunks of computation thus reducing the overall wall time necessary to run the function. This is why multiprocessing performs well: we're actually leveraging our CPU's parralel power. Threading on the other hand does not leverage the additional cores, but rather adds overhead by forcing the OS to perform costly context switchign between threads that are running within the same shared process (and address space) on the same CPU core. This is why we see the threaded time be nearly identical with the sequential implmentation time. This illustrates that when IO is a bottle neck, its best to use threads, but when CPU utilization / computation needs is, then additional processes running in parallel is more effective."
   ]
  },
  {
   "cell_type": "code",
   "execution_count": 8,
   "metadata": {},
   "outputs": [
    {
     "name": "stdout",
     "output_type": "stream",
     "text": [
      "Results for Threaded Calculate Gamme, Num Threads = 8\n",
      "Gamma Calculation for x=6, Gamma(x)=120.00000000008042, Total Time: 4.444800138473511s\n",
      "number of CPU cores: 10\n",
      "Multiprocess Calculate Gamma with NUM_PROCESSES=8\n",
      "Gamma(x) = 120.00000000008042, Total Time: 1.4162569046020508s\n"
     ]
    }
   ],
   "source": [
    "from gamma import multiprocess_calculate_gamma\n",
    "NUM_THREADS = 8\n",
    "threaded_calculate_gamma(x, bound_1, bound_2, number_of_steps, NUM_THREADS, verbose=True)\n",
    "NUM_PROCESSES = 8\n",
    "multiprocess_calculate_gamma(x, bound_1, bound_2, number_of_steps, NUM_PROCESSES, verbose=True)"
   ]
  },
  {
   "cell_type": "code",
   "execution_count": 9,
   "metadata": {},
   "outputs": [
    {
     "name": "stdout",
     "output_type": "stream",
     "text": [
      "4.4 s ± 1.15 ms per loop (mean ± std. dev. of 2 runs, 5 loops each)\n"
     ]
    }
   ],
   "source": [
    "%timeit -r 2 -n 5 threaded_calculate_gamma(x, bound_1, bound_2, number_of_steps, NUM_THREADS, verbose=False)"
   ]
  },
  {
   "cell_type": "code",
   "execution_count": 10,
   "metadata": {},
   "outputs": [
    {
     "name": "stdout",
     "output_type": "stream",
     "text": [
      "1.3 s ± 650 µs per loop (mean ± std. dev. of 2 runs, 5 loops each)\n"
     ]
    }
   ],
   "source": [
    "%timeit -r 2 -n 5 multiprocess_calculate_gamma(x, bound_1, bound_2, number_of_steps, NUM_PROCESSES, verbose=False)"
   ]
  },
  {
   "cell_type": "markdown",
   "metadata": {},
   "source": [
    "---\n",
    "\n",
    "**Problem 2 (40 points)**\n",
    "\n",
    "__Website uptime__ is the time that a website or web service is available to the users over a given period.\n",
    "\n",
    "The task is to build an application that checks the uptime of websites. \n",
    "\n",
    "- The application should go over a list of website URLs and checks if those websites are up.\n",
    "- Instead of performing a classic HTTP GET request, it performs a HEAD request so that it does not affect traffic significantly.\n",
    "- If the HTTP status is in the danger ranges (400+, 500+), a message is casted. \n",
    "\n",
    "Here are some useful functions:"
   ]
  },
  {
   "cell_type": "code",
   "execution_count": 11,
   "metadata": {},
   "outputs": [],
   "source": [
    "#### _website uptimer_ ####\n",
    "import time\n",
    "import logging\n",
    "import requests\n",
    " \n",
    "class WebsiteDownException(Exception):\n",
    "    pass\n",
    " \n",
    "def ping_website(address, timeout=20):\n",
    "    \"\"\"\n",
    "    Check if a website is down. A website is considered down \n",
    "    if either the status_code >= 400 or if the timeout expires\n",
    "     \n",
    "    Throw a WebsiteDownException if any of the website down conditions are met\n",
    "    \"\"\"\n",
    "    try:\n",
    "        response = requests.head(address, timeout=timeout)\n",
    "        if response.status_code >= 400:\n",
    "            logging.warning(\"Website %s returned status_code=%s\" % (address, response.status_code))\n",
    "            raise WebsiteDownException()\n",
    "    except requests.exceptions.RequestException:\n",
    "        logging.warning(\"Timeout expired for website %s\" % address)\n",
    "        raise WebsiteDownException()\n",
    "         \n",
    "def check_website(address, verbose=False):\n",
    "    \"\"\"\n",
    "    Utility function: check if a website is down, if so, notify the user\n",
    "    \"\"\"\n",
    "    try:\n",
    "        ping_website(address)\n",
    "    except WebsiteDownException:\n",
    "        if verbose:\n",
    "            print('The websie ' + address + ' is down')"
   ]
  },
  {
   "cell_type": "markdown",
   "metadata": {},
   "source": [
    "---\n",
    "\n",
    "You need a website list to try our system out. Create your own list or use the following one. \n",
    "\n",
    "---"
   ]
  },
  {
   "cell_type": "code",
   "execution_count": 12,
   "metadata": {},
   "outputs": [],
   "source": [
    "WEBSITE_LIST = [\n",
    "    'http://amazon.co.uk',\n",
    "    'http://amazon.com',\n",
    "    'http://facebook.com',\n",
    "    'http://google.com',\n",
    "    'http://google.fr',\n",
    "    'http://google.es',\n",
    "    'http://google.co.uk',\n",
    "    'http://gmail.com',\n",
    "    'http://stackoverflow.com',\n",
    "    'http://github.com',\n",
    "    'http://heroku.com',\n",
    "    'http://really-cool-available-domain.com',\n",
    "    'http://djangoproject.com',\n",
    "    'http://rubyonrails.org',\n",
    "    'http://basecamp.com',\n",
    "    'http://trello.com',\n",
    "    'http://shopify.com',\n",
    "    'http://another-really-interesting-domain.co',\n",
    "    'http://airbnb.com',\n",
    "    'http://instagram.com',\n",
    "    'http://snapchat.com',\n",
    "    'http://youtube.com',\n",
    "    'http://baidu.com',\n",
    "    'http://yahoo.com',\n",
    "    'http://live.com',\n",
    "    'http://linkedin.com',\n",
    "    'http://netflix.com',\n",
    "    'http://wordpress.com',\n",
    "    'http://bing.com',\n",
    "]"
   ]
  },
  {
   "cell_type": "markdown",
   "metadata": {},
   "source": [
    "---\n",
    "\n",
    "A serial version of the _website uptimer_ can be written as: \n",
    "\n",
    "---\n"
   ]
  },
  {
   "cell_type": "code",
   "execution_count": 13,
   "metadata": {},
   "outputs": [
    {
     "name": "stderr",
     "output_type": "stream",
     "text": [
      "WARNING:root:Timeout expired for website http://really-cool-available-domain.com\n",
      "WARNING:root:Timeout expired for website http://another-really-interesting-domain.co\n"
     ]
    },
    {
     "name": "stdout",
     "output_type": "stream",
     "text": [
      "Time for Serial: 6.40507698059082secs\n"
     ]
    }
   ],
   "source": [
    "import time\n",
    "\n",
    "def serial():\n",
    "    start_time = time.time()\n",
    "    \n",
    "    for address in WEBSITE_LIST:\n",
    "        check_website(address)\n",
    "            \n",
    "    end_time = time.time()        \n",
    "    print(\"Time for Serial: %ssecs\" % (end_time - start_time))\n",
    "\n",
    "serial()"
   ]
  },
  {
   "cell_type": "code",
   "execution_count": 14,
   "metadata": {},
   "outputs": [
    {
     "name": "stderr",
     "output_type": "stream",
     "text": [
      "WARNING:root:Timeout expired for website http://really-cool-available-domain.com\n",
      "WARNING:root:Timeout expired for website http://another-really-interesting-domain.co\n"
     ]
    },
    {
     "name": "stdout",
     "output_type": "stream",
     "text": [
      "Time for Serial: 2.9443299770355225secs\n"
     ]
    },
    {
     "name": "stderr",
     "output_type": "stream",
     "text": [
      "WARNING:root:Timeout expired for website http://really-cool-available-domain.com\n",
      "WARNING:root:Timeout expired for website http://another-really-interesting-domain.co\n"
     ]
    },
    {
     "name": "stdout",
     "output_type": "stream",
     "text": [
      "Time for Serial: 4.007624864578247secs\n"
     ]
    },
    {
     "name": "stderr",
     "output_type": "stream",
     "text": [
      "WARNING:root:Timeout expired for website http://really-cool-available-domain.com\n",
      "WARNING:root:Timeout expired for website http://another-really-interesting-domain.co\n"
     ]
    },
    {
     "name": "stdout",
     "output_type": "stream",
     "text": [
      "Time for Serial: 3.179229974746704secs\n"
     ]
    },
    {
     "name": "stderr",
     "output_type": "stream",
     "text": [
      "WARNING:root:Timeout expired for website http://really-cool-available-domain.com\n",
      "WARNING:root:Timeout expired for website http://another-really-interesting-domain.co\n",
      "WARNING:root:Timeout expired for website http://baidu.com\n"
     ]
    },
    {
     "name": "stdout",
     "output_type": "stream",
     "text": [
      "Time for Serial: 3.8201441764831543secs\n"
     ]
    },
    {
     "name": "stderr",
     "output_type": "stream",
     "text": [
      "WARNING:root:Timeout expired for website http://really-cool-available-domain.com\n",
      "WARNING:root:Timeout expired for website http://another-really-interesting-domain.co\n"
     ]
    },
    {
     "name": "stdout",
     "output_type": "stream",
     "text": [
      "Time for Serial: 2.914763927459717secs\n"
     ]
    },
    {
     "name": "stderr",
     "output_type": "stream",
     "text": [
      "WARNING:root:Timeout expired for website http://really-cool-available-domain.com\n",
      "WARNING:root:Timeout expired for website http://another-really-interesting-domain.co\n"
     ]
    },
    {
     "name": "stdout",
     "output_type": "stream",
     "text": [
      "Time for Serial: 2.7815699577331543secs\n"
     ]
    },
    {
     "name": "stderr",
     "output_type": "stream",
     "text": [
      "WARNING:root:Timeout expired for website http://really-cool-available-domain.com\n",
      "WARNING:root:Timeout expired for website http://another-really-interesting-domain.co\n"
     ]
    },
    {
     "name": "stdout",
     "output_type": "stream",
     "text": [
      "Time for Serial: 3.143512010574341secs\n"
     ]
    },
    {
     "name": "stderr",
     "output_type": "stream",
     "text": [
      "WARNING:root:Timeout expired for website http://really-cool-available-domain.com\n",
      "WARNING:root:Timeout expired for website http://another-really-interesting-domain.co\n"
     ]
    },
    {
     "name": "stdout",
     "output_type": "stream",
     "text": [
      "Time for Serial: 2.908781051635742secs\n"
     ]
    },
    {
     "name": "stderr",
     "output_type": "stream",
     "text": [
      "WARNING:root:Timeout expired for website http://really-cool-available-domain.com\n",
      "WARNING:root:Timeout expired for website http://another-really-interesting-domain.co\n"
     ]
    },
    {
     "name": "stdout",
     "output_type": "stream",
     "text": [
      "Time for Serial: 4.022976875305176secs\n"
     ]
    },
    {
     "name": "stderr",
     "output_type": "stream",
     "text": [
      "WARNING:root:Timeout expired for website http://really-cool-available-domain.com\n",
      "WARNING:root:Timeout expired for website http://another-really-interesting-domain.co\n",
      "WARNING:root:Timeout expired for website http://baidu.com\n"
     ]
    },
    {
     "name": "stdout",
     "output_type": "stream",
     "text": [
      "Time for Serial: 3.543220281600952secs\n",
      "3.33 s ± 46.4 ms per loop (mean ± std. dev. of 2 runs, 5 loops each)\n"
     ]
    }
   ],
   "source": [
    "%timeit -r 2 -n 5 serial()"
   ]
  },
  {
   "attachments": {},
   "cell_type": "markdown",
   "metadata": {},
   "source": [
    "You should build two versions of the **website uptimer**, by using:\n",
    "\n",
    "**2.1 (Points 15)**\n",
    "**threading** with N=4 threads;"
   ]
  },
  {
   "cell_type": "code",
   "execution_count": 15,
   "metadata": {},
   "outputs": [
    {
     "name": "stderr",
     "output_type": "stream",
     "text": [
      "WARNING:root:Timeout expired for website http://really-cool-available-domain.com\n",
      "WARNING:root:Timeout expired for website http://another-really-interesting-domain.co\n"
     ]
    },
    {
     "name": "stdout",
     "output_type": "stream",
     "text": [
      "Took 1.0619728565216064s\n"
     ]
    }
   ],
   "source": [
    "from threading import Thread\n",
    "from queue import Queue\n",
    "from time import time\n",
    "\n",
    "class PingWorker(Thread):\n",
    "    def __init__(self, queue):\n",
    "        super(PingWorker, self).__init__()\n",
    "        self.queue = queue\n",
    "    \n",
    "    def run(self):\n",
    "       while True:\n",
    "            # Get the work from the queue and expand the tuple\n",
    "            url = self.queue.get()\n",
    "            # Ping the website\n",
    "            check_website(url)\n",
    "            # Set the task as done\n",
    "            self.queue.task_done()\n",
    "\n",
    "\n",
    "def threaded_website_uptimer(WEBSITE_LIST, NUM_THREADS):\n",
    "    ts = time()\n",
    "    q = Queue()\n",
    "    \n",
    "    for _ in range(NUM_THREADS):\n",
    "        worker = PingWorker(q)\n",
    "        worker.daemon = True\n",
    "        worker.start()\n",
    "    \n",
    "    for address in WEBSITE_LIST:\n",
    "        q.put(address)\n",
    "    \n",
    "    # Wait to finish running all tasks\n",
    "    q.join()\n",
    "    \n",
    "    # output results\n",
    "    print('Took {}s'.format(time() - ts))\n",
    "\n",
    "# Number of threads and time results\n",
    "NUM_THREADS = 4\n",
    "threaded_website_uptimer(WEBSITE_LIST, NUM_THREADS)"
   ]
  },
  {
   "cell_type": "code",
   "execution_count": 16,
   "metadata": {},
   "outputs": [
    {
     "name": "stderr",
     "output_type": "stream",
     "text": [
      "WARNING:root:Timeout expired for website http://really-cool-available-domain.com\n",
      "WARNING:root:Timeout expired for website http://another-really-interesting-domain.co\n"
     ]
    },
    {
     "name": "stdout",
     "output_type": "stream",
     "text": [
      "Took 1.2116258144378662s\n"
     ]
    },
    {
     "name": "stderr",
     "output_type": "stream",
     "text": [
      "WARNING:root:Timeout expired for website http://really-cool-available-domain.com\n",
      "WARNING:root:Timeout expired for website http://another-really-interesting-domain.co\n"
     ]
    },
    {
     "name": "stdout",
     "output_type": "stream",
     "text": [
      "Took 1.0237810611724854s\n"
     ]
    },
    {
     "name": "stderr",
     "output_type": "stream",
     "text": [
      "WARNING:root:Timeout expired for website http://really-cool-available-domain.com\n",
      "WARNING:root:Timeout expired for website http://another-really-interesting-domain.co\n"
     ]
    },
    {
     "name": "stdout",
     "output_type": "stream",
     "text": [
      "Took 1.0246772766113281s\n"
     ]
    },
    {
     "name": "stderr",
     "output_type": "stream",
     "text": [
      "WARNING:root:Timeout expired for website http://really-cool-available-domain.com\n",
      "WARNING:root:Timeout expired for website http://another-really-interesting-domain.co\n"
     ]
    },
    {
     "name": "stdout",
     "output_type": "stream",
     "text": [
      "Took 1.3012757301330566s\n"
     ]
    },
    {
     "name": "stderr",
     "output_type": "stream",
     "text": [
      "WARNING:root:Timeout expired for website http://really-cool-available-domain.com\n",
      "WARNING:root:Timeout expired for website http://another-really-interesting-domain.co\n"
     ]
    },
    {
     "name": "stdout",
     "output_type": "stream",
     "text": [
      "Took 1.1598138809204102s\n"
     ]
    },
    {
     "name": "stderr",
     "output_type": "stream",
     "text": [
      "WARNING:root:Timeout expired for website http://really-cool-available-domain.com\n",
      "WARNING:root:Timeout expired for website http://another-really-interesting-domain.co\n"
     ]
    },
    {
     "name": "stdout",
     "output_type": "stream",
     "text": [
      "Took 0.998708963394165s\n"
     ]
    },
    {
     "name": "stderr",
     "output_type": "stream",
     "text": [
      "WARNING:root:Timeout expired for website http://really-cool-available-domain.com\n",
      "WARNING:root:Timeout expired for website http://basecamp.com\n",
      "WARNING:root:Timeout expired for website http://another-really-interesting-domain.co\n"
     ]
    },
    {
     "name": "stdout",
     "output_type": "stream",
     "text": [
      "Took 1.0416340827941895s\n"
     ]
    },
    {
     "name": "stderr",
     "output_type": "stream",
     "text": [
      "WARNING:root:Timeout expired for website http://really-cool-available-domain.com\n",
      "WARNING:root:Timeout expired for website http://another-really-interesting-domain.co\n"
     ]
    },
    {
     "name": "stdout",
     "output_type": "stream",
     "text": [
      "Took 1.0275688171386719s\n"
     ]
    },
    {
     "name": "stderr",
     "output_type": "stream",
     "text": [
      "WARNING:root:Timeout expired for website http://really-cool-available-domain.com\n",
      "WARNING:root:Timeout expired for website http://another-really-interesting-domain.co\n"
     ]
    },
    {
     "name": "stdout",
     "output_type": "stream",
     "text": [
      "Took 1.1257882118225098s\n"
     ]
    },
    {
     "name": "stderr",
     "output_type": "stream",
     "text": [
      "WARNING:root:Timeout expired for website http://really-cool-available-domain.com\n",
      "WARNING:root:Timeout expired for website http://another-really-interesting-domain.co\n"
     ]
    },
    {
     "name": "stdout",
     "output_type": "stream",
     "text": [
      "Took 1.0886750221252441s\n",
      "1.1 s ± 43.9 ms per loop (mean ± std. dev. of 2 runs, 5 loops each)\n"
     ]
    }
   ],
   "source": [
    "%timeit -r 2 -n 5 threaded_website_uptimer(WEBSITE_LIST, 4)"
   ]
  },
  {
   "attachments": {},
   "cell_type": "markdown",
   "metadata": {},
   "source": [
    "**2.2 (Points 15)**\n",
    "**multiprocessing** with N=4 processes."
   ]
  },
  {
   "cell_type": "code",
   "execution_count": 17,
   "metadata": {},
   "outputs": [
    {
     "name": "stderr",
     "output_type": "stream",
     "text": [
      "WARNING:root:Timeout expired for website http://really-cool-available-domain.com\n",
      "WARNING:root:Timeout expired for website http://another-really-interesting-domain.co\n"
     ]
    },
    {
     "name": "stdout",
     "output_type": "stream",
     "text": [
      "The websie http://really-cool-available-domain.com is down\n",
      "The websie http://another-really-interesting-domain.co is down\n",
      "The websie http://baidu.com is down\n",
      "Took 1.2115478515625s\n"
     ]
    },
    {
     "name": "stderr",
     "output_type": "stream",
     "text": [
      "WARNING:root:Timeout expired for website http://baidu.com\n"
     ]
    }
   ],
   "source": [
    "from multiprocessing.pool import Pool\n",
    "\n",
    "from time import time\n",
    "def multiprocess_website_uptimer(WEBSITE_LIST, NUM_PROCESSES):\n",
    "    # Set up timer and partial function\n",
    "    ts = time()\n",
    "    \n",
    "    # Use process pool with partial func / website lists being passed to pool\n",
    "    with Pool(NUM_PROCESSES) as p:\n",
    "        p.map(check_website, WEBSITE_LIST)\n",
    "    \n",
    "\n",
    "# Import because of Pool() Ipython errors\n",
    "from multiprocess_website_uptimer import multiprocess_website_uptimer\n",
    "NUM_PROCESSES = 4\n",
    "multiprocess_website_uptimer(WEBSITE_LIST, NUM_PROCESSES)"
   ]
  },
  {
   "cell_type": "code",
   "execution_count": 18,
   "metadata": {},
   "outputs": [
    {
     "name": "stdout",
     "output_type": "stream",
     "text": [
      "The websie http://really-cool-available-domain.com is down\n",
      "The websie http://another-really-interesting-domain.co is down\n"
     ]
    },
    {
     "name": "stderr",
     "output_type": "stream",
     "text": [
      "WARNING:root:Timeout expired for website http://really-cool-available-domain.com\n",
      "WARNING:root:Timeout expired for website http://another-really-interesting-domain.co\n"
     ]
    },
    {
     "name": "stdout",
     "output_type": "stream",
     "text": [
      "Took 1.3125050067901611s\n"
     ]
    },
    {
     "name": "stderr",
     "output_type": "stream",
     "text": [
      "WARNING:root:Timeout expired for website http://really-cool-available-domain.com\n",
      "WARNING:root:Timeout expired for website http://another-really-interesting-domain.co\n"
     ]
    },
    {
     "name": "stdout",
     "output_type": "stream",
     "text": [
      "The websie http://really-cool-available-domain.com is down\n",
      "The websie http://another-really-interesting-domain.co is down\n",
      "Took 1.2075917720794678s\n"
     ]
    },
    {
     "name": "stderr",
     "output_type": "stream",
     "text": [
      "WARNING:root:Timeout expired for website http://really-cool-available-domain.com\n",
      "WARNING:root:Timeout expired for website http://another-really-interesting-domain.co\n"
     ]
    },
    {
     "name": "stdout",
     "output_type": "stream",
     "text": [
      "The websie http://really-cool-available-domain.com is down\n",
      "The websie http://another-really-interesting-domain.co is down\n",
      "Took 1.2490639686584473s\n"
     ]
    },
    {
     "name": "stderr",
     "output_type": "stream",
     "text": [
      "WARNING:root:Timeout expired for website http://really-cool-available-domain.com\n",
      "WARNING:root:Timeout expired for website http://another-really-interesting-domain.co\n"
     ]
    },
    {
     "name": "stdout",
     "output_type": "stream",
     "text": [
      "The websie http://really-cool-available-domain.com is down\n",
      "The websie http://another-really-interesting-domain.co is down\n",
      "The websie http://baidu.com is down\n",
      "Took 1.0999233722686768s\n"
     ]
    },
    {
     "name": "stderr",
     "output_type": "stream",
     "text": [
      "WARNING:root:Timeout expired for website http://baidu.com\n",
      "WARNING:root:Timeout expired for website http://really-cool-available-domain.com\n",
      "WARNING:root:Timeout expired for website http://another-really-interesting-domain.co\n"
     ]
    },
    {
     "name": "stdout",
     "output_type": "stream",
     "text": [
      "The websie http://really-cool-available-domain.com is down\n",
      "The websie http://another-really-interesting-domain.co is down\n",
      "The websie http://baidu.com is down\n",
      "Took 1.346280813217163s\n"
     ]
    },
    {
     "name": "stderr",
     "output_type": "stream",
     "text": [
      "WARNING:root:Timeout expired for website http://baidu.com\n",
      "WARNING:root:Timeout expired for website http://really-cool-available-domain.com\n",
      "WARNING:root:Timeout expired for website http://another-really-interesting-domain.co\n"
     ]
    },
    {
     "name": "stdout",
     "output_type": "stream",
     "text": [
      "The websie http://really-cool-available-domain.com is down\n",
      "The websie http://another-really-interesting-domain.co is down\n",
      "Took 1.2281091213226318s\n",
      "The websie http://really-cool-available-domain.com is down\n",
      "The websie http://another-really-interesting-domain.co is down\n"
     ]
    },
    {
     "name": "stderr",
     "output_type": "stream",
     "text": [
      "WARNING:root:Timeout expired for website http://really-cool-available-domain.com\n",
      "WARNING:root:Timeout expired for website http://another-really-interesting-domain.co\n"
     ]
    },
    {
     "name": "stdout",
     "output_type": "stream",
     "text": [
      "Took 1.3233189582824707s\n"
     ]
    },
    {
     "name": "stderr",
     "output_type": "stream",
     "text": [
      "WARNING:root:Timeout expired for website http://really-cool-available-domain.com\n",
      "WARNING:root:Timeout expired for website http://another-really-interesting-domain.co\n"
     ]
    },
    {
     "name": "stdout",
     "output_type": "stream",
     "text": [
      "The websie http://really-cool-available-domain.com is down\n",
      "The websie http://another-really-interesting-domain.co is down\n",
      "Took 1.2439520359039307s\n"
     ]
    },
    {
     "name": "stderr",
     "output_type": "stream",
     "text": [
      "WARNING:root:Timeout expired for website http://really-cool-available-domain.com\n",
      "WARNING:root:Timeout expired for website http://another-really-interesting-domain.co\n"
     ]
    },
    {
     "name": "stdout",
     "output_type": "stream",
     "text": [
      "The websie http://really-cool-available-domain.com is down\n",
      "The websie http://another-really-interesting-domain.co is down\n",
      "The websie http://baidu.com is down\n",
      "Took 1.3132388591766357s\n"
     ]
    },
    {
     "name": "stderr",
     "output_type": "stream",
     "text": [
      "WARNING:root:Timeout expired for website http://baidu.com\n",
      "WARNING:root:Timeout expired for website http://really-cool-available-domain.com\n",
      "WARNING:root:Timeout expired for website http://another-really-interesting-domain.co\n"
     ]
    },
    {
     "name": "stdout",
     "output_type": "stream",
     "text": [
      "The websie http://really-cool-available-domain.com is down\n",
      "The websie http://another-really-interesting-domain.co is down\n",
      "Took 1.2498719692230225s\n",
      "1.26 s ± 14.4 ms per loop (mean ± std. dev. of 2 runs, 5 loops each)\n"
     ]
    }
   ],
   "source": [
    "%timeit -r 2 -n 5 multiprocess_website_uptimer(WEBSITE_LIST, 4)"
   ]
  },
  {
   "attachments": {},
   "cell_type": "markdown",
   "metadata": {},
   "source": [
    "**2.3 (Points 10)** \n",
    "\n",
    "Compare the times of the three versions and write a short explanation of what you are observing.\n",
    "\n",
    "- Serial Version, Time = 3.46 s ± 101 ms per loop\n",
    "- 4 Threads Version, Time = 1.06 s ± 28.8 ms per loop\n",
    "- 4 Process Version, Time = 1.23 s ± 35.9 ms per loop\n",
    "\n",
    "Serial is by far the slowest as each request must wait for the previous request's response to arrive before sending. This IO time restriction limits the performance of the serial version quite a bit. Threads performed the best as expected, as the threads can leverage the shared address space to minimize overhead / memory requirements, while supporting multiple contexts of execution. When a thread is waiting for a response, and is in a blocked state, the CPU can switch to another thread's context of execution and send its request, making threads a favorite implmenting of concurrency for IO tasks. For multiprocessing, you would expect that the total time would be SERIAL TIME / NUM PROCESSES. This isn't strictly true as we can see as there is overhead for each additional process created due to it needing its own address space, as it is a seperate version of the programming running in parralel."
   ]
  },
  {
   "attachments": {},
   "cell_type": "markdown",
   "metadata": {},
   "source": [
    "**How does the answer change when N=8 and why?**\n",
    "\n",
    "- 8 MultiProcesses Version, Time = 1.02 s ± 100 ms per loop\n",
    "- 8 Threaded Version, Time = 824 ms ± 25.9 ms per loop\n",
    "\n",
    "The numbers are pretty comparable between the threaded and multiprocess programs when running with 8 process / threads. We do see a slight speed up when using threading rather than multiprocesses, which could be explained by the fact that we are IO bound rather than CPU bound, so the extra overhead for spinning up each process with its own address space increases the time. Threads on the other hand share the same address space, making requiring less overhead and being able to make use of shared variables (like the website list)."
   ]
  },
  {
   "cell_type": "code",
   "execution_count": 19,
   "metadata": {},
   "outputs": [
    {
     "name": "stdout",
     "output_type": "stream",
     "text": [
      "The websie http://really-cool-available-domain.com is down\n",
      "The websie http://another-really-interesting-domain.co is down\n"
     ]
    },
    {
     "name": "stderr",
     "output_type": "stream",
     "text": [
      "WARNING:root:Timeout expired for website http://really-cool-available-domain.com\n",
      "WARNING:root:Timeout expired for website http://another-really-interesting-domain.co\n"
     ]
    },
    {
     "name": "stdout",
     "output_type": "stream",
     "text": [
      "Took 0.8836698532104492s\n"
     ]
    }
   ],
   "source": [
    "from multiprocess_website_uptimer import multiprocess_website_uptimer\n",
    "NUM_PROCESSES = 8\n",
    "multiprocess_website_uptimer(WEBSITE_LIST, NUM_PROCESSES)"
   ]
  },
  {
   "cell_type": "code",
   "execution_count": 20,
   "metadata": {},
   "outputs": [
    {
     "name": "stderr",
     "output_type": "stream",
     "text": [
      "WARNING:root:Website http://stackoverflow.com returned status_code=406\n",
      "WARNING:root:Timeout expired for website http://really-cool-available-domain.com\n",
      "WARNING:root:Timeout expired for website http://another-really-interesting-domain.co\n"
     ]
    },
    {
     "name": "stdout",
     "output_type": "stream",
     "text": [
      "Took 0.7726471424102783s\n"
     ]
    }
   ],
   "source": [
    "NUM_THREADS = 8\n",
    "threaded_website_uptimer(WEBSITE_LIST, NUM_THREADS)"
   ]
  },
  {
   "cell_type": "code",
   "execution_count": 21,
   "metadata": {},
   "outputs": [
    {
     "name": "stderr",
     "output_type": "stream",
     "text": [
      "WARNING:root:Website http://stackoverflow.com returned status_code=429\n",
      "WARNING:root:Timeout expired for website http://really-cool-available-domain.com\n",
      "WARNING:root:Timeout expired for website http://another-really-interesting-domain.co\n",
      "WARNING:root:Website http://stackoverflow.com returned status_code=429\n",
      "WARNING:root:Timeout expired for website http://really-cool-available-domain.com\n"
     ]
    },
    {
     "name": "stdout",
     "output_type": "stream",
     "text": [
      "Took 0.803419828414917s\n"
     ]
    },
    {
     "name": "stderr",
     "output_type": "stream",
     "text": [
      "WARNING:root:Timeout expired for website http://another-really-interesting-domain.co\n",
      "WARNING:root:Website http://stackoverflow.com returned status_code=429\n",
      "WARNING:root:Timeout expired for website http://really-cool-available-domain.com\n",
      "WARNING:root:Timeout expired for website http://another-really-interesting-domain.co\n"
     ]
    },
    {
     "name": "stdout",
     "output_type": "stream",
     "text": [
      "Took 0.7941670417785645s\n"
     ]
    },
    {
     "name": "stderr",
     "output_type": "stream",
     "text": [
      "WARNING:root:Timeout expired for website http://really-cool-available-domain.com\n",
      "WARNING:root:Website http://stackoverflow.com returned status_code=429\n",
      "WARNING:root:Timeout expired for website http://another-really-interesting-domain.co\n"
     ]
    },
    {
     "name": "stdout",
     "output_type": "stream",
     "text": [
      "Took 0.7443621158599854s\n"
     ]
    },
    {
     "name": "stderr",
     "output_type": "stream",
     "text": [
      "WARNING:root:Website http://stackoverflow.com returned status_code=429\n",
      "WARNING:root:Timeout expired for website http://really-cool-available-domain.com\n",
      "WARNING:root:Timeout expired for website http://another-really-interesting-domain.co\n"
     ]
    },
    {
     "name": "stdout",
     "output_type": "stream",
     "text": [
      "Took 0.792698860168457s\n"
     ]
    },
    {
     "name": "stderr",
     "output_type": "stream",
     "text": [
      "WARNING:root:Website http://stackoverflow.com returned status_code=429\n",
      "WARNING:root:Timeout expired for website http://really-cool-available-domain.com\n"
     ]
    },
    {
     "name": "stdout",
     "output_type": "stream",
     "text": [
      "Took 0.8574557304382324s\n"
     ]
    },
    {
     "name": "stderr",
     "output_type": "stream",
     "text": [
      "WARNING:root:Timeout expired for website http://another-really-interesting-domain.co\n",
      "WARNING:root:Website http://stackoverflow.com returned status_code=429\n",
      "WARNING:root:Timeout expired for website http://really-cool-available-domain.com\n",
      "WARNING:root:Timeout expired for website http://another-really-interesting-domain.co\n"
     ]
    },
    {
     "name": "stdout",
     "output_type": "stream",
     "text": [
      "Took 0.7735133171081543s\n"
     ]
    },
    {
     "name": "stderr",
     "output_type": "stream",
     "text": [
      "WARNING:root:Website http://stackoverflow.com returned status_code=429\n",
      "WARNING:root:Timeout expired for website http://really-cool-available-domain.com\n",
      "WARNING:root:Timeout expired for website http://another-really-interesting-domain.co\n"
     ]
    },
    {
     "name": "stdout",
     "output_type": "stream",
     "text": [
      "Took 1.3289809226989746s\n"
     ]
    },
    {
     "name": "stderr",
     "output_type": "stream",
     "text": [
      "WARNING:root:Website http://stackoverflow.com returned status_code=429\n",
      "WARNING:root:Timeout expired for website http://really-cool-available-domain.com\n",
      "WARNING:root:Timeout expired for website http://another-really-interesting-domain.co\n"
     ]
    },
    {
     "name": "stdout",
     "output_type": "stream",
     "text": [
      "Took 0.7256917953491211s\n"
     ]
    },
    {
     "name": "stderr",
     "output_type": "stream",
     "text": [
      "WARNING:root:Website http://stackoverflow.com returned status_code=429\n",
      "WARNING:root:Timeout expired for website http://really-cool-available-domain.com\n",
      "WARNING:root:Timeout expired for website http://another-really-interesting-domain.co\n"
     ]
    },
    {
     "name": "stdout",
     "output_type": "stream",
     "text": [
      "Took 0.7036731243133545s\n",
      "Took 0.718595027923584s\n",
      "824 ms ± 25.9 ms per loop (mean ± std. dev. of 2 runs, 5 loops each)\n"
     ]
    }
   ],
   "source": [
    "%timeit -r 2 -n 5 threaded_website_uptimer(WEBSITE_LIST, 8)"
   ]
  },
  {
   "cell_type": "code",
   "execution_count": 22,
   "metadata": {},
   "outputs": [
    {
     "name": "stderr",
     "output_type": "stream",
     "text": [
      "WARNING:root:Website http://stackoverflow.com returned status_code=429\n",
      "WARNING:root:Timeout expired for website http://really-cool-available-domain.com\n",
      "WARNING:root:Timeout expired for website http://another-really-interesting-domain.co\n"
     ]
    },
    {
     "name": "stdout",
     "output_type": "stream",
     "text": [
      "The websie http://stackoverflow.com is down\n",
      "The websie http://really-cool-available-domain.com is down\n",
      "The websie http://another-really-interesting-domain.co is down\n",
      "Took 0.8968989849090576s\n"
     ]
    },
    {
     "name": "stderr",
     "output_type": "stream",
     "text": [
      "WARNING:root:Website http://stackoverflow.com returned status_code=429\n",
      "WARNING:root:Timeout expired for website http://really-cool-available-domain.com\n",
      "WARNING:root:Timeout expired for website http://another-really-interesting-domain.co\n"
     ]
    },
    {
     "name": "stdout",
     "output_type": "stream",
     "text": [
      "The websie http://stackoverflow.com is down\n",
      "The websie http://really-cool-available-domain.com is down\n",
      "The websie http://another-really-interesting-domain.co is down\n",
      "Took 0.8091881275177002s\n"
     ]
    },
    {
     "name": "stderr",
     "output_type": "stream",
     "text": [
      "WARNING:root:Website http://stackoverflow.com returned status_code=429\n",
      "WARNING:root:Timeout expired for website http://really-cool-available-domain.com\n",
      "WARNING:root:Timeout expired for website http://another-really-interesting-domain.co\n"
     ]
    },
    {
     "name": "stdout",
     "output_type": "stream",
     "text": [
      "The websie http://stackoverflow.com is down\n",
      "The websie http://really-cool-available-domain.com is down\n",
      "The websie http://another-really-interesting-domain.co is down\n",
      "Took 1.029736042022705s\n"
     ]
    },
    {
     "name": "stderr",
     "output_type": "stream",
     "text": [
      "WARNING:root:Website http://stackoverflow.com returned status_code=429\n",
      "WARNING:root:Timeout expired for website http://really-cool-available-domain.com\n",
      "WARNING:root:Timeout expired for website http://another-really-interesting-domain.co\n"
     ]
    },
    {
     "name": "stdout",
     "output_type": "stream",
     "text": [
      "The websie http://stackoverflow.com is down\n",
      "The websie http://really-cool-available-domain.com is down\n",
      "The websie http://another-really-interesting-domain.co is down\n",
      "Took 0.9217569828033447s\n",
      "The websie http://stackoverflow.com is down\n",
      "The websie http://really-cool-available-domain.com is down\n",
      "The websie http://another-really-interesting-domain.co is down\n"
     ]
    },
    {
     "name": "stderr",
     "output_type": "stream",
     "text": [
      "WARNING:root:Website http://stackoverflow.com returned status_code=429\n",
      "WARNING:root:Timeout expired for website http://really-cool-available-domain.com\n",
      "WARNING:root:Timeout expired for website http://another-really-interesting-domain.co\n"
     ]
    },
    {
     "name": "stdout",
     "output_type": "stream",
     "text": [
      "Took 0.9243528842926025s\n"
     ]
    },
    {
     "name": "stderr",
     "output_type": "stream",
     "text": [
      "WARNING:root:Website http://stackoverflow.com returned status_code=429\n",
      "WARNING:root:Timeout expired for website http://really-cool-available-domain.com\n",
      "WARNING:root:Timeout expired for website http://another-really-interesting-domain.co\n"
     ]
    },
    {
     "name": "stdout",
     "output_type": "stream",
     "text": [
      "The websie http://stackoverflow.com is down\n",
      "The websie http://really-cool-available-domain.com is down\n",
      "The websie http://another-really-interesting-domain.co is down\n",
      "The websie http://baidu.com is down\n",
      "Took 0.9200723171234131s\n"
     ]
    },
    {
     "name": "stderr",
     "output_type": "stream",
     "text": [
      "WARNING:root:Timeout expired for website http://baidu.com\n",
      "WARNING:root:Website http://stackoverflow.com returned status_code=429\n",
      "WARNING:root:Timeout expired for website http://really-cool-available-domain.com\n",
      "WARNING:root:Timeout expired for website http://another-really-interesting-domain.co\n"
     ]
    },
    {
     "name": "stdout",
     "output_type": "stream",
     "text": [
      "The websie http://stackoverflow.com is down\n",
      "The websie http://really-cool-available-domain.com is down\n",
      "The websie http://another-really-interesting-domain.co is down\n",
      "Took 1.2697200775146484s\n"
     ]
    },
    {
     "name": "stderr",
     "output_type": "stream",
     "text": [
      "WARNING:root:Website http://stackoverflow.com returned status_code=429\n",
      "WARNING:root:Timeout expired for website http://really-cool-available-domain.com\n",
      "WARNING:root:Timeout expired for website http://another-really-interesting-domain.co\n"
     ]
    },
    {
     "name": "stdout",
     "output_type": "stream",
     "text": [
      "The websie http://stackoverflow.com is down\n",
      "The websie http://really-cool-available-domain.com is down\n",
      "The websie http://another-really-interesting-domain.co is down\n",
      "Took 0.8762547969818115s\n"
     ]
    },
    {
     "name": "stderr",
     "output_type": "stream",
     "text": [
      "WARNING:root:Website http://stackoverflow.com returned status_code=429\n",
      "WARNING:root:Timeout expired for website http://really-cool-available-domain.com\n",
      "WARNING:root:Timeout expired for website http://another-really-interesting-domain.co\n"
     ]
    },
    {
     "name": "stdout",
     "output_type": "stream",
     "text": [
      "The websie http://stackoverflow.com is down\n",
      "The websie http://really-cool-available-domain.com is down\n",
      "The websie http://another-really-interesting-domain.co is down\n",
      "Took 1.252098798751831s\n"
     ]
    },
    {
     "name": "stderr",
     "output_type": "stream",
     "text": [
      "WARNING:root:Website http://stackoverflow.com returned status_code=429\n",
      "WARNING:root:Timeout expired for website http://really-cool-available-domain.com\n",
      "WARNING:root:Timeout expired for website http://another-really-interesting-domain.co\n"
     ]
    },
    {
     "name": "stdout",
     "output_type": "stream",
     "text": [
      "The websie http://stackoverflow.com is down\n",
      "The websie http://really-cool-available-domain.com is down\n",
      "The websie http://another-really-interesting-domain.co is down\n"
     ]
    },
    {
     "name": "stderr",
     "output_type": "stream",
     "text": [
      "WARNING:root:Timeout expired for website http://baidu.com\n"
     ]
    },
    {
     "name": "stdout",
     "output_type": "stream",
     "text": [
      "The websie http://baidu.com is down\n",
      "Took 1.2650649547576904s\n",
      "1.02 s ± 100 ms per loop (mean ± std. dev. of 2 runs, 5 loops each)\n"
     ]
    }
   ],
   "source": [
    "%timeit -r 2 -n 5 multiprocess_website_uptimer(WEBSITE_LIST, 8)"
   ]
  }
 ],
 "metadata": {
  "kernelspec": {
   "display_name": "base",
   "language": "python",
   "name": "python3"
  },
  "language_info": {
   "codemirror_mode": {
    "name": "ipython",
    "version": 3
   },
   "file_extension": ".py",
   "mimetype": "text/x-python",
   "name": "python",
   "nbconvert_exporter": "python",
   "pygments_lexer": "ipython3",
   "version": "3.9.13"
  },
  "vscode": {
   "interpreter": {
    "hash": "38cca0c38332a56087b24af0bc80247f4fced29cb4f7f437d91dc159adec9c4e"
   }
  }
 },
 "nbformat": 4,
 "nbformat_minor": 2
}
