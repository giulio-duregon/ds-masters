{
 "cells": [
  {
   "cell_type": "markdown",
   "metadata": {},
   "source": [
    "## Homework 03\n",
    "\n",
    "### Due Date: Feb 22, 2023, 4:00PM\n",
    "\n",
    "### Student's Name: \n",
    "Giulio Duregon\n",
    "### Student's e-mail:\n",
    "gjd9961@nyu.edu"
   ]
  },
  {
   "cell_type": "markdown",
   "metadata": {},
   "source": [
    "### Problem 1. (15 points)\n",
    "\n",
    "- 1.1. (5 points)    \n",
    "By using **count from itertools** make a generator which produces all numbers from 0 to 1000 (including the two) divisible by 5. "
   ]
  },
  {
   "cell_type": "code",
   "execution_count": 2,
   "metadata": {},
   "outputs": [
    {
     "name": "stdout",
     "output_type": "stream",
     "text": [
      "0\n",
      "5\n",
      "10\n",
      "15\n"
     ]
    }
   ],
   "source": [
    "import itertools\n",
    "\n",
    "# Answer\n",
    "def div_5_gen():\n",
    "    for i in itertools.count(0,5):\n",
    "        if i > 1000:\n",
    "            break\n",
    "        yield i\n",
    "        \n",
    "# Testing the answer for 0-20\n",
    "for i in div_5_gen():\n",
    "    if i < 20:\n",
    "        print(i)\n",
    "    else:\n",
    "        break"
   ]
  },
  {
   "cell_type": "markdown",
   "metadata": {},
   "source": [
    "- 1.2. (5 points)  \n",
    "From the obtained generator produce a list of numbers that are not divisible by 25. "
   ]
  },
  {
   "cell_type": "code",
   "execution_count": 13,
   "metadata": {},
   "outputs": [
    {
     "name": "stdout",
     "output_type": "stream",
     "text": [
      "5\n",
      "10\n",
      "15\n",
      "20\n",
      "30\n"
     ]
    }
   ],
   "source": [
    "# Problem Answer\n",
    "def div_5_gen_not_25():\n",
    "    for i in div_5_gen():\n",
    "        if i % 25 != 0:\n",
    "            yield i\n",
    "        \n",
    "# Test answer using values 0-35\n",
    "for i in div_5_gen_not_25():\n",
    "    if i < 35:\n",
    "        print(i)\n",
    "    else:\n",
    "        break\n",
    "    \n",
    "# Get list of numbers\n",
    "output_list = list(div_5_gen_not_25())"
   ]
  },
  {
   "cell_type": "markdown",
   "metadata": {},
   "source": [
    "- 1.3. (5 points)  \n",
    "Print the list and the length of the list."
   ]
  },
  {
   "cell_type": "code",
   "execution_count": 15,
   "metadata": {},
   "outputs": [
    {
     "name": "stdout",
     "output_type": "stream",
     "text": [
      "List:  [5, 10, 15, 20, 30, 35, 40, 45, 55, 60, 65, 70, 80, 85, 90, 95, 105, 110, 115, 120, 130, 135, 140, 145, 155, 160, 165, 170, 180, 185, 190, 195, 205, 210, 215, 220, 230, 235, 240, 245, 255, 260, 265, 270, 280, 285, 290, 295, 305, 310, 315, 320, 330, 335, 340, 345, 355, 360, 365, 370, 380, 385, 390, 395, 405, 410, 415, 420, 430, 435, 440, 445, 455, 460, 465, 470, 480, 485, 490, 495, 505, 510, 515, 520, 530, 535, 540, 545, 555, 560, 565, 570, 580, 585, 590, 595, 605, 610, 615, 620, 630, 635, 640, 645, 655, 660, 665, 670, 680, 685, 690, 695, 705, 710, 715, 720, 730, 735, 740, 745, 755, 760, 765, 770, 780, 785, 790, 795, 805, 810, 815, 820, 830, 835, 840, 845, 855, 860, 865, 870, 880, 885, 890, 895, 905, 910, 915, 920, 930, 935, 940, 945, 955, 960, 965, 970, 980, 985, 990, 995]\n",
      "Length:  160\n"
     ]
    }
   ],
   "source": [
    "print(\"List: \", output_list)\n",
    "print(\"Length: \", len(output_list))"
   ]
  },
  {
   "cell_type": "markdown",
   "metadata": {},
   "source": [
    "## Problem 2. (20 points) \n",
    "\n",
    "Write three functions to calculate n! (n factorial) for a given non-negative integer n: \n",
    "\n",
    "- 2.1 (5 points)  \n",
    "f_rec(n) in a recursive way  (in a simplest way without memoization)  "
   ]
  },
  {
   "cell_type": "code",
   "execution_count": 5,
   "metadata": {},
   "outputs": [],
   "source": [
    "def f_rec(n: int):\n",
    "    if n <= 0:\n",
    "        return 1\n",
    "    else:\n",
    "        return f_rec(n-1) * n"
   ]
  },
  {
   "cell_type": "markdown",
   "metadata": {},
   "source": [
    "- 2.2 (5 points)  \n",
    "- f_it(n) in an iterative way"
   ]
  },
  {
   "cell_type": "code",
   "execution_count": 6,
   "metadata": {},
   "outputs": [],
   "source": [
    "def f_it(n: int) -> int:\n",
    "    sum=1\n",
    "    for i in range(1,n+1):\n",
    "        sum *= i\n",
    "    return sum"
   ]
  },
  {
   "cell_type": "markdown",
   "metadata": {},
   "source": [
    "- 2.3 (10 points)  \n",
    "- f_acc(n) by using \"accumulate\" from itertools. "
   ]
  },
  {
   "cell_type": "code",
   "execution_count": 7,
   "metadata": {},
   "outputs": [],
   "source": [
    "import itertools\n",
    "import operator\n",
    "def f_acc(n: int) -> int:\n",
    "    return list(itertools.accumulate(range(1,n+1), operator.mul))[-1]"
   ]
  },
  {
   "cell_type": "markdown",
   "metadata": {},
   "source": [
    "Note the ratios of the expected run-times: \n",
    "1. f_rec(n=1000) and f_it(n=1000)"
   ]
  },
  {
   "cell_type": "code",
   "execution_count": 16,
   "metadata": {},
   "outputs": [
    {
     "name": "stdout",
     "output_type": "stream",
     "text": [
      "353 µs ± 2.91 µs per loop (mean ± std. dev. of 7 runs, 1,000 loops each)\n",
      "277 µs ± 1.43 µs per loop (mean ± std. dev. of 7 runs, 1,000 loops each)\n"
     ]
    }
   ],
   "source": [
    "%timeit -n 1000 f_rec(1000)\n",
    "%timeit -n 1000 f_it(1000)"
   ]
  },
  {
   "cell_type": "markdown",
   "metadata": {},
   "source": [
    "and \n",
    "2. f_acc(n=1000) and f_it(n=1000)"
   ]
  },
  {
   "cell_type": "code",
   "execution_count": 17,
   "metadata": {},
   "outputs": [
    {
     "name": "stdout",
     "output_type": "stream",
     "text": [
      "285 µs ± 3.3 µs per loop (mean ± std. dev. of 7 runs, 1,000 loops each)\n",
      "276 µs ± 791 ns per loop (mean ± std. dev. of 7 runs, 1,000 loops each)\n"
     ]
    }
   ],
   "source": [
    "%timeit -n 1000 f_acc(1000)\n",
    "%timeit -n 1000 f_it(1000)"
   ]
  },
  {
   "cell_type": "markdown",
   "metadata": {},
   "source": [
    "# Problem 3 (35 points) \n",
    "\n",
    "- 3.1 (5 points)  \n",
    "Write a function  `perm_generator(n)`, which for a given positive integer $n$, returns a generator with all permutations of the set  $\\{0, 1, 2 , \\dots n - 1\\}$."
   ]
  },
  {
   "cell_type": "code",
   "execution_count": 89,
   "metadata": {},
   "outputs": [
    {
     "name": "stdout",
     "output_type": "stream",
     "text": [
      "(0, 1, 2)\n",
      "(0, 2, 1)\n",
      "(1, 0, 2)\n",
      "(1, 2, 0)\n",
      "(2, 0, 1)\n",
      "(2, 1, 0)\n"
     ]
    }
   ],
   "source": [
    "import itertools\n",
    "def perm_generator(n: int):\n",
    "    for i in itertools.permutations(range(n)):\n",
    "        yield i\n",
    "        \n",
    "# Test Answer:\n",
    "for i in perm_generator(3):\n",
    "    print(i)"
   ]
  },
  {
   "cell_type": "markdown",
   "metadata": {},
   "source": [
    "- 3.2 (10 points)  \n",
    "Write a function  `comb_generator(n, k)`, which for given non-negative integers $n, k$ where $n  \\geq k$, returns a generator with all combinations of size $k$ on the set  $\\{0, 1, 2 , \\dots n - 1\\}$."
   ]
  },
  {
   "cell_type": "code",
   "execution_count": 87,
   "metadata": {},
   "outputs": [
    {
     "name": "stdout",
     "output_type": "stream",
     "text": [
      "(0, 1)\n",
      "(0, 2)\n",
      "(0, 3)\n",
      "(1, 2)\n",
      "(1, 3)\n",
      "(2, 3)\n"
     ]
    }
   ],
   "source": [
    "import itertools\n",
    "\n",
    "# Answer\n",
    "def comb_generator(n: int, k: int):\n",
    "    if n < k:\n",
    "        raise Exception(f\"n must be >= k!, you entered n: {n}, k: {k}\")\n",
    "    else:\n",
    "        for i in itertools.combinations(range(n),k):\n",
    "            yield i\n",
    "            \n",
    "# Test Answer:\n",
    "for i in comb_generator(4,2):\n",
    "    print(i)"
   ]
  },
  {
   "cell_type": "markdown",
   "metadata": {},
   "source": [
    "- 3.3 (20 points)    \n",
    "Write a function `h_generator(n)`,  which for a given positive integer $n$, returns a generator with all permutations of the set  $\\{0, 1, 2 , \\dots n - 1\\}$ such that for all  $i = 0, 1, 2, \\dots, n−1$ the number $i$ is not at the $i$-th position."
   ]
  },
  {
   "cell_type": "code",
   "execution_count": 95,
   "metadata": {},
   "outputs": [
    {
     "name": "stdout",
     "output_type": "stream",
     "text": [
      "(1, 0, 3, 2)\n",
      "(1, 2, 3, 0)\n",
      "(1, 3, 0, 2)\n",
      "(2, 0, 3, 1)\n",
      "(2, 3, 0, 1)\n",
      "(2, 3, 1, 0)\n",
      "(3, 0, 1, 2)\n",
      "(3, 2, 0, 1)\n",
      "(3, 2, 1, 0)\n"
     ]
    }
   ],
   "source": [
    "import itertools\n",
    "\n",
    "# Helper function\n",
    "def helper(iterable):\n",
    "    for i in range(len(iterable)):\n",
    "        if iterable[i] == i:\n",
    "            return True\n",
    "    return False\n",
    "\n",
    "# Answer\n",
    "def h_generator(n: int):\n",
    "    for val in itertools.filterfalse(helper,itertools.permutations(range(n))):\n",
    "        yield val\n",
    "            \n",
    "# Test Answer:\n",
    "for i in h_generator(4):\n",
    "    print(i)"
   ]
  },
  {
   "cell_type": "markdown",
   "metadata": {},
   "source": [
    "## Problem 4 (30 points) \n",
    "\n",
    "\n",
    "By using **starmap** from **itertools** write a function that returns a generator that produces all distances for a given input list of points, in the two-dimensional coordinate system.\n",
    "\n",
    "In more detail, for a given input list of points $\\textrm{list\\_of\\_points} = [p_0, p_1, \\dots, p_{n - 1}]$, write a function: \n",
    "\n",
    "$$\\textrm{f\\_distances(list\\_of\\_points)}$$\n",
    "\n",
    "that returns a generator that produces tuples $(p_i, p_j, ||p_i - p_j||)$, (where each tuple stores the point i, point j and their Euclidean distance). (There are $n(n - 1) / 2$ tuples.)\n",
    "\n",
    "\n",
    "For example: \n",
    "\n",
    "- input: For 3 points as $\\textrm{list\\_of\\_points} = [(0, 0), (0, 1), (1, 0)]$\n",
    "\n",
    "- output: A generator that produces ${3 \\choose 2} = 3$ tuples: $((0, 0), (0, 1), 1); ((0, 0), (1, 0), 1); ((0, 1), (1, 0), \\sqrt{2})$.\n",
    "\n"
   ]
  },
  {
   "cell_type": "code",
   "execution_count": 255,
   "metadata": {},
   "outputs": [
    {
     "name": "stdout",
     "output_type": "stream",
     "text": [
      "((0, 0), (0, 1), 1.0)\n",
      "((0, 0), (1, 0), 1.0)\n",
      "((0, 1), (1, 0), 1.4142135623730951)\n"
     ]
    }
   ],
   "source": [
    "import itertools\n",
    "\n",
    "# Answer: \n",
    "def f_distances(list_of_points):\n",
    "    for distance in itertools.starmap(lambda x,y: \n",
    "        (x,y,((x[0]-y[0])**2 + (x[1]-y[1])**2)**(1/2)),\n",
    "        itertools.combinations(list_of_points,2)):\n",
    "        yield (distance)\n",
    "        \n",
    "# Test Output\n",
    "list_of_points = [(0, 0), (0, 1), (1,0)]\n",
    "for val in f_distances(list_of_points):\n",
    "    print(val)"
   ]
  },
  {
   "cell_type": "code",
   "execution_count": null,
   "metadata": {},
   "outputs": [],
   "source": []
  }
 ],
 "metadata": {
  "kernelspec": {
   "display_name": "Python 3 (ipykernel)",
   "language": "python",
   "name": "python3"
  },
  "language_info": {
   "codemirror_mode": {
    "name": "ipython",
    "version": 3
   },
   "file_extension": ".py",
   "mimetype": "text/x-python",
   "name": "python",
   "nbconvert_exporter": "python",
   "pygments_lexer": "ipython3",
   "version": "3.9.13"
  },
  "vscode": {
   "interpreter": {
    "hash": "38cca0c38332a56087b24af0bc80247f4fced29cb4f7f437d91dc159adec9c4e"
   }
  }
 },
 "nbformat": 4,
 "nbformat_minor": 2
}
