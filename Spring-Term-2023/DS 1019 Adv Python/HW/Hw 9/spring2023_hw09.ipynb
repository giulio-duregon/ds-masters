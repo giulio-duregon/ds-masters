{
 "cells": [
  {
   "cell_type": "markdown",
   "metadata": {},
   "source": [
    "## Homework 09:  Parallel Programming 02\n",
    "\n",
    "## Due Date: Apr 19, 2023, 11:59pm\n",
    "\n",
    "#### Firstname Lastname: \n",
    "\n",
    "#### E-mail: \n",
    "\n",
    "#### Enter your solutions and submit this notebook"
   ]
  },
  {
   "cell_type": "markdown",
   "metadata": {},
   "source": [
    "---\n",
    "\n",
    "**Problem 1 (40p)**\n",
    "\n",
    "In this problem the goal is to calculate the mean and standard deviation of a large list of numbers by using Reduction as one of Collective Operations, see Lecture 11. \n",
    "\n",
    "\n",
    "Consider $N = 256000$ random variables uniform on $[0, 1]$, call these $x_0, x_1, \\dots, x_{N - 1}$.  \n",
    "\n",
    "\n",
    "Write an MPI program with $N=16$ processes that outputs the average and standard deviation of $x_0, x_1, \\dots, x_{N - 1}$.\n",
    "\n",
    "\n",
    "To simplify the problem, let one process, say `Process 0`, independently draws $N$ samples uniformly on $[0, 1]$.\n",
    "\n",
    "How do you explain the results?\n",
    "\n",
    "\n",
    "**Instructions:** \n",
    "Your program should use MPI4PY and collective operations. \n",
    "Save your program as 2020_spring_sol09_pr01.py and run it from the terminal as:\n",
    "\n",
    "```\n",
    "mpirun -n 16 python 2020_spring_sol09_pr01.py\n",
    "```\n"
   ]
  },
  {
   "cell_type": "markdown",
   "metadata": {},
   "source": [
    "\n",
    "---\n",
    "**Problem 2 (60p)**\n",
    "\n",
    "In this problem the goal is to demonstrate how one can use a Domain Decomposition and  Collective Operations. \n",
    "\n",
    "Consider the exponential distribution $X \\sim \\textrm{Exp}(1)$ with the unit mean. Find numerical approximations of moments of the exponential random variable. \n",
    "\n",
    "That is, for a random variable $X$ with the distribution $f(x) = e^{-x}$ for $x \\geq 0$, compute the first $15$ moments, where the $k$-th moment is defined as:\n",
    "$$I_k = \\int_{0}^{\\infty} x^k f(x) dx.$$\n",
    "\n",
    "\n",
    "Your program should use MPI parallel collective instructions, where the integration is performed in parallel over $N=16$ processes, over a finite range $[0, M)$, where $M=1000$, with $N = 16$ partitions and $1000$ increments per partition, see Lecture 10 and 11.\n",
    "\n",
    "Provide evaluations of $J_1, J_2, \\dots, J_{15}$, where $$J_k = \\int_{0}^{M} x^k f(x) dx.$$\n",
    "\n",
    "\n",
    "**Instructions:** \n",
    "\n",
    "Save your program as 2020_sol09_pr02.py; and run it from the terminal as:\n",
    "\n",
    "```\n",
    "mpirun -n 16 python 2020_spring_sol09_pr02.py\n",
    "```\n",
    "\n",
    "\n",
    "**Bonus Question (10 points):** \n",
    "\n",
    "What is the value of $I_k$, as a function of $k$? How can it be derived?"
   ]
  }
 ],
 "metadata": {
  "kernelspec": {
   "display_name": "Python 3 (ipykernel)",
   "language": "python",
   "name": "python3"
  },
  "language_info": {
   "codemirror_mode": {
    "name": "ipython",
    "version": 3
   },
   "file_extension": ".py",
   "mimetype": "text/x-python",
   "name": "python",
   "nbconvert_exporter": "python",
   "pygments_lexer": "ipython3",
   "version": "3.9.4"
  }
 },
 "nbformat": 4,
 "nbformat_minor": 2
}
