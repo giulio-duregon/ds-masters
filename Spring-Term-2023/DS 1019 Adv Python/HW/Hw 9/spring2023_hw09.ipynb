{
 "cells": [
  {
   "attachments": {},
   "cell_type": "markdown",
   "metadata": {},
   "source": [
    "## Homework 09:  Parallel Programming 02\n",
    "\n",
    "## Due Date: Apr 19, 2023, 11:59pm\n",
    "\n",
    "#### Firstname Lastname: Giulio Duregon\n",
    "\n",
    "#### E-mail: gjd9961@nyu.edu\n",
    "\n",
    "#### Enter your solutions and submit this notebook"
   ]
  },
  {
   "attachments": {},
   "cell_type": "markdown",
   "metadata": {},
   "source": [
    "---\n",
    "\n",
    "**Problem 1 (40p)**\n",
    "\n",
    "In this problem the goal is to calculate the mean and standard deviation of a large list of numbers by using Reduction as one of Collective Operations, see Lecture 11. \n",
    "\n",
    "\n",
    "Consider $N = 256000$ random variables uniform on $[0, 1]$, call these $x_0, x_1, \\dots, x_{N - 1}$.  \n",
    "\n",
    "\n",
    "Write an MPI program with $N=16$ processes that outputs the average and standard deviation of $x_0, x_1, \\dots, x_{N - 1}$.\n",
    "\n",
    "\n",
    "To simplify the problem, let one process, say `Process 0`, independently draws $N$ samples uniformly on $[0, 1]$.\n",
    "\n",
    "How do you explain the results?\n"
   ]
  },
  {
   "cell_type": "code",
   "execution_count": 138,
   "metadata": {},
   "outputs": [
    {
     "name": "stdout",
     "output_type": "stream",
     "text": [
      "Overwriting 2020_spring_sol09_pr01.py\n"
     ]
    }
   ],
   "source": [
    "%%writefile 2020_spring_sol09_pr01.py\n",
    "import numpy as np\n",
    "from mpi4py import MPI\n",
    "from time import time\n",
    "\n",
    "# Standard Setup for MPI\n",
    "comm = MPI.COMM_WORLD\n",
    "rank = comm.Get_rank()\n",
    "size = comm.Get_size()\n",
    "root = 0\n",
    "\n",
    "\n",
    "# Helper function for computing averages\n",
    "def chunk_average(points, n):\n",
    "    return np.divide(np.sum(points),n)\n",
    "\n",
    "def chunk_std(points, mean, n):\n",
    "    return np.divide(np.sum(np.power(np.subtract(points, mean),2)),n)\n",
    "\n",
    "# Number of samples to draw\n",
    "n = 256_000\n",
    "\n",
    "# Compute partition\n",
    "num_points_per_process = (n // size)\n",
    "\n",
    "# Let Process 0 Draw Samples, and hold final values\n",
    "if rank == 0:\n",
    "    start_time = time()\n",
    "    samples = np.random.uniform(0,1,n)\n",
    "    target_average = np.zeros(1, dtype=float)\n",
    "    target_std = np.zeros(1, dtype=float)\n",
    "else:\n",
    "    # Need to be initialized to avoid errors\n",
    "    samples = None\n",
    "    target_average = np.zeros(1,dtype=float)\n",
    "    target_std = np.zeros(1,dtype=float)\n",
    "\n",
    "# Temp buffers for all processes\n",
    "helper_average = np.zeros(1, dtype=float)\n",
    "helper_std = np.zeros(1, dtype=float)\n",
    "\n",
    "# Provide buffer for all samples\n",
    "small_samples = np.zeros(num_points_per_process, dtype=float)\n",
    "\n",
    "# Scatter the points\n",
    "comm.Scatter(samples, small_samples, root=root)\n",
    "\n",
    "#Perform Average calculation on each chunk (N is Global here)\n",
    "helper_average = chunk_average(small_samples, n)\n",
    "\n",
    "# Reduce The Helper averages -> Target Average (True avg of all points)\n",
    "comm.Reduce(helper_average, target_average, op=MPI.SUM, root=root)\n",
    "\n",
    "# Force Synchronization before sending the average back out\n",
    "# (Used in std calculation)\n",
    "\n",
    "comm.Bcast(target_average, root=root)\n",
    "\n",
    "# # Perform standard deviation calcs on chunks\n",
    "helper_std = chunk_std(small_samples, target_average, n)\n",
    "\n",
    "# Send back and reduce into a sum\n",
    "comm.Reduce(helper_std, target_std, op=MPI.SUM, root=root)\n",
    "\n",
    "if rank == 0:\n",
    "    target_std = np.sqrt(target_std)\n",
    "    \n",
    "if rank == 0:\n",
    "    print(f\"Time Elapsed: {time()-start_time}s\")\n",
    "    print(f\"target_average={target_average}\")\n",
    "    print(f\"target_std={target_std}\")"
   ]
  },
  {
   "cell_type": "code",
   "execution_count": 66,
   "metadata": {},
   "outputs": [
    {
     "name": "stdout",
     "output_type": "stream",
     "text": [
      "Time Elapsed: 0.012256860733032227s\n",
      "target_average=[0.5004913]\n",
      "target_std=[0.28894069]\n",
      "--------------------------------------------------------------------------\n",
      "A system call failed during shared memory initialization that should\n",
      "not have.  It is likely that your MPI job will now either abort or\n",
      "experience performance degradation.\n",
      "\n",
      "  Local host:  Giulios-MBP.lan\n",
      "  System call: unlink(2) /var/folders/rk/rwsr6gss0vz3g4fz3_kt0x0m0000gn/T//ompi.Giulios-MBP.501/pid.3718/1/vader_segment.Giulios-MBP.501.5c7d0001.11\n",
      "  Error:       No such file or directory (errno 2)\n",
      "--------------------------------------------------------------------------\n"
     ]
    }
   ],
   "source": [
    "!mpirun -n 16 --oversubscribe python 2020_spring_sol09_pr01.py"
   ]
  },
  {
   "attachments": {},
   "cell_type": "markdown",
   "metadata": {},
   "source": [
    "\n",
    "---\n",
    "**Problem 2 (60p)**\n",
    "\n",
    "In this problem the goal is to demonstrate how one can use a Domain Decomposition and  Collective Operations. \n",
    "\n",
    "Consider the exponential distribution $X \\sim \\textrm{Exp}(1)$ with the unit mean. Find numerical approximations of moments of the exponential random variable. \n",
    "\n",
    "That is, for a random variable $X$ with the distribution $f(x) = e^{-x}$ for $x \\geq 0$, compute the first $15$ moments, where the $k$-th moment is defined as:\n",
    "$$I_k = \\int_{0}^{\\infty} x^k f(x) dx.$$\n",
    "\n",
    "\n",
    "Your program should use MPI parallel collective instructions, where the integration is performed in parallel over $N=16$ processes, over a finite range $[0, M)$, where $M=1000$, with $N = 16$ partitions and $1000$ increments per partition, see Lecture 10 and 11.\n",
    "\n",
    "Provide evaluations of $J_1, J_2, \\dots, J_{15}$, where $$J_k = \\int_{0}^{M} x^k f(x) dx.$$\n"
   ]
  },
  {
   "cell_type": "code",
   "execution_count": 171,
   "metadata": {},
   "outputs": [
    {
     "name": "stdout",
     "output_type": "stream",
     "text": [
      "Overwriting 2020_spring_sol09_pr02.py\n"
     ]
    }
   ],
   "source": [
    "%%writefile 2020_spring_sol09_pr02.py\n",
    "import numpy as np\n",
    "from mpi4py import MPI\n",
    "\n",
    "# Standard Setup for MPI\n",
    "comm = MPI.COMM_WORLD\n",
    "rank = comm.Get_rank()\n",
    "size = comm.Get_size()\n",
    "root = 0\n",
    "\n",
    "# Define helper function for integral calculation\n",
    "def integral(start, stop, moment, inc_per_partition=1000):\n",
    "    partial_int = np.zeros(1, dtype=float)\n",
    "    step_size = (stop - start)/ inc_per_partition\n",
    "    x = start\n",
    "    for _ in range(inc_per_partition):\n",
    "        partial_int += np.multiply(np.power(x,moment), np.exp(-x))\n",
    "        x += step_size\n",
    "    return np.multiply(partial_int, step_size)\n",
    "        \n",
    "\n",
    "start, stop = 0, 1000\n",
    "temp_start = 0\n",
    "N = 16\n",
    "range_per_process = (stop - start) // N\n",
    "inc_per_partition = 1000\n",
    "\n",
    "worker_res = np.zeros(1)\n",
    "\n",
    "if rank == 0:\n",
    "    work_chunks = []\n",
    "    for _ in range(16):\n",
    "        work_chunks.append((temp_start, temp_start + range_per_process))\n",
    "        temp_start += range_per_process\n",
    "    work_chunks = np.array(work_chunks, dtype=float)\n",
    "    moment_results = np.zeros(16,dtype=float)\n",
    "    moment_chunk = np.zeros(2, dtype=float)\n",
    "    gather_res = np.zeros(1,dtype=float)\n",
    "else:\n",
    "    work_chunks = None\n",
    "    moment_results = None\n",
    "    gather_res = np.zeros(1,dtype=float)\n",
    "    moment_chunk = np.zeros(2, dtype=float)\n",
    "    \n",
    "# Scatter the bits of work to do\n",
    "comm.Scatter(work_chunks, moment_chunk, root=root)\n",
    "\n",
    "for k in range(16):\n",
    "    # Perform integration for ith moment\n",
    "    worker_res[0] = integral(moment_chunk[0], moment_chunk[1], k+1)\n",
    "    comm.Reduce(worker_res, gather_res, MPI.SUM, root)\n",
    "    comm.Barrier()\n",
    "    if rank == 0:\n",
    "        moment_results[k] = gather_res[0]\n",
    "        \n",
    "if rank == 0:\n",
    "    ground_truth_arr = []\n",
    "    ground_truth = 1\n",
    "    for i in range(1,17):\n",
    "        ground_truth *= i\n",
    "        ground_truth_arr.append(ground_truth)\n",
    "    ground_truth_arr = np.array(ground_truth_arr, dtype=float)\n",
    "    \n",
    "    for i in range(0,16):\n",
    "        print(f\"Moment {i+1} result = {moment_results[i]}, Ground Truth: {ground_truth_arr[i]} Error: {np.abs(ground_truth_arr[i]-moment_results[i])}\")"
   ]
  },
  {
   "cell_type": "code",
   "execution_count": 154,
   "metadata": {},
   "outputs": [],
   "source": [
    "!mpirun -n 16 --oversubscribe python 2020_spring_sol09_pr02.py"
   ]
  },
  {
   "cell_type": "markdown",
   "metadata": {},
   "source": [
    "**Bonus Question (10 points):** \n",
    "\n",
    "What is the value of $I_k$, as a function of $k$? How can it be derived?"
   ]
  },
  {
   "attachments": {},
   "cell_type": "markdown",
   "metadata": {},
   "source": [
    "### Bonus Question\n",
    "\n",
    "We have by definition that the $k$-th moment of the exponential distribution is:\n",
    "\n",
    "$$I_k = \\int_{0}^{\\infty} x^k e^{-x} dx.$$\n",
    "\n",
    "We can integrate by parts, to show that: \n",
    "\n",
    "$$I_k = k I_{k-1},$$\n",
    "\n",
    "where $I_0 = 1$.\n",
    "\n",
    "The proof is as follows, by starting with the aforementioned definition:\n",
    "$$I_k = \\int_{0}^{\\infty} x^k e^{-x} dx.$$\n",
    "\n",
    "Integrating by parts (with $u = x^k$) and ($dv = e^{-x} dx$) gives:\n",
    "\n",
    "$$I_k = -x^k e^{-x} \\bigg\\rvert_{0}^{\\infty} + k \\int_{0}^{\\infty} x^{k-1} e^{-x} dx.$$\n",
    "\n",
    "Since $x^k e^{-x} \\rightarrow 0$ as $x \\rightarrow \\infty$, the first term on the right-hand side is zero. Thus, we have:\n",
    "\n",
    "$$I_k = k \\int_{0}^{\\infty} x^{k-1} e^{-x} dx = k I_{k-1}$$ \n",
    "\n",
    "Thus completing the proof\n"
   ]
  }
 ],
 "metadata": {
  "kernelspec": {
   "display_name": "hw_8",
   "language": "python",
   "name": "python3"
  },
  "language_info": {
   "codemirror_mode": {
    "name": "ipython",
    "version": 3
   },
   "file_extension": ".py",
   "mimetype": "text/x-python",
   "name": "python",
   "nbconvert_exporter": "python",
   "pygments_lexer": "ipython3",
   "version": "3.9.16"
  },
  "vscode": {
   "interpreter": {
    "hash": "05534ed6e750634128f4013d25855b1dc3ee83c62a29dea85067392c29148714"
   }
  }
 },
 "nbformat": 4,
 "nbformat_minor": 2
}
